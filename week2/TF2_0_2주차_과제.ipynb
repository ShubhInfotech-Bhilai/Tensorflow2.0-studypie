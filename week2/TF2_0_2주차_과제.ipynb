{
  "nbformat": 4,
  "nbformat_minor": 0,
  "metadata": {
    "colab": {
      "name": "tf2.0 2주차 과제",
      "provenance": []
    },
    "kernelspec": {
      "name": "python3",
      "display_name": "Python 3"
    },
    "accelerator": "GPU"
  },
  "cells": [
    {
      "cell_type": "markdown",
      "metadata": {
        "id": "mT-HiYpy-h-N",
        "colab_type": "text"
      },
      "source": [
        "### overfit and underfit\n",
        "- https://www.tensorflow.org/tutorials/keras/overfit_and_underfit\n",
        "- 1번째"
      ]
    },
    {
      "cell_type": "code",
      "metadata": {
        "id": "ZAElUocy-tKw",
        "colab_type": "code",
        "colab": {
          "base_uri": "https://localhost:8080/",
          "height": 973
        },
        "outputId": "e0223c68-716c-4aa1-9777-bf5fa7804101"
      },
      "source": [
        "from __future__ import absolute_import, division, print_function, unicode_literals, unicode_literals\n",
        "\n",
        "!pip install tf-nightly-2.0-preview\n",
        "import tensorflow as tf\n",
        "from tensorflow import keras\n",
        "\n",
        "import numpy as np\n",
        "import matplotlib.pyplot as plt\n",
        "\n",
        "print(tf.__version__)"
      ],
      "execution_count": 1,
      "outputs": [
        {
          "output_type": "stream",
          "text": [
            "Collecting tf-nightly-2.0-preview\n",
            "\u001b[?25l  Downloading https://files.pythonhosted.org/packages/b8/be/e4e2cc0b4896648fe6d5e45dda6d8c3b784823301708cfe4ff96de9e01cf/tf_nightly_2.0_preview-2.0.0.dev20191002-cp36-cp36m-manylinux2010_x86_64.whl (95.2MB)\n",
            "\u001b[K     |████████████████████████████████| 95.2MB 102kB/s \n",
            "\u001b[?25hRequirement already satisfied: wrapt>=1.11.1 in /usr/local/lib/python3.6/dist-packages (from tf-nightly-2.0-preview) (1.11.2)\n",
            "Requirement already satisfied: numpy<2.0,>=1.16.0 in /usr/local/lib/python3.6/dist-packages (from tf-nightly-2.0-preview) (1.17.4)\n",
            "Requirement already satisfied: keras-preprocessing>=1.0.5 in /usr/local/lib/python3.6/dist-packages (from tf-nightly-2.0-preview) (1.1.0)\n",
            "Requirement already satisfied: gast==0.2.2 in /usr/local/lib/python3.6/dist-packages (from tf-nightly-2.0-preview) (0.2.2)\n",
            "Requirement already satisfied: opt-einsum>=2.3.2 in /usr/local/lib/python3.6/dist-packages (from tf-nightly-2.0-preview) (3.1.0)\n",
            "Requirement already satisfied: six>=1.10.0 in /usr/local/lib/python3.6/dist-packages (from tf-nightly-2.0-preview) (1.12.0)\n",
            "Requirement already satisfied: protobuf>=3.6.1 in /usr/local/lib/python3.6/dist-packages (from tf-nightly-2.0-preview) (3.10.0)\n",
            "Requirement already satisfied: termcolor>=1.1.0 in /usr/local/lib/python3.6/dist-packages (from tf-nightly-2.0-preview) (1.1.0)\n",
            "Requirement already satisfied: wheel>=0.26; python_version >= \"3\" in /usr/local/lib/python3.6/dist-packages (from tf-nightly-2.0-preview) (0.33.6)\n",
            "Collecting tb-nightly<2.2.0a0,>=2.1.0a0\n",
            "\u001b[?25l  Downloading https://files.pythonhosted.org/packages/48/6b/b9e735120c77721570aed36cec55390827db0d580b14a5ffd93a4cce5997/tb_nightly-2.1.0a20191206-py3-none-any.whl (3.8MB)\n",
            "\u001b[K     |████████████████████████████████| 3.8MB 47.9MB/s \n",
            "\u001b[?25hRequirement already satisfied: google-pasta>=0.1.6 in /usr/local/lib/python3.6/dist-packages (from tf-nightly-2.0-preview) (0.1.8)\n",
            "Collecting tensorflow-estimator-2.0-preview\n",
            "\u001b[?25l  Downloading https://files.pythonhosted.org/packages/db/f5/790508e193121ab301cb40cada7f451c531404051ac9249f21b1f5484450/tensorflow_estimator_2.0_preview-2.0.0-py2.py3-none-any.whl (449kB)\n",
            "\u001b[K     |████████████████████████████████| 450kB 59.6MB/s \n",
            "\u001b[?25hRequirement already satisfied: keras-applications>=1.0.8 in /usr/local/lib/python3.6/dist-packages (from tf-nightly-2.0-preview) (1.0.8)\n",
            "Requirement already satisfied: grpcio>=1.8.6 in /usr/local/lib/python3.6/dist-packages (from tf-nightly-2.0-preview) (1.15.0)\n",
            "Requirement already satisfied: absl-py>=0.7.0 in /usr/local/lib/python3.6/dist-packages (from tf-nightly-2.0-preview) (0.8.1)\n",
            "Requirement already satisfied: astor>=0.6.0 in /usr/local/lib/python3.6/dist-packages (from tf-nightly-2.0-preview) (0.8.1)\n",
            "Requirement already satisfied: setuptools in /usr/local/lib/python3.6/dist-packages (from protobuf>=3.6.1->tf-nightly-2.0-preview) (42.0.2)\n",
            "Requirement already satisfied: markdown>=2.6.8 in /usr/local/lib/python3.6/dist-packages (from tb-nightly<2.2.0a0,>=2.1.0a0->tf-nightly-2.0-preview) (3.1.1)\n",
            "Requirement already satisfied: werkzeug>=0.11.15 in /usr/local/lib/python3.6/dist-packages (from tb-nightly<2.2.0a0,>=2.1.0a0->tf-nightly-2.0-preview) (0.16.0)\n",
            "Collecting google-auth<2,>=1.6.3\n",
            "\u001b[?25l  Downloading https://files.pythonhosted.org/packages/54/31/f944cbd5bdbcc90d5b36f0615036308c8ec1e41b4788da5b55d4900f6803/google_auth-1.8.2-py2.py3-none-any.whl (75kB)\n",
            "\u001b[K     |████████████████████████████████| 81kB 11.8MB/s \n",
            "\u001b[?25hRequirement already satisfied: google-auth-oauthlib<0.5,>=0.4.1 in /usr/local/lib/python3.6/dist-packages (from tb-nightly<2.2.0a0,>=2.1.0a0->tf-nightly-2.0-preview) (0.4.1)\n",
            "Requirement already satisfied: requests<3,>=2.21.0 in /usr/local/lib/python3.6/dist-packages (from tb-nightly<2.2.0a0,>=2.1.0a0->tf-nightly-2.0-preview) (2.21.0)\n",
            "Requirement already satisfied: h5py in /usr/local/lib/python3.6/dist-packages (from keras-applications>=1.0.8->tf-nightly-2.0-preview) (2.8.0)\n",
            "Requirement already satisfied: cachetools<3.2,>=2.0.0 in /usr/local/lib/python3.6/dist-packages (from google-auth<2,>=1.6.3->tb-nightly<2.2.0a0,>=2.1.0a0->tf-nightly-2.0-preview) (3.1.1)\n",
            "Requirement already satisfied: pyasn1-modules>=0.2.1 in /usr/local/lib/python3.6/dist-packages (from google-auth<2,>=1.6.3->tb-nightly<2.2.0a0,>=2.1.0a0->tf-nightly-2.0-preview) (0.2.7)\n",
            "Requirement already satisfied: rsa<4.1,>=3.1.4 in /usr/local/lib/python3.6/dist-packages (from google-auth<2,>=1.6.3->tb-nightly<2.2.0a0,>=2.1.0a0->tf-nightly-2.0-preview) (4.0)\n",
            "Requirement already satisfied: requests-oauthlib>=0.7.0 in /usr/local/lib/python3.6/dist-packages (from google-auth-oauthlib<0.5,>=0.4.1->tb-nightly<2.2.0a0,>=2.1.0a0->tf-nightly-2.0-preview) (1.3.0)\n",
            "Requirement already satisfied: certifi>=2017.4.17 in /usr/local/lib/python3.6/dist-packages (from requests<3,>=2.21.0->tb-nightly<2.2.0a0,>=2.1.0a0->tf-nightly-2.0-preview) (2019.11.28)\n",
            "Requirement already satisfied: urllib3<1.25,>=1.21.1 in /usr/local/lib/python3.6/dist-packages (from requests<3,>=2.21.0->tb-nightly<2.2.0a0,>=2.1.0a0->tf-nightly-2.0-preview) (1.24.3)\n",
            "Requirement already satisfied: idna<2.9,>=2.5 in /usr/local/lib/python3.6/dist-packages (from requests<3,>=2.21.0->tb-nightly<2.2.0a0,>=2.1.0a0->tf-nightly-2.0-preview) (2.8)\n",
            "Requirement already satisfied: chardet<3.1.0,>=3.0.2 in /usr/local/lib/python3.6/dist-packages (from requests<3,>=2.21.0->tb-nightly<2.2.0a0,>=2.1.0a0->tf-nightly-2.0-preview) (3.0.4)\n",
            "Requirement already satisfied: pyasn1<0.5.0,>=0.4.6 in /usr/local/lib/python3.6/dist-packages (from pyasn1-modules>=0.2.1->google-auth<2,>=1.6.3->tb-nightly<2.2.0a0,>=2.1.0a0->tf-nightly-2.0-preview) (0.4.8)\n",
            "Requirement already satisfied: oauthlib>=3.0.0 in /usr/local/lib/python3.6/dist-packages (from requests-oauthlib>=0.7.0->google-auth-oauthlib<0.5,>=0.4.1->tb-nightly<2.2.0a0,>=2.1.0a0->tf-nightly-2.0-preview) (3.1.0)\n",
            "\u001b[31mERROR: google-colab 1.0.0 has requirement google-auth~=1.4.0, but you'll have google-auth 1.8.2 which is incompatible.\u001b[0m\n",
            "\u001b[31mERROR: tb-nightly 2.1.0a20191206 has requirement grpcio>=1.24.3, but you'll have grpcio 1.15.0 which is incompatible.\u001b[0m\n",
            "Installing collected packages: google-auth, tb-nightly, tensorflow-estimator-2.0-preview, tf-nightly-2.0-preview\n",
            "  Found existing installation: google-auth 1.4.2\n",
            "    Uninstalling google-auth-1.4.2:\n",
            "      Successfully uninstalled google-auth-1.4.2\n",
            "Successfully installed google-auth-1.8.2 tb-nightly-2.1.0a20191206 tensorflow-estimator-2.0-preview-2.0.0 tf-nightly-2.0-preview-2.0.0.dev20191002\n"
          ],
          "name": "stdout"
        },
        {
          "output_type": "display_data",
          "data": {
            "application/vnd.colab-display-data+json": {
              "pip_warning": {
                "packages": [
                  "google"
                ]
              }
            }
          },
          "metadata": {
            "tags": []
          }
        },
        {
          "output_type": "stream",
          "text": [
            "2.0.0-dev20191002\n"
          ],
          "name": "stdout"
        }
      ]
    },
    {
      "cell_type": "code",
      "metadata": {
        "id": "iu-lp4-Z-zXM",
        "colab_type": "code",
        "colab": {
          "base_uri": "https://localhost:8080/",
          "height": 51
        },
        "outputId": "948fd03d-9d9f-4535-dd06-5a5c7c1dbd27"
      },
      "source": [
        "NUM_WORDS = 10000\n",
        "\n",
        "(train_data, train_labels), (test_data, test_labels) = keras.datasets.imdb.load_data(num_words=NUM_WORDS)\n",
        "\n",
        "def multi_hot_sequences(sequences, dimension):\n",
        "    results = np.zeros((len(sequences), dimension))\n",
        "    for i, word_indices in enumerate(sequences):\n",
        "        results[i, word_indices] = 1.0 \n",
        "    return results\n",
        "\n",
        "\n",
        "train_data = multi_hot_sequences(train_data, dimension=NUM_WORDS)\n",
        "test_data = multi_hot_sequences(test_data, dimension=NUM_WORDS)"
      ],
      "execution_count": 2,
      "outputs": [
        {
          "output_type": "stream",
          "text": [
            "Downloading data from https://storage.googleapis.com/tensorflow/tf-keras-datasets/imdb.npz\n",
            "17465344/17464789 [==============================] - 0s 0us/step\n"
          ],
          "name": "stdout"
        }
      ]
    },
    {
      "cell_type": "code",
      "metadata": {
        "id": "XrwRtZGs_Aq4",
        "colab_type": "code",
        "colab": {
          "base_uri": "https://localhost:8080/",
          "height": 282
        },
        "outputId": "f1f4eb0c-a8df-4a8e-ffc0-bf6447c213d8"
      },
      "source": [
        "plt.plot(train_data[0])"
      ],
      "execution_count": 3,
      "outputs": [
        {
          "output_type": "execute_result",
          "data": {
            "text/plain": [
              "[<matplotlib.lines.Line2D at 0x7f730f6d2240>]"
            ]
          },
          "metadata": {
            "tags": []
          },
          "execution_count": 3
        },
        {
          "output_type": "display_data",
          "data": {
            "image/png": "[encoded data removed]",
            "text/plain": [
              "<Figure size 432x288 with 1 Axes>"
            ]
          },
          "metadata": {
            "tags": []
          }
        }
      ]
    },
    {
      "cell_type": "code",
      "metadata": {
        "id": "gLX8gwDi_FMX",
        "colab_type": "code",
        "colab": {
          "base_uri": "https://localhost:8080/",
          "height": 282
        },
        "outputId": "00dd051c-fa30-4a06-8fbb-8940eda611b2"
      },
      "source": [
        "plt.plot(train_data[1])"
      ],
      "execution_count": 4,
      "outputs": [
        {
          "output_type": "execute_result",
          "data": {
            "text/plain": [
              "[<matplotlib.lines.Line2D at 0x7f72fd0aa8d0>]"
            ]
          },
          "metadata": {
            "tags": []
          },
          "execution_count": 4
        },
        {
          "output_type": "display_data",
          "data": {
            "image/png": "[encoded data removed]",
            "text/plain": [
              "<Figure size 432x288 with 1 Axes>"
            ]
          },
          "metadata": {
            "tags": []
          }
        }
      ]
    },
    {
      "cell_type": "code",
      "metadata": {
        "id": "xd5tQYOs_GVV",
        "colab_type": "code",
        "colab": {
          "base_uri": "https://localhost:8080/",
          "height": 255
        },
        "outputId": "58e89c65-7679-489f-fbf4-444da6205031"
      },
      "source": [
        "baseline_model = keras.Sequential([\n",
        "                                   keras.layers.Dense(16, activation='relu', input_shape=(NUM_WORDS, )),\n",
        "                                   keras.layers.Dense(16, activation='relu'),\n",
        "                                   keras.layers.Dense(1, activation='sigmoid')\n",
        "])\n",
        "\n",
        "baseline_model.compile(optimizer='adam', loss='binary_crossentropy',\n",
        "                       metrics=['accuracy', 'binary_crossentropy'])\n",
        "\n",
        "baseline_model.summary()"
      ],
      "execution_count": 5,
      "outputs": [
        {
          "output_type": "stream",
          "text": [
            "Model: \"sequential\"\n",
            "_________________________________________________________________\n",
            "Layer (type)                 Output Shape              Param #   \n",
            "=================================================================\n",
            "dense (Dense)                (None, 16)                160016    \n",
            "_________________________________________________________________\n",
            "dense_1 (Dense)              (None, 16)                272       \n",
            "_________________________________________________________________\n",
            "dense_2 (Dense)              (None, 1)                 17        \n",
            "=================================================================\n",
            "Total params: 160,305\n",
            "Trainable params: 160,305\n",
            "Non-trainable params: 0\n",
            "_________________________________________________________________\n"
          ],
          "name": "stdout"
        }
      ]
    },
    {
      "cell_type": "code",
      "metadata": {
        "id": "WPRMEJny_gYg",
        "colab_type": "code",
        "colab": {
          "base_uri": "https://localhost:8080/",
          "height": 734
        },
        "outputId": "73ac1d84-b411-4820-b5ad-ad4c49fdb89c"
      },
      "source": [
        "baseline_history = baseline_model.fit(train_data, train_labels,\n",
        "                                      epochs=20, batch_size=512,\n",
        "                                      validation_data=(test_data, test_labels),\n",
        "                                      verbose=2)"
      ],
      "execution_count": 6,
      "outputs": [
        {
          "output_type": "stream",
          "text": [
            "Train on 25000 samples, validate on 25000 samples\n",
            "Epoch 1/20\n",
            "25000/25000 - 4s - loss: 0.4540 - accuracy: 0.8105 - binary_crossentropy: 0.4540 - val_loss: 0.3153 - val_accuracy: 0.8778 - val_binary_crossentropy: 0.3153\n",
            "Epoch 2/20\n",
            "25000/25000 - 4s - loss: 0.2322 - accuracy: 0.9174 - binary_crossentropy: 0.2322 - val_loss: 0.2823 - val_accuracy: 0.8876 - val_binary_crossentropy: 0.2823\n",
            "Epoch 3/20\n",
            "25000/25000 - 4s - loss: 0.1717 - accuracy: 0.9399 - binary_crossentropy: 0.1717 - val_loss: 0.2950 - val_accuracy: 0.8834 - val_binary_crossentropy: 0.2950\n",
            "Epoch 4/20\n",
            "25000/25000 - 4s - loss: 0.1362 - accuracy: 0.9541 - binary_crossentropy: 0.1362 - val_loss: 0.3220 - val_accuracy: 0.8768 - val_binary_crossentropy: 0.3220\n",
            "Epoch 5/20\n",
            "25000/25000 - 4s - loss: 0.1098 - accuracy: 0.9640 - binary_crossentropy: 0.1098 - val_loss: 0.3685 - val_accuracy: 0.8689 - val_binary_crossentropy: 0.3685\n",
            "Epoch 6/20\n",
            "25000/25000 - 4s - loss: 0.0884 - accuracy: 0.9730 - binary_crossentropy: 0.0884 - val_loss: 0.3951 - val_accuracy: 0.8700 - val_binary_crossentropy: 0.3951\n",
            "Epoch 7/20\n",
            "25000/25000 - 4s - loss: 0.0699 - accuracy: 0.9804 - binary_crossentropy: 0.0699 - val_loss: 0.4393 - val_accuracy: 0.8647 - val_binary_crossentropy: 0.4393\n",
            "Epoch 8/20\n",
            "25000/25000 - 3s - loss: 0.0539 - accuracy: 0.9873 - binary_crossentropy: 0.0539 - val_loss: 0.4972 - val_accuracy: 0.8590 - val_binary_crossentropy: 0.4972\n",
            "Epoch 9/20\n",
            "25000/25000 - 4s - loss: 0.0424 - accuracy: 0.9908 - binary_crossentropy: 0.0424 - val_loss: 0.5263 - val_accuracy: 0.8615 - val_binary_crossentropy: 0.5263\n",
            "Epoch 10/20\n",
            "25000/25000 - 4s - loss: 0.0311 - accuracy: 0.9947 - binary_crossentropy: 0.0311 - val_loss: 0.5773 - val_accuracy: 0.8582 - val_binary_crossentropy: 0.5773\n",
            "Epoch 11/20\n",
            "25000/25000 - 4s - loss: 0.0231 - accuracy: 0.9970 - binary_crossentropy: 0.0231 - val_loss: 0.6240 - val_accuracy: 0.8556 - val_binary_crossentropy: 0.6240\n",
            "Epoch 12/20\n",
            "25000/25000 - 4s - loss: 0.0174 - accuracy: 0.9981 - binary_crossentropy: 0.0174 - val_loss: 0.6613 - val_accuracy: 0.8567 - val_binary_crossentropy: 0.6613\n",
            "Epoch 13/20\n",
            "25000/25000 - 4s - loss: 0.0126 - accuracy: 0.9991 - binary_crossentropy: 0.0126 - val_loss: 0.7066 - val_accuracy: 0.8546 - val_binary_crossentropy: 0.7066\n",
            "Epoch 14/20\n",
            "25000/25000 - 4s - loss: 0.0094 - accuracy: 0.9997 - binary_crossentropy: 0.0094 - val_loss: 0.7451 - val_accuracy: 0.8540 - val_binary_crossentropy: 0.7451\n",
            "Epoch 15/20\n",
            "25000/25000 - 4s - loss: 0.0071 - accuracy: 0.9998 - binary_crossentropy: 0.0071 - val_loss: 0.7854 - val_accuracy: 0.8524 - val_binary_crossentropy: 0.7854\n",
            "Epoch 16/20\n",
            "25000/25000 - 4s - loss: 0.0056 - accuracy: 0.9998 - binary_crossentropy: 0.0056 - val_loss: 0.8119 - val_accuracy: 0.8539 - val_binary_crossentropy: 0.8119\n",
            "Epoch 17/20\n",
            "25000/25000 - 4s - loss: 0.0045 - accuracy: 0.9999 - binary_crossentropy: 0.0045 - val_loss: 0.8416 - val_accuracy: 0.8541 - val_binary_crossentropy: 0.8416\n",
            "Epoch 18/20\n",
            "25000/25000 - 4s - loss: 0.0037 - accuracy: 1.0000 - binary_crossentropy: 0.0037 - val_loss: 0.8714 - val_accuracy: 0.8532 - val_binary_crossentropy: 0.8714\n",
            "Epoch 19/20\n",
            "25000/25000 - 3s - loss: 0.0030 - accuracy: 1.0000 - binary_crossentropy: 0.0030 - val_loss: 0.8957 - val_accuracy: 0.8530 - val_binary_crossentropy: 0.8957\n",
            "Epoch 20/20\n",
            "25000/25000 - 3s - loss: 0.0026 - accuracy: 1.0000 - binary_crossentropy: 0.0026 - val_loss: 0.9200 - val_accuracy: 0.8526 - val_binary_crossentropy: 0.9200\n"
          ],
          "name": "stdout"
        }
      ]
    },
    {
      "cell_type": "code",
      "metadata": {
        "id": "57jfCnsi_rLT",
        "colab_type": "code",
        "colab": {
          "base_uri": "https://localhost:8080/",
          "height": 255
        },
        "outputId": "318b49dc-b54d-4b01-cee0-38bb3e71234d"
      },
      "source": [
        "smaller_model = keras.Sequential([\n",
        "                                  keras.layers.Dense(4, activation='relu', input_shape=(NUM_WORDS,)),\n",
        "                                  keras.layers.Dense(4, activation='relu'),\n",
        "                                  keras.layers.Dense(1, activation='sigmoid')\n",
        "])\n",
        "\n",
        "smaller_model.compile(optimizer='adam', loss='binary_crossentropy',\n",
        "                      metrics=['accuracy', 'binary_crossentropy'])\n",
        "\n",
        "smaller_model.summary()"
      ],
      "execution_count": 7,
      "outputs": [
        {
          "output_type": "stream",
          "text": [
            "Model: \"sequential_1\"\n",
            "_________________________________________________________________\n",
            "Layer (type)                 Output Shape              Param #   \n",
            "=================================================================\n",
            "dense_3 (Dense)              (None, 4)                 40004     \n",
            "_________________________________________________________________\n",
            "dense_4 (Dense)              (None, 4)                 20        \n",
            "_________________________________________________________________\n",
            "dense_5 (Dense)              (None, 1)                 5         \n",
            "=================================================================\n",
            "Total params: 40,029\n",
            "Trainable params: 40,029\n",
            "Non-trainable params: 0\n",
            "_________________________________________________________________\n"
          ],
          "name": "stdout"
        }
      ]
    },
    {
      "cell_type": "code",
      "metadata": {
        "id": "mjn4AGoCCAVy",
        "colab_type": "code",
        "colab": {
          "base_uri": "https://localhost:8080/",
          "height": 734
        },
        "outputId": "6234d975-a344-4ecb-fb7c-0e3c8f0f2220"
      },
      "source": [
        "smaller_history = smaller_model.fit(train_data, train_labels, epochs=20,\n",
        "                                    batch_size=512, validation_data=(test_data, test_labels),\n",
        "                                    verbose=2)"
      ],
      "execution_count": 8,
      "outputs": [
        {
          "output_type": "stream",
          "text": [
            "Train on 25000 samples, validate on 25000 samples\n",
            "Epoch 1/20\n",
            "25000/25000 - 4s - loss: 0.5744 - accuracy: 0.7588 - binary_crossentropy: 0.5744 - val_loss: 0.4552 - val_accuracy: 0.8537 - val_binary_crossentropy: 0.4552\n",
            "Epoch 2/20\n",
            "25000/25000 - 3s - loss: 0.3654 - accuracy: 0.8845 - binary_crossentropy: 0.3654 - val_loss: 0.3479 - val_accuracy: 0.8791 - val_binary_crossentropy: 0.3479\n",
            "Epoch 3/20\n",
            "25000/25000 - 3s - loss: 0.2758 - accuracy: 0.9110 - binary_crossentropy: 0.2758 - val_loss: 0.3058 - val_accuracy: 0.8856 - val_binary_crossentropy: 0.3058\n",
            "Epoch 4/20\n",
            "25000/25000 - 3s - loss: 0.2275 - accuracy: 0.9244 - binary_crossentropy: 0.2275 - val_loss: 0.2882 - val_accuracy: 0.8898 - val_binary_crossentropy: 0.2882\n",
            "Epoch 5/20\n",
            "25000/25000 - 3s - loss: 0.1966 - accuracy: 0.9336 - binary_crossentropy: 0.1966 - val_loss: 0.2834 - val_accuracy: 0.8879 - val_binary_crossentropy: 0.2834\n",
            "Epoch 6/20\n",
            "25000/25000 - 3s - loss: 0.1739 - accuracy: 0.9418 - binary_crossentropy: 0.1739 - val_loss: 0.2846 - val_accuracy: 0.8870 - val_binary_crossentropy: 0.2846\n",
            "Epoch 7/20\n",
            "25000/25000 - 3s - loss: 0.1557 - accuracy: 0.9488 - binary_crossentropy: 0.1557 - val_loss: 0.2884 - val_accuracy: 0.8860 - val_binary_crossentropy: 0.2884\n",
            "Epoch 8/20\n",
            "25000/25000 - 3s - loss: 0.1403 - accuracy: 0.9552 - binary_crossentropy: 0.1403 - val_loss: 0.2966 - val_accuracy: 0.8836 - val_binary_crossentropy: 0.2966\n",
            "Epoch 9/20\n",
            "25000/25000 - 3s - loss: 0.1274 - accuracy: 0.9600 - binary_crossentropy: 0.1274 - val_loss: 0.3078 - val_accuracy: 0.8811 - val_binary_crossentropy: 0.3078\n",
            "Epoch 10/20\n",
            "25000/25000 - 3s - loss: 0.1173 - accuracy: 0.9633 - binary_crossentropy: 0.1173 - val_loss: 0.3205 - val_accuracy: 0.8774 - val_binary_crossentropy: 0.3205\n",
            "Epoch 11/20\n",
            "25000/25000 - 3s - loss: 0.1068 - accuracy: 0.9682 - binary_crossentropy: 0.1068 - val_loss: 0.3338 - val_accuracy: 0.8758 - val_binary_crossentropy: 0.3338\n",
            "Epoch 12/20\n",
            "25000/25000 - 3s - loss: 0.0982 - accuracy: 0.9710 - binary_crossentropy: 0.0982 - val_loss: 0.3441 - val_accuracy: 0.8746 - val_binary_crossentropy: 0.3441\n",
            "Epoch 13/20\n",
            "25000/25000 - 3s - loss: 0.0901 - accuracy: 0.9744 - binary_crossentropy: 0.0901 - val_loss: 0.3608 - val_accuracy: 0.8726 - val_binary_crossentropy: 0.3608\n",
            "Epoch 14/20\n",
            "25000/25000 - 3s - loss: 0.0824 - accuracy: 0.9777 - binary_crossentropy: 0.0824 - val_loss: 0.3753 - val_accuracy: 0.8709 - val_binary_crossentropy: 0.3753\n",
            "Epoch 15/20\n",
            "25000/25000 - 4s - loss: 0.0758 - accuracy: 0.9800 - binary_crossentropy: 0.0758 - val_loss: 0.3925 - val_accuracy: 0.8688 - val_binary_crossentropy: 0.3925\n",
            "Epoch 16/20\n",
            "25000/25000 - 3s - loss: 0.0694 - accuracy: 0.9826 - binary_crossentropy: 0.0694 - val_loss: 0.4098 - val_accuracy: 0.8678 - val_binary_crossentropy: 0.4098\n",
            "Epoch 17/20\n",
            "25000/25000 - 3s - loss: 0.0638 - accuracy: 0.9849 - binary_crossentropy: 0.0638 - val_loss: 0.4279 - val_accuracy: 0.8667 - val_binary_crossentropy: 0.4279\n",
            "Epoch 18/20\n",
            "25000/25000 - 3s - loss: 0.0586 - accuracy: 0.9869 - binary_crossentropy: 0.0586 - val_loss: 0.4482 - val_accuracy: 0.8646 - val_binary_crossentropy: 0.4482\n",
            "Epoch 19/20\n",
            "25000/25000 - 3s - loss: 0.0535 - accuracy: 0.9892 - binary_crossentropy: 0.0535 - val_loss: 0.4672 - val_accuracy: 0.8638 - val_binary_crossentropy: 0.4672\n",
            "Epoch 20/20\n",
            "25000/25000 - 3s - loss: 0.0491 - accuracy: 0.9912 - binary_crossentropy: 0.0491 - val_loss: 0.4888 - val_accuracy: 0.8610 - val_binary_crossentropy: 0.4888\n"
          ],
          "name": "stdout"
        }
      ]
    },
    {
      "cell_type": "code",
      "metadata": {
        "id": "BUwGXkMgE8aa",
        "colab_type": "code",
        "colab": {
          "base_uri": "https://localhost:8080/",
          "height": 255
        },
        "outputId": "e5ac0639-7bc9-4893-f25d-8e2c5a09b3c1"
      },
      "source": [
        "bigger_model = keras.models.Sequential([\n",
        "                                        keras.layers.Dense(512, activation='relu', input_shape=(NUM_WORDS,)),\n",
        "                                        keras.layers.Dense(512, activation='relu'),\n",
        "                                        keras.layers.Dense(1, activation='sigmoid')\n",
        "])\n",
        "\n",
        "bigger_model.compile(optimizer='adam',\n",
        "                     loss='binary_crossentropy',\n",
        "                     metrics=['accuracy','binary_crossentropy'])\n",
        "\n",
        "bigger_model.summary()"
      ],
      "execution_count": 9,
      "outputs": [
        {
          "output_type": "stream",
          "text": [
            "Model: \"sequential_2\"\n",
            "_________________________________________________________________\n",
            "Layer (type)                 Output Shape              Param #   \n",
            "=================================================================\n",
            "dense_6 (Dense)              (None, 512)               5120512   \n",
            "_________________________________________________________________\n",
            "dense_7 (Dense)              (None, 512)               262656    \n",
            "_________________________________________________________________\n",
            "dense_8 (Dense)              (None, 1)                 513       \n",
            "=================================================================\n",
            "Total params: 5,383,681\n",
            "Trainable params: 5,383,681\n",
            "Non-trainable params: 0\n",
            "_________________________________________________________________\n"
          ],
          "name": "stdout"
        }
      ]
    },
    {
      "cell_type": "code",
      "metadata": {
        "id": "IJJHVHy5E8dU",
        "colab_type": "code",
        "colab": {
          "base_uri": "https://localhost:8080/",
          "height": 734
        },
        "outputId": "69c9fbe3-3bd9-4d90-aeb6-1a6308960752"
      },
      "source": [
        "bigger_history = bigger_model.fit(train_data, train_labels,\n",
        "                                  epochs=20,\n",
        "                                  batch_size=512,\n",
        "                                  validation_data=(test_data, test_labels),\n",
        "                                  verbose=2)"
      ],
      "execution_count": 10,
      "outputs": [
        {
          "output_type": "stream",
          "text": [
            "Train on 25000 samples, validate on 25000 samples\n",
            "Epoch 1/20\n",
            "25000/25000 - 13s - loss: 0.3610 - accuracy: 0.8363 - binary_crossentropy: 0.3610 - val_loss: 0.3003 - val_accuracy: 0.8773 - val_binary_crossentropy: 0.3003\n",
            "Epoch 2/20\n",
            "25000/25000 - 13s - loss: 0.1350 - accuracy: 0.9498 - binary_crossentropy: 0.1350 - val_loss: 0.3226 - val_accuracy: 0.8778 - val_binary_crossentropy: 0.3226\n",
            "Epoch 3/20\n",
            "25000/25000 - 13s - loss: 0.0362 - accuracy: 0.9900 - binary_crossentropy: 0.0362 - val_loss: 0.4417 - val_accuracy: 0.8704 - val_binary_crossentropy: 0.4417\n",
            "Epoch 4/20\n",
            "25000/25000 - 13s - loss: 0.0049 - accuracy: 0.9993 - binary_crossentropy: 0.0049 - val_loss: 0.6010 - val_accuracy: 0.8727 - val_binary_crossentropy: 0.6010\n",
            "Epoch 5/20\n",
            "25000/25000 - 13s - loss: 0.0015 - accuracy: 0.9999 - binary_crossentropy: 0.0015 - val_loss: 0.6547 - val_accuracy: 0.8718 - val_binary_crossentropy: 0.6547\n",
            "Epoch 6/20\n",
            "25000/25000 - 13s - loss: 2.2062e-04 - accuracy: 1.0000 - binary_crossentropy: 2.2062e-04 - val_loss: 0.7115 - val_accuracy: 0.8724 - val_binary_crossentropy: 0.7115\n",
            "Epoch 7/20\n",
            "25000/25000 - 13s - loss: 1.2425e-04 - accuracy: 1.0000 - binary_crossentropy: 1.2425e-04 - val_loss: 0.7443 - val_accuracy: 0.8727 - val_binary_crossentropy: 0.7443\n",
            "Epoch 8/20\n",
            "25000/25000 - 13s - loss: 8.8770e-05 - accuracy: 1.0000 - binary_crossentropy: 8.8770e-05 - val_loss: 0.7679 - val_accuracy: 0.8726 - val_binary_crossentropy: 0.7679\n",
            "Epoch 9/20\n",
            "25000/25000 - 13s - loss: 6.7960e-05 - accuracy: 1.0000 - binary_crossentropy: 6.7960e-05 - val_loss: 0.7876 - val_accuracy: 0.8727 - val_binary_crossentropy: 0.7876\n",
            "Epoch 10/20\n",
            "25000/25000 - 13s - loss: 5.4210e-05 - accuracy: 1.0000 - binary_crossentropy: 5.4210e-05 - val_loss: 0.8035 - val_accuracy: 0.8731 - val_binary_crossentropy: 0.8035\n",
            "Epoch 11/20\n",
            "25000/25000 - 13s - loss: 4.4298e-05 - accuracy: 1.0000 - binary_crossentropy: 4.4298e-05 - val_loss: 0.8184 - val_accuracy: 0.8730 - val_binary_crossentropy: 0.8184\n",
            "Epoch 12/20\n",
            "25000/25000 - 13s - loss: 3.7034e-05 - accuracy: 1.0000 - binary_crossentropy: 3.7034e-05 - val_loss: 0.8309 - val_accuracy: 0.8733 - val_binary_crossentropy: 0.8309\n",
            "Epoch 13/20\n",
            "25000/25000 - 13s - loss: 3.1432e-05 - accuracy: 1.0000 - binary_crossentropy: 3.1432e-05 - val_loss: 0.8420 - val_accuracy: 0.8732 - val_binary_crossentropy: 0.8420\n",
            "Epoch 14/20\n",
            "25000/25000 - 13s - loss: 2.6992e-05 - accuracy: 1.0000 - binary_crossentropy: 2.6992e-05 - val_loss: 0.8528 - val_accuracy: 0.8731 - val_binary_crossentropy: 0.8528\n",
            "Epoch 15/20\n",
            "25000/25000 - 13s - loss: 2.3393e-05 - accuracy: 1.0000 - binary_crossentropy: 2.3393e-05 - val_loss: 0.8630 - val_accuracy: 0.8729 - val_binary_crossentropy: 0.8630\n",
            "Epoch 16/20\n",
            "25000/25000 - 13s - loss: 2.0460e-05 - accuracy: 1.0000 - binary_crossentropy: 2.0460e-05 - val_loss: 0.8719 - val_accuracy: 0.8729 - val_binary_crossentropy: 0.8719\n",
            "Epoch 17/20\n",
            "25000/25000 - 13s - loss: 1.8048e-05 - accuracy: 1.0000 - binary_crossentropy: 1.8048e-05 - val_loss: 0.8803 - val_accuracy: 0.8730 - val_binary_crossentropy: 0.8803\n",
            "Epoch 18/20\n",
            "25000/25000 - 13s - loss: 1.6018e-05 - accuracy: 1.0000 - binary_crossentropy: 1.6018e-05 - val_loss: 0.8887 - val_accuracy: 0.8728 - val_binary_crossentropy: 0.8887\n",
            "Epoch 19/20\n",
            "25000/25000 - 13s - loss: 1.4305e-05 - accuracy: 1.0000 - binary_crossentropy: 1.4305e-05 - val_loss: 0.8964 - val_accuracy: 0.8729 - val_binary_crossentropy: 0.8964\n",
            "Epoch 20/20\n",
            "25000/25000 - 13s - loss: 1.2840e-05 - accuracy: 1.0000 - binary_crossentropy: 1.2840e-05 - val_loss: 0.9035 - val_accuracy: 0.8731 - val_binary_crossentropy: 0.9035\n"
          ],
          "name": "stdout"
        }
      ]
    },
    {
      "cell_type": "code",
      "metadata": {
        "id": "Td65BTb-E8gO",
        "colab_type": "code",
        "colab": {
          "base_uri": "https://localhost:8080/",
          "height": 626
        },
        "outputId": "cc55149c-6877-4353-c34b-0793a97b06fc"
      },
      "source": [
        "def plot_history(histories, key='binary_crossentropy'):\n",
        "    plt.figure(figsize=(16,10))\n",
        "\n",
        "    for name, history in histories:\n",
        "        val = plt.plot(history.epoch, history.history['val_'+key], '--', label=name.title()+' Val')\n",
        "    plt.plot(history.epoch, history.history[key], color=val[0].get_color(),\n",
        "             label=name.title()+' Train')\n",
        "\n",
        "    plt.xlabel('Epochs')\n",
        "    plt.ylabel(key.replace('_',' ').title())\n",
        "    plt.legend()\n",
        "\n",
        "    plt.xlim([0,max(history.epoch)])\n",
        "\n",
        "\n",
        "plot_history([('baseline', baseline_history),\n",
        "              ('smaller', smaller_history),\n",
        "              ('bigger', bigger_history)])"
      ],
      "execution_count": 11,
      "outputs": [
        {
          "output_type": "display_data",
          "data": {
            "image/png": "[encoded data removed]",
            "text/plain": [
              "<Figure size 1152x720 with 1 Axes>"
            ]
          },
          "metadata": {
            "tags": []
          }
        }
      ]
    },
    {
      "cell_type": "markdown",
      "metadata": {
        "id": "98iosxJXFNPa",
        "colab_type": "text"
      },
      "source": [
        "- L1 규제는 가중치의 절댓값에 비례하는 비용이 추가됩니다(즉, 가중치의 \"L1 노름(norm)\"을 추가합니다).\n",
        "- L2 규제는 가중치의 제곱에 비례하는 비용이 추가됩니다(즉, 가중치의 \"L2 노름\"의 제곱을 추가합니다). 신경망에서는 L2 규제를 가중치 감쇠(weight decay)라고도 부릅니다. 이름이 다르지만 혼돈하지 마세요. 가중치 감쇠는 수학적으로 L2 규제와 동일"
      ]
    },
    {
      "cell_type": "code",
      "metadata": {
        "id": "GZvOUOwOCI9i",
        "colab_type": "code",
        "colab": {}
      },
      "source": [
        "l2_model = keras.models.Sequential([\n",
        "                                    keras.layers.Dense(16, kernel_regularizer=keras.regularizers.l2(0.001),\n",
        "                                                       activation='relu', input_shape=(NUM_WORDS, )),\n",
        "                                    keras.layers.Dense(16, kernel_regularizer=keras.regularizers.l2(0.001),\n",
        "                                                       activation='relu'),\n",
        "                                    keras.layers.Dense(1, activation='sigmoid')                                    \n",
        "])"
      ],
      "execution_count": 0,
      "outputs": []
    },
    {
      "cell_type": "code",
      "metadata": {
        "id": "5jTkgRoIEZPN",
        "colab_type": "code",
        "colab": {
          "base_uri": "https://localhost:8080/",
          "height": 734
        },
        "outputId": "ea8885a9-8214-4ffc-dc9c-e30237d8eb3c"
      },
      "source": [
        "l2_model.compile(optimizer='adam', loss='binary_crossentropy', \n",
        "                 metrics=['accuracy', 'binary_crossentropy'])\n",
        "\n",
        "l2_model_history = l2_model.fit(train_data, train_labels, epochs=20, batch_size=512, validation_data=(test_data, test_labels),\n",
        "                                verbose=2)"
      ],
      "execution_count": 13,
      "outputs": [
        {
          "output_type": "stream",
          "text": [
            "Train on 25000 samples, validate on 25000 samples\n",
            "Epoch 1/20\n",
            "25000/25000 - 4s - loss: 0.5414 - accuracy: 0.8020 - binary_crossentropy: 0.5022 - val_loss: 0.3917 - val_accuracy: 0.8726 - val_binary_crossentropy: 0.3521\n",
            "Epoch 2/20\n",
            "25000/25000 - 3s - loss: 0.3124 - accuracy: 0.9032 - binary_crossentropy: 0.2687 - val_loss: 0.3335 - val_accuracy: 0.8885 - val_binary_crossentropy: 0.2866\n",
            "Epoch 3/20\n",
            "25000/25000 - 3s - loss: 0.2563 - accuracy: 0.9283 - binary_crossentropy: 0.2066 - val_loss: 0.3338 - val_accuracy: 0.8873 - val_binary_crossentropy: 0.2821\n",
            "Epoch 4/20\n",
            "25000/25000 - 4s - loss: 0.2308 - accuracy: 0.9394 - binary_crossentropy: 0.1772 - val_loss: 0.3439 - val_accuracy: 0.8840 - val_binary_crossentropy: 0.2893\n",
            "Epoch 5/20\n",
            "25000/25000 - 4s - loss: 0.2149 - accuracy: 0.9454 - binary_crossentropy: 0.1591 - val_loss: 0.3564 - val_accuracy: 0.8806 - val_binary_crossentropy: 0.2995\n",
            "Epoch 6/20\n",
            "25000/25000 - 4s - loss: 0.2029 - accuracy: 0.9498 - binary_crossentropy: 0.1449 - val_loss: 0.3718 - val_accuracy: 0.8776 - val_binary_crossentropy: 0.3132\n",
            "Epoch 7/20\n",
            "25000/25000 - 4s - loss: 0.1949 - accuracy: 0.9536 - binary_crossentropy: 0.1353 - val_loss: 0.3867 - val_accuracy: 0.8740 - val_binary_crossentropy: 0.3265\n",
            "Epoch 8/20\n",
            "25000/25000 - 4s - loss: 0.1865 - accuracy: 0.9576 - binary_crossentropy: 0.1255 - val_loss: 0.4048 - val_accuracy: 0.8716 - val_binary_crossentropy: 0.3432\n",
            "Epoch 9/20\n",
            "25000/25000 - 3s - loss: 0.1775 - accuracy: 0.9609 - binary_crossentropy: 0.1155 - val_loss: 0.4159 - val_accuracy: 0.8693 - val_binary_crossentropy: 0.3537\n",
            "Epoch 10/20\n",
            "25000/25000 - 4s - loss: 0.1710 - accuracy: 0.9652 - binary_crossentropy: 0.1081 - val_loss: 0.4375 - val_accuracy: 0.8658 - val_binary_crossentropy: 0.3738\n",
            "Epoch 11/20\n",
            "25000/25000 - 3s - loss: 0.1648 - accuracy: 0.9685 - binary_crossentropy: 0.1008 - val_loss: 0.4425 - val_accuracy: 0.8663 - val_binary_crossentropy: 0.3781\n",
            "Epoch 12/20\n",
            "25000/25000 - 3s - loss: 0.1573 - accuracy: 0.9712 - binary_crossentropy: 0.0925 - val_loss: 0.4557 - val_accuracy: 0.8631 - val_binary_crossentropy: 0.3904\n",
            "Epoch 13/20\n",
            "25000/25000 - 4s - loss: 0.1523 - accuracy: 0.9741 - binary_crossentropy: 0.0866 - val_loss: 0.4730 - val_accuracy: 0.8630 - val_binary_crossentropy: 0.4067\n",
            "Epoch 14/20\n",
            "25000/25000 - 4s - loss: 0.1462 - accuracy: 0.9768 - binary_crossentropy: 0.0797 - val_loss: 0.4809 - val_accuracy: 0.8630 - val_binary_crossentropy: 0.4141\n",
            "Epoch 15/20\n",
            "25000/25000 - 4s - loss: 0.1429 - accuracy: 0.9775 - binary_crossentropy: 0.0756 - val_loss: 0.5000 - val_accuracy: 0.8591 - val_binary_crossentropy: 0.4322\n",
            "Epoch 16/20\n",
            "25000/25000 - 4s - loss: 0.1342 - accuracy: 0.9822 - binary_crossentropy: 0.0662 - val_loss: 0.5104 - val_accuracy: 0.8592 - val_binary_crossentropy: 0.4425\n",
            "Epoch 17/20\n",
            "25000/25000 - 4s - loss: 0.1280 - accuracy: 0.9840 - binary_crossentropy: 0.0600 - val_loss: 0.5289 - val_accuracy: 0.8578 - val_binary_crossentropy: 0.4609\n",
            "Epoch 18/20\n",
            "25000/25000 - 3s - loss: 0.1247 - accuracy: 0.9853 - binary_crossentropy: 0.0566 - val_loss: 0.5511 - val_accuracy: 0.8560 - val_binary_crossentropy: 0.4825\n",
            "Epoch 19/20\n",
            "25000/25000 - 3s - loss: 0.1247 - accuracy: 0.9839 - binary_crossentropy: 0.0557 - val_loss: 0.5560 - val_accuracy: 0.8575 - val_binary_crossentropy: 0.4862\n",
            "Epoch 20/20\n",
            "25000/25000 - 3s - loss: 0.1225 - accuracy: 0.9858 - binary_crossentropy: 0.0525 - val_loss: 0.5626 - val_accuracy: 0.8566 - val_binary_crossentropy: 0.4924\n"
          ],
          "name": "stdout"
        }
      ]
    },
    {
      "cell_type": "code",
      "metadata": {
        "id": "R1aSIu6nEnPa",
        "colab_type": "code",
        "colab": {
          "base_uri": "https://localhost:8080/",
          "height": 626
        },
        "outputId": "50c2f604-0e4c-4f0a-b8df-45fd1dd6870e"
      },
      "source": [
        "plot_history([('baseline', baseline_history), \n",
        "              ('l2', l2_model_history)])"
      ],
      "execution_count": 14,
      "outputs": [
        {
          "output_type": "display_data",
          "data": {
            "image/png": "[encoded data removed]",
            "text/plain": [
              "<Figure size 1152x720 with 1 Axes>"
            ]
          },
          "metadata": {
            "tags": []
          }
        }
      ]
    },
    {
      "cell_type": "code",
      "metadata": {
        "id": "h4N0kFa6EuVT",
        "colab_type": "code",
        "colab": {
          "base_uri": "https://localhost:8080/",
          "height": 734
        },
        "outputId": "a404ffa7-1955-4fc5-8104-30da7da7d2bc"
      },
      "source": [
        "dpt_model = keras.models.Sequential([\n",
        "                                     keras.layers.Dense(16, activation='relu', input_shape=(NUM_WORDS,)),\n",
        "                                     keras.layers.Dropout(0.5),\n",
        "                                     keras.layers.Dense(16, activation='relu'),\n",
        "                                     keras.layers.Dropout(0.5),\n",
        "                                     keras.layers.Dense(1, activation='sigmoid')\n",
        "])\n",
        "\n",
        "dpt_model.compile(optimizer='adam',\n",
        "                  loss='binary_crossentropy',\n",
        "                  metrics=['accuracy','binary_crossentropy'])\n",
        "\n",
        "dpt_model_history = dpt_model.fit(train_data, train_labels,\n",
        "                                  epochs=20,\n",
        "                                  batch_size=512,\n",
        "                                  validation_data=(test_data, test_labels),\n",
        "                                  verbose=2)"
      ],
      "execution_count": 15,
      "outputs": [
        {
          "output_type": "stream",
          "text": [
            "Train on 25000 samples, validate on 25000 samples\n",
            "Epoch 1/20\n",
            "25000/25000 - 4s - loss: 0.6338 - accuracy: 0.6334 - binary_crossentropy: 0.6338 - val_loss: 0.5032 - val_accuracy: 0.8335 - val_binary_crossentropy: 0.5032\n",
            "Epoch 2/20\n",
            "25000/25000 - 3s - loss: 0.4575 - accuracy: 0.8030 - binary_crossentropy: 0.4575 - val_loss: 0.3353 - val_accuracy: 0.8814 - val_binary_crossentropy: 0.3353\n",
            "Epoch 3/20\n",
            "25000/25000 - 4s - loss: 0.3455 - accuracy: 0.8689 - binary_crossentropy: 0.3455 - val_loss: 0.2892 - val_accuracy: 0.8877 - val_binary_crossentropy: 0.2892\n",
            "Epoch 4/20\n",
            "25000/25000 - 3s - loss: 0.2792 - accuracy: 0.9008 - binary_crossentropy: 0.2792 - val_loss: 0.2718 - val_accuracy: 0.8919 - val_binary_crossentropy: 0.2718\n",
            "Epoch 5/20\n",
            "25000/25000 - 3s - loss: 0.2397 - accuracy: 0.9166 - binary_crossentropy: 0.2397 - val_loss: 0.2796 - val_accuracy: 0.8896 - val_binary_crossentropy: 0.2796\n",
            "Epoch 6/20\n",
            "25000/25000 - 3s - loss: 0.2036 - accuracy: 0.9295 - binary_crossentropy: 0.2036 - val_loss: 0.2904 - val_accuracy: 0.8869 - val_binary_crossentropy: 0.2904\n",
            "Epoch 7/20\n",
            "25000/25000 - 3s - loss: 0.1798 - accuracy: 0.9393 - binary_crossentropy: 0.1798 - val_loss: 0.3061 - val_accuracy: 0.8864 - val_binary_crossentropy: 0.3061\n",
            "Epoch 8/20\n",
            "25000/25000 - 3s - loss: 0.1619 - accuracy: 0.9455 - binary_crossentropy: 0.1619 - val_loss: 0.3234 - val_accuracy: 0.8838 - val_binary_crossentropy: 0.3234\n",
            "Epoch 9/20\n",
            "25000/25000 - 3s - loss: 0.1434 - accuracy: 0.9512 - binary_crossentropy: 0.1434 - val_loss: 0.3387 - val_accuracy: 0.8803 - val_binary_crossentropy: 0.3387\n",
            "Epoch 10/20\n",
            "25000/25000 - 3s - loss: 0.1301 - accuracy: 0.9551 - binary_crossentropy: 0.1301 - val_loss: 0.3614 - val_accuracy: 0.8814 - val_binary_crossentropy: 0.3614\n",
            "Epoch 11/20\n",
            "25000/25000 - 4s - loss: 0.1176 - accuracy: 0.9628 - binary_crossentropy: 0.1176 - val_loss: 0.3815 - val_accuracy: 0.8808 - val_binary_crossentropy: 0.3815\n",
            "Epoch 12/20\n",
            "25000/25000 - 3s - loss: 0.1081 - accuracy: 0.9631 - binary_crossentropy: 0.1081 - val_loss: 0.4068 - val_accuracy: 0.8812 - val_binary_crossentropy: 0.4068\n",
            "Epoch 13/20\n",
            "25000/25000 - 3s - loss: 0.0994 - accuracy: 0.9666 - binary_crossentropy: 0.0994 - val_loss: 0.4265 - val_accuracy: 0.8784 - val_binary_crossentropy: 0.4265\n",
            "Epoch 14/20\n",
            "25000/25000 - 3s - loss: 0.0924 - accuracy: 0.9683 - binary_crossentropy: 0.0924 - val_loss: 0.4400 - val_accuracy: 0.8793 - val_binary_crossentropy: 0.4400\n",
            "Epoch 15/20\n",
            "25000/25000 - 3s - loss: 0.0890 - accuracy: 0.9690 - binary_crossentropy: 0.0890 - val_loss: 0.4797 - val_accuracy: 0.8793 - val_binary_crossentropy: 0.4797\n",
            "Epoch 16/20\n",
            "25000/25000 - 3s - loss: 0.0816 - accuracy: 0.9710 - binary_crossentropy: 0.0816 - val_loss: 0.4773 - val_accuracy: 0.8775 - val_binary_crossentropy: 0.4773\n",
            "Epoch 17/20\n",
            "25000/25000 - 4s - loss: 0.0742 - accuracy: 0.9725 - binary_crossentropy: 0.0742 - val_loss: 0.4927 - val_accuracy: 0.8769 - val_binary_crossentropy: 0.4927\n",
            "Epoch 18/20\n",
            "25000/25000 - 3s - loss: 0.0729 - accuracy: 0.9731 - binary_crossentropy: 0.0729 - val_loss: 0.5277 - val_accuracy: 0.8766 - val_binary_crossentropy: 0.5277\n",
            "Epoch 19/20\n",
            "25000/25000 - 3s - loss: 0.0677 - accuracy: 0.9746 - binary_crossentropy: 0.0677 - val_loss: 0.5533 - val_accuracy: 0.8763 - val_binary_crossentropy: 0.5533\n",
            "Epoch 20/20\n",
            "25000/25000 - 4s - loss: 0.0642 - accuracy: 0.9763 - binary_crossentropy: 0.0642 - val_loss: 0.5700 - val_accuracy: 0.8766 - val_binary_crossentropy: 0.5700\n"
          ],
          "name": "stdout"
        }
      ]
    },
    {
      "cell_type": "code",
      "metadata": {
        "id": "4phF6OAjFec3",
        "colab_type": "code",
        "colab": {
          "base_uri": "https://localhost:8080/",
          "height": 626
        },
        "outputId": "69a03d77-8c3f-4bd4-e0ae-3c06340bf70c"
      },
      "source": [
        "plot_history([('baseline', baseline_history),\n",
        "              ('dropout', dpt_model_history)])"
      ],
      "execution_count": 16,
      "outputs": [
        {
          "output_type": "display_data",
          "data": {
            "image/png": "[encoded data removed]",
            "text/plain": [
              "<Figure size 1152x720 with 1 Axes>"
            ]
          },
          "metadata": {
            "tags": []
          }
        }
      ]
    },
    {
      "cell_type": "code",
      "metadata": {
        "id": "BXxzpNJrFfuw",
        "colab_type": "code",
        "colab": {}
      },
      "source": [
        "# 2번째\n",
        "# l2 model과 dropout만 진행"
      ],
      "execution_count": 0,
      "outputs": []
    },
    {
      "cell_type": "code",
      "metadata": {
        "id": "oyvqeVETSTc2",
        "colab_type": "code",
        "colab": {}
      },
      "source": [
        "l2_model = keras.models.Sequential([\n",
        "                                    keras.layers.Dense(16, kernel_regularizer=keras.regularizers.l2(0.001),\n",
        "                                                       activation='relu', input_shape=(NUM_WORDS, )),\n",
        "                                    keras.layers.Dense(16, kernel_regularizer=keras.regularizers.l2(0.001),\n",
        "                                                       activation='relu'),\n",
        "                                    keras.layers.Dense(1, activation='sigmoid')                                    \n",
        "])"
      ],
      "execution_count": 0,
      "outputs": []
    },
    {
      "cell_type": "code",
      "metadata": {
        "id": "qLbGBv6hSc5t",
        "colab_type": "code",
        "colab": {}
      },
      "source": [
        "l2_model.compile(optimizer='adam', loss='binary_crossentropy', \n",
        "                 metrics=['accuracy', 'binary_crossentropy'])"
      ],
      "execution_count": 0,
      "outputs": []
    },
    {
      "cell_type": "code",
      "metadata": {
        "id": "KxPXjbThSd0b",
        "colab_type": "code",
        "colab": {
          "base_uri": "https://localhost:8080/",
          "height": 734
        },
        "outputId": "550c8292-656e-4e52-f9eb-3a46d30695c4"
      },
      "source": [
        "l2_model_history = l2_model.fit(train_data, train_labels, epochs=20, batch_size=512, validation_data=(test_data, test_labels),\n",
        "                                verbose=2)"
      ],
      "execution_count": 21,
      "outputs": [
        {
          "output_type": "stream",
          "text": [
            "Train on 25000 samples, validate on 25000 samples\n",
            "Epoch 1/20\n",
            "25000/25000 - 4s - loss: 0.5364 - accuracy: 0.8064 - binary_crossentropy: 0.4970 - val_loss: 0.3868 - val_accuracy: 0.8745 - val_binary_crossentropy: 0.3453\n",
            "Epoch 2/20\n",
            "25000/25000 - 4s - loss: 0.3110 - accuracy: 0.9066 - binary_crossentropy: 0.2651 - val_loss: 0.3374 - val_accuracy: 0.8868 - val_binary_crossentropy: 0.2883\n",
            "Epoch 3/20\n",
            "25000/25000 - 3s - loss: 0.2576 - accuracy: 0.9274 - binary_crossentropy: 0.2061 - val_loss: 0.3405 - val_accuracy: 0.8846 - val_binary_crossentropy: 0.2872\n",
            "Epoch 4/20\n",
            "25000/25000 - 4s - loss: 0.2342 - accuracy: 0.9386 - binary_crossentropy: 0.1793 - val_loss: 0.3458 - val_accuracy: 0.8838 - val_binary_crossentropy: 0.2897\n",
            "Epoch 5/20\n",
            "25000/25000 - 4s - loss: 0.2167 - accuracy: 0.9474 - binary_crossentropy: 0.1592 - val_loss: 0.3577 - val_accuracy: 0.8802 - val_binary_crossentropy: 0.2994\n",
            "Epoch 6/20\n",
            "25000/25000 - 4s - loss: 0.2055 - accuracy: 0.9514 - binary_crossentropy: 0.1464 - val_loss: 0.3746 - val_accuracy: 0.8753 - val_binary_crossentropy: 0.3150\n",
            "Epoch 7/20\n",
            "25000/25000 - 4s - loss: 0.2002 - accuracy: 0.9519 - binary_crossentropy: 0.1396 - val_loss: 0.3952 - val_accuracy: 0.8727 - val_binary_crossentropy: 0.3337\n",
            "Epoch 8/20\n",
            "25000/25000 - 4s - loss: 0.1923 - accuracy: 0.9557 - binary_crossentropy: 0.1297 - val_loss: 0.3981 - val_accuracy: 0.8723 - val_binary_crossentropy: 0.3350\n",
            "Epoch 9/20\n",
            "25000/25000 - 4s - loss: 0.1837 - accuracy: 0.9613 - binary_crossentropy: 0.1200 - val_loss: 0.4127 - val_accuracy: 0.8702 - val_binary_crossentropy: 0.3486\n",
            "Epoch 10/20\n",
            "25000/25000 - 4s - loss: 0.1772 - accuracy: 0.9629 - binary_crossentropy: 0.1125 - val_loss: 0.4273 - val_accuracy: 0.8676 - val_binary_crossentropy: 0.3619\n",
            "Epoch 11/20\n",
            "25000/25000 - 4s - loss: 0.1717 - accuracy: 0.9662 - binary_crossentropy: 0.1055 - val_loss: 0.4442 - val_accuracy: 0.8668 - val_binary_crossentropy: 0.3774\n",
            "Epoch 12/20\n",
            "25000/25000 - 4s - loss: 0.1705 - accuracy: 0.9657 - binary_crossentropy: 0.1029 - val_loss: 0.4648 - val_accuracy: 0.8633 - val_binary_crossentropy: 0.3959\n",
            "Epoch 13/20\n",
            "25000/25000 - 3s - loss: 0.1647 - accuracy: 0.9679 - binary_crossentropy: 0.0952 - val_loss: 0.4767 - val_accuracy: 0.8627 - val_binary_crossentropy: 0.4068\n",
            "Epoch 14/20\n",
            "25000/25000 - 3s - loss: 0.1599 - accuracy: 0.9715 - binary_crossentropy: 0.0893 - val_loss: 0.4826 - val_accuracy: 0.8620 - val_binary_crossentropy: 0.4115\n",
            "Epoch 15/20\n",
            "25000/25000 - 4s - loss: 0.1519 - accuracy: 0.9764 - binary_crossentropy: 0.0806 - val_loss: 0.4931 - val_accuracy: 0.8615 - val_binary_crossentropy: 0.4219\n",
            "Epoch 16/20\n",
            "25000/25000 - 4s - loss: 0.1466 - accuracy: 0.9769 - binary_crossentropy: 0.0753 - val_loss: 0.5076 - val_accuracy: 0.8582 - val_binary_crossentropy: 0.4360\n",
            "Epoch 17/20\n",
            "25000/25000 - 4s - loss: 0.1425 - accuracy: 0.9811 - binary_crossentropy: 0.0708 - val_loss: 0.5107 - val_accuracy: 0.8616 - val_binary_crossentropy: 0.4391\n",
            "Epoch 18/20\n",
            "25000/25000 - 3s - loss: 0.1374 - accuracy: 0.9815 - binary_crossentropy: 0.0659 - val_loss: 0.5275 - val_accuracy: 0.8583 - val_binary_crossentropy: 0.4559\n",
            "Epoch 19/20\n",
            "25000/25000 - 3s - loss: 0.1367 - accuracy: 0.9811 - binary_crossentropy: 0.0651 - val_loss: 0.5332 - val_accuracy: 0.8586 - val_binary_crossentropy: 0.4610\n",
            "Epoch 20/20\n",
            "25000/25000 - 4s - loss: 0.1375 - accuracy: 0.9820 - binary_crossentropy: 0.0647 - val_loss: 0.5441 - val_accuracy: 0.8585 - val_binary_crossentropy: 0.4707\n"
          ],
          "name": "stdout"
        }
      ]
    },
    {
      "cell_type": "code",
      "metadata": {
        "id": "H02mE5nfSebm",
        "colab_type": "code",
        "colab": {
          "base_uri": "https://localhost:8080/",
          "height": 626
        },
        "outputId": "413054b6-8607-468a-b6c1-06bf907327d2"
      },
      "source": [
        "plot_history([('baseline', baseline_history), \n",
        "              ('l2', l2_model_history)])"
      ],
      "execution_count": 22,
      "outputs": [
        {
          "output_type": "display_data",
          "data": {
            "image/png": "[encoded data removed]",
            "text/plain": [
              "<Figure size 1152x720 with 1 Axes>"
            ]
          },
          "metadata": {
            "tags": []
          }
        }
      ]
    },
    {
      "cell_type": "code",
      "metadata": {
        "id": "838BvTXDShUj",
        "colab_type": "code",
        "colab": {}
      },
      "source": [
        "dpt_model = keras.models.Sequential([\n",
        "                                     keras.layers.Dense(16, activation='relu', input_shape=(NUM_WORDS,)),\n",
        "                                     keras.layers.Dropout(0.5),\n",
        "                                     keras.layers.Dense(16, activation='relu'),\n",
        "                                     keras.layers.Dropout(0.5),\n",
        "                                     keras.layers.Dense(1, activation='sigmoid')\n",
        "])"
      ],
      "execution_count": 0,
      "outputs": []
    },
    {
      "cell_type": "code",
      "metadata": {
        "id": "7yTvBdPySjtI",
        "colab_type": "code",
        "colab": {}
      },
      "source": [
        "dpt_model.compile(optimizer='adam',\n",
        "                  loss='binary_crossentropy',\n",
        "                  metrics=['accuracy','binary_crossentropy'])"
      ],
      "execution_count": 0,
      "outputs": []
    },
    {
      "cell_type": "code",
      "metadata": {
        "id": "pWQ5a6qmSk58",
        "colab_type": "code",
        "colab": {
          "base_uri": "https://localhost:8080/",
          "height": 734
        },
        "outputId": "6c57a273-e71e-48ae-cd09-79c3a4fb66aa"
      },
      "source": [
        "dpt_model_history = dpt_model.fit(train_data, train_labels,\n",
        "                                  epochs=20,\n",
        "                                  batch_size=512,\n",
        "                                  validation_data=(test_data, test_labels),\n",
        "                                  verbose=2)"
      ],
      "execution_count": 25,
      "outputs": [
        {
          "output_type": "stream",
          "text": [
            "Train on 25000 samples, validate on 25000 samples\n",
            "Epoch 1/20\n",
            "25000/25000 - 4s - loss: 0.6056 - accuracy: 0.6638 - binary_crossentropy: 0.6056 - val_loss: 0.4472 - val_accuracy: 0.8588 - val_binary_crossentropy: 0.4472\n",
            "Epoch 2/20\n",
            "25000/25000 - 4s - loss: 0.4323 - accuracy: 0.8219 - binary_crossentropy: 0.4323 - val_loss: 0.3311 - val_accuracy: 0.8850 - val_binary_crossentropy: 0.3311\n",
            "Epoch 3/20\n",
            "25000/25000 - 3s - loss: 0.3415 - accuracy: 0.8672 - binary_crossentropy: 0.3415 - val_loss: 0.2865 - val_accuracy: 0.8884 - val_binary_crossentropy: 0.2865\n",
            "Epoch 4/20\n",
            "25000/25000 - 4s - loss: 0.2885 - accuracy: 0.8932 - binary_crossentropy: 0.2885 - val_loss: 0.2767 - val_accuracy: 0.8895 - val_binary_crossentropy: 0.2767\n",
            "Epoch 5/20\n",
            "25000/25000 - 4s - loss: 0.2502 - accuracy: 0.9108 - binary_crossentropy: 0.2502 - val_loss: 0.2755 - val_accuracy: 0.8889 - val_binary_crossentropy: 0.2755\n",
            "Epoch 6/20\n",
            "25000/25000 - 3s - loss: 0.2154 - accuracy: 0.9250 - binary_crossentropy: 0.2154 - val_loss: 0.2885 - val_accuracy: 0.8869 - val_binary_crossentropy: 0.2885\n",
            "Epoch 7/20\n",
            "25000/25000 - 4s - loss: 0.1952 - accuracy: 0.9331 - binary_crossentropy: 0.1952 - val_loss: 0.2961 - val_accuracy: 0.8829 - val_binary_crossentropy: 0.2961\n",
            "Epoch 8/20\n",
            "25000/25000 - 4s - loss: 0.1680 - accuracy: 0.9395 - binary_crossentropy: 0.1680 - val_loss: 0.3235 - val_accuracy: 0.8827 - val_binary_crossentropy: 0.3235\n",
            "Epoch 9/20\n",
            "25000/25000 - 3s - loss: 0.1537 - accuracy: 0.9462 - binary_crossentropy: 0.1537 - val_loss: 0.3441 - val_accuracy: 0.8816 - val_binary_crossentropy: 0.3441\n",
            "Epoch 10/20\n",
            "25000/25000 - 4s - loss: 0.1338 - accuracy: 0.9522 - binary_crossentropy: 0.1338 - val_loss: 0.3582 - val_accuracy: 0.8811 - val_binary_crossentropy: 0.3582\n",
            "Epoch 11/20\n",
            "25000/25000 - 3s - loss: 0.1216 - accuracy: 0.9558 - binary_crossentropy: 0.1216 - val_loss: 0.3841 - val_accuracy: 0.8796 - val_binary_crossentropy: 0.3841\n",
            "Epoch 12/20\n",
            "25000/25000 - 3s - loss: 0.1134 - accuracy: 0.9584 - binary_crossentropy: 0.1134 - val_loss: 0.4039 - val_accuracy: 0.8786 - val_binary_crossentropy: 0.4039\n",
            "Epoch 13/20\n",
            "25000/25000 - 4s - loss: 0.1029 - accuracy: 0.9597 - binary_crossentropy: 0.1029 - val_loss: 0.4267 - val_accuracy: 0.8774 - val_binary_crossentropy: 0.4267\n",
            "Epoch 14/20\n",
            "25000/25000 - 3s - loss: 0.0958 - accuracy: 0.9638 - binary_crossentropy: 0.0958 - val_loss: 0.4632 - val_accuracy: 0.8774 - val_binary_crossentropy: 0.4632\n",
            "Epoch 15/20\n",
            "25000/25000 - 4s - loss: 0.0882 - accuracy: 0.9656 - binary_crossentropy: 0.0882 - val_loss: 0.4621 - val_accuracy: 0.8788 - val_binary_crossentropy: 0.4621\n",
            "Epoch 16/20\n",
            "25000/25000 - 3s - loss: 0.0843 - accuracy: 0.9646 - binary_crossentropy: 0.0843 - val_loss: 0.4716 - val_accuracy: 0.8774 - val_binary_crossentropy: 0.4716\n",
            "Epoch 17/20\n",
            "25000/25000 - 3s - loss: 0.0820 - accuracy: 0.9655 - binary_crossentropy: 0.0820 - val_loss: 0.4945 - val_accuracy: 0.8766 - val_binary_crossentropy: 0.4945\n",
            "Epoch 18/20\n",
            "25000/25000 - 3s - loss: 0.0772 - accuracy: 0.9684 - binary_crossentropy: 0.0772 - val_loss: 0.4938 - val_accuracy: 0.8770 - val_binary_crossentropy: 0.4938\n",
            "Epoch 19/20\n",
            "25000/25000 - 3s - loss: 0.0750 - accuracy: 0.9683 - binary_crossentropy: 0.0750 - val_loss: 0.5481 - val_accuracy: 0.8752 - val_binary_crossentropy: 0.5481\n",
            "Epoch 20/20\n",
            "25000/25000 - 4s - loss: 0.0700 - accuracy: 0.9702 - binary_crossentropy: 0.0700 - val_loss: 0.5643 - val_accuracy: 0.8737 - val_binary_crossentropy: 0.5643\n"
          ],
          "name": "stdout"
        }
      ]
    },
    {
      "cell_type": "code",
      "metadata": {
        "id": "S2wvRtYxSllA",
        "colab_type": "code",
        "colab": {
          "base_uri": "https://localhost:8080/",
          "height": 626
        },
        "outputId": "87069649-dbb3-43cf-b2ab-42beacbb84db"
      },
      "source": [
        "plot_history([('baseline', baseline_history),\n",
        "              ('dropout', dpt_model_history)])"
      ],
      "execution_count": 26,
      "outputs": [
        {
          "output_type": "display_data",
          "data": {
            "image/png": "[encoded data removed]",
            "text/plain": [
              "<Figure size 1152x720 with 1 Axes>"
            ]
          },
          "metadata": {
            "tags": []
          }
        }
      ]
    },
    {
      "cell_type": "code",
      "metadata": {
        "id": "2_3l5vBCSnMe",
        "colab_type": "code",
        "colab": {}
      },
      "source": [
        "# 3번째"
      ],
      "execution_count": 0,
      "outputs": []
    },
    {
      "cell_type": "code",
      "metadata": {
        "id": "49wRKOBkTYU5",
        "colab_type": "code",
        "colab": {}
      },
      "source": [
        "l2_model = keras.models.Sequential([\n",
        "                                    keras.layers.Dense(16, kernel_regularizer=keras.regularizers.l2(0.001),\n",
        "                                                       activation='relu', input_shape=(NUM_WORDS, )),\n",
        "                                    keras.layers.Dense(16, kernel_regularizer=keras.regularizers.l2(0.001),\n",
        "                                                       activation='relu'),\n",
        "                                    keras.layers.Dense(1, activation='sigmoid')                                    \n",
        "])"
      ],
      "execution_count": 0,
      "outputs": []
    },
    {
      "cell_type": "code",
      "metadata": {
        "id": "GZvDAZDYTaNO",
        "colab_type": "code",
        "colab": {}
      },
      "source": [
        "l2_model.compile(optimizer='adam', loss='binary_crossentropy', metrics=['accuracy', 'binary_crossentropy'])"
      ],
      "execution_count": 0,
      "outputs": []
    },
    {
      "cell_type": "code",
      "metadata": {
        "id": "54tgNVYhTbpg",
        "colab_type": "code",
        "colab": {
          "base_uri": "https://localhost:8080/",
          "height": 394
        },
        "outputId": "c9b46106-84cb-435f-f1ca-13ae4b48d653"
      },
      "source": [
        "l2_model_history = l2_model.fit(train_data, train_labels, epochs=10, batch_size=512, validation_data=(test_data, test_labels),\n",
        "                                verbose=2)"
      ],
      "execution_count": 30,
      "outputs": [
        {
          "output_type": "stream",
          "text": [
            "Train on 25000 samples, validate on 25000 samples\n",
            "Epoch 1/10\n",
            "25000/25000 - 4s - loss: 0.5520 - accuracy: 0.7998 - binary_crossentropy: 0.5143 - val_loss: 0.3934 - val_accuracy: 0.8704 - val_binary_crossentropy: 0.3538\n",
            "Epoch 2/10\n",
            "25000/25000 - 4s - loss: 0.3107 - accuracy: 0.9071 - binary_crossentropy: 0.2657 - val_loss: 0.3374 - val_accuracy: 0.8868 - val_binary_crossentropy: 0.2885\n",
            "Epoch 3/10\n",
            "25000/25000 - 4s - loss: 0.2539 - accuracy: 0.9294 - binary_crossentropy: 0.2022 - val_loss: 0.3399 - val_accuracy: 0.8859 - val_binary_crossentropy: 0.2862\n",
            "Epoch 4/10\n",
            "25000/25000 - 3s - loss: 0.2277 - accuracy: 0.9412 - binary_crossentropy: 0.1721 - val_loss: 0.3513 - val_accuracy: 0.8820 - val_binary_crossentropy: 0.2945\n",
            "Epoch 5/10\n",
            "25000/25000 - 4s - loss: 0.2125 - accuracy: 0.9481 - binary_crossentropy: 0.1542 - val_loss: 0.3669 - val_accuracy: 0.8782 - val_binary_crossentropy: 0.3078\n",
            "Epoch 6/10\n",
            "25000/25000 - 4s - loss: 0.2012 - accuracy: 0.9528 - binary_crossentropy: 0.1409 - val_loss: 0.3841 - val_accuracy: 0.8755 - val_binary_crossentropy: 0.3231\n",
            "Epoch 7/10\n",
            "25000/25000 - 3s - loss: 0.1920 - accuracy: 0.9561 - binary_crossentropy: 0.1302 - val_loss: 0.4020 - val_accuracy: 0.8731 - val_binary_crossentropy: 0.3397\n",
            "Epoch 8/10\n",
            "25000/25000 - 4s - loss: 0.1883 - accuracy: 0.9567 - binary_crossentropy: 0.1249 - val_loss: 0.4202 - val_accuracy: 0.8706 - val_binary_crossentropy: 0.3559\n",
            "Epoch 9/10\n",
            "25000/25000 - 3s - loss: 0.1798 - accuracy: 0.9617 - binary_crossentropy: 0.1150 - val_loss: 0.4484 - val_accuracy: 0.8662 - val_binary_crossentropy: 0.3832\n",
            "Epoch 10/10\n",
            "25000/25000 - 4s - loss: 0.1750 - accuracy: 0.9627 - binary_crossentropy: 0.1091 - val_loss: 0.4509 - val_accuracy: 0.8663 - val_binary_crossentropy: 0.3846\n"
          ],
          "name": "stdout"
        }
      ]
    },
    {
      "cell_type": "code",
      "metadata": {
        "id": "S-hCH-yWTeXs",
        "colab_type": "code",
        "colab": {
          "base_uri": "https://localhost:8080/",
          "height": 626
        },
        "outputId": "b2035edf-3722-4bdf-c501-db81bec3f615"
      },
      "source": [
        "plot_history([('baseline', baseline_history), \n",
        "              ('l2', l2_model_history)])"
      ],
      "execution_count": 31,
      "outputs": [
        {
          "output_type": "display_data",
          "data": {
            "image/png": "[encoded data removed]",
            "text/plain": [
              "<Figure size 1152x720 with 1 Axes>"
            ]
          },
          "metadata": {
            "tags": []
          }
        }
      ]
    },
    {
      "cell_type": "code",
      "metadata": {
        "id": "AASJBmQHTgA0",
        "colab_type": "code",
        "colab": {}
      },
      "source": [
        "dpt_model = keras.models.Sequential([\n",
        "                                     keras.layers.Dense(16, activation='relu', input_shape=(NUM_WORDS,)),\n",
        "                                     keras.layers.Dropout(0.5),\n",
        "                                     keras.layers.Dense(16, activation='relu'),\n",
        "                                     keras.layers.Dropout(0.5),\n",
        "                                     keras.layers.Dense(1, activation='sigmoid')\n",
        "])"
      ],
      "execution_count": 0,
      "outputs": []
    },
    {
      "cell_type": "code",
      "metadata": {
        "id": "MYfYUuocThZE",
        "colab_type": "code",
        "colab": {}
      },
      "source": [
        "dpt_model.compile(optimizer='adam',\n",
        "                  loss='binary_crossentropy',\n",
        "                  metrics=['accuracy','binary_crossentropy'])"
      ],
      "execution_count": 0,
      "outputs": []
    },
    {
      "cell_type": "code",
      "metadata": {
        "id": "p3eOgrXVTi_B",
        "colab_type": "code",
        "colab": {
          "base_uri": "https://localhost:8080/",
          "height": 394
        },
        "outputId": "d6136ef1-d844-4f2f-8110-69c91eaae56c"
      },
      "source": [
        "dpt_model_history = dpt_model.fit(train_data, train_labels, epochs=10, batch_size=512,\n",
        "                                  validation_data=(test_data, test_labels), verbose=2)"
      ],
      "execution_count": 34,
      "outputs": [
        {
          "output_type": "stream",
          "text": [
            "Train on 25000 samples, validate on 25000 samples\n",
            "Epoch 1/10\n",
            "25000/25000 - 4s - loss: 0.6272 - accuracy: 0.6327 - binary_crossentropy: 0.6272 - val_loss: 0.4782 - val_accuracy: 0.8517 - val_binary_crossentropy: 0.4782\n",
            "Epoch 2/10\n",
            "25000/25000 - 4s - loss: 0.4561 - accuracy: 0.7984 - binary_crossentropy: 0.4561 - val_loss: 0.3399 - val_accuracy: 0.8756 - val_binary_crossentropy: 0.3399\n",
            "Epoch 3/10\n",
            "25000/25000 - 3s - loss: 0.3563 - accuracy: 0.8553 - binary_crossentropy: 0.3563 - val_loss: 0.2892 - val_accuracy: 0.8872 - val_binary_crossentropy: 0.2892\n",
            "Epoch 4/10\n",
            "25000/25000 - 3s - loss: 0.3021 - accuracy: 0.8822 - binary_crossentropy: 0.3021 - val_loss: 0.2747 - val_accuracy: 0.8879 - val_binary_crossentropy: 0.2747\n",
            "Epoch 5/10\n",
            "25000/25000 - 3s - loss: 0.2597 - accuracy: 0.9018 - binary_crossentropy: 0.2597 - val_loss: 0.2780 - val_accuracy: 0.8852 - val_binary_crossentropy: 0.2780\n",
            "Epoch 6/10\n",
            "25000/25000 - 3s - loss: 0.2331 - accuracy: 0.9151 - binary_crossentropy: 0.2331 - val_loss: 0.2850 - val_accuracy: 0.8854 - val_binary_crossentropy: 0.2850\n",
            "Epoch 7/10\n",
            "25000/25000 - 3s - loss: 0.2060 - accuracy: 0.9238 - binary_crossentropy: 0.2060 - val_loss: 0.2935 - val_accuracy: 0.8855 - val_binary_crossentropy: 0.2935\n",
            "Epoch 8/10\n",
            "25000/25000 - 4s - loss: 0.1839 - accuracy: 0.9294 - binary_crossentropy: 0.1839 - val_loss: 0.3159 - val_accuracy: 0.8834 - val_binary_crossentropy: 0.3159\n",
            "Epoch 9/10\n",
            "25000/25000 - 3s - loss: 0.1694 - accuracy: 0.9342 - binary_crossentropy: 0.1694 - val_loss: 0.3373 - val_accuracy: 0.8829 - val_binary_crossentropy: 0.3373\n",
            "Epoch 10/10\n",
            "25000/25000 - 3s - loss: 0.1524 - accuracy: 0.9441 - binary_crossentropy: 0.1524 - val_loss: 0.3522 - val_accuracy: 0.8819 - val_binary_crossentropy: 0.3522\n"
          ],
          "name": "stdout"
        }
      ]
    },
    {
      "cell_type": "code",
      "metadata": {
        "id": "jfjQF4S5TniI",
        "colab_type": "code",
        "colab": {
          "base_uri": "https://localhost:8080/",
          "height": 626
        },
        "outputId": "35d96aef-79c3-4353-f1a1-709c9e8a500f"
      },
      "source": [
        "plot_history([('baseline', baseline_history),\n",
        "              ('dropout', dpt_model_history)])"
      ],
      "execution_count": 35,
      "outputs": [
        {
          "output_type": "display_data",
          "data": {
            "image/png": "[encoded data removed]",
            "text/plain": [
              "<Figure size 1152x720 with 1 Axes>"
            ]
          },
          "metadata": {
            "tags": []
          }
        }
      ]
    },
    {
      "cell_type": "code",
      "metadata": {
        "id": "UKDmYoAbTozt",
        "colab_type": "code",
        "colab": {}
      },
      "source": [
        "# 4번째"
      ],
      "execution_count": 0,
      "outputs": []
    },
    {
      "cell_type": "code",
      "metadata": {
        "id": "d-vIjwqGUyjb",
        "colab_type": "code",
        "colab": {}
      },
      "source": [
        "l2_model = keras.models.Sequential([\n",
        "    keras.layers.Dense(16, kernel_regularizer=keras.regularizers.l2(0.001), activation='relu', input_shape=(NUM_WORDS, )),\n",
        "    keras.layers.Dense(16, kernel_regularizer=keras.regularizers.l2(0.001), activation='relu'),\n",
        "    keras.layers.Dense(1, activation='sigmoid')                                    \n",
        "])"
      ],
      "execution_count": 0,
      "outputs": []
    },
    {
      "cell_type": "code",
      "metadata": {
        "id": "WeClHlD0U48M",
        "colab_type": "code",
        "colab": {}
      },
      "source": [
        "l2_model.compile(optimizer='adam', loss='binary_crossentropy', metrics=['accuracy', 'binary_crossentropy'])"
      ],
      "execution_count": 0,
      "outputs": []
    },
    {
      "cell_type": "code",
      "metadata": {
        "id": "s_1eI_UQU7Yo",
        "colab_type": "code",
        "colab": {
          "base_uri": "https://localhost:8080/",
          "height": 394
        },
        "outputId": "6c597dcc-a534-4d3c-a7ea-b9ccddce5f05"
      },
      "source": [
        "l2_model_history = l2_model.fit(train_data, train_labels, epochs=10, batch_size=512, validation_data=(test_data, test_labels),\n",
        "                                verbose=2)"
      ],
      "execution_count": 39,
      "outputs": [
        {
          "output_type": "stream",
          "text": [
            "Train on 25000 samples, validate on 25000 samples\n",
            "Epoch 1/10\n",
            "25000/25000 - 4s - loss: 0.5431 - accuracy: 0.8166 - binary_crossentropy: 0.5023 - val_loss: 0.4046 - val_accuracy: 0.8724 - val_binary_crossentropy: 0.3616\n",
            "Epoch 2/10\n",
            "25000/25000 - 3s - loss: 0.3225 - accuracy: 0.9032 - binary_crossentropy: 0.2746 - val_loss: 0.3391 - val_accuracy: 0.8879 - val_binary_crossentropy: 0.2878\n",
            "Epoch 3/10\n",
            "25000/25000 - 4s - loss: 0.2651 - accuracy: 0.9258 - binary_crossentropy: 0.2115 - val_loss: 0.3470 - val_accuracy: 0.8807 - val_binary_crossentropy: 0.2919\n",
            "Epoch 4/10\n",
            "25000/25000 - 4s - loss: 0.2402 - accuracy: 0.9361 - binary_crossentropy: 0.1835 - val_loss: 0.3454 - val_accuracy: 0.8838 - val_binary_crossentropy: 0.2876\n",
            "Epoch 5/10\n",
            "25000/25000 - 4s - loss: 0.2233 - accuracy: 0.9438 - binary_crossentropy: 0.1647 - val_loss: 0.3621 - val_accuracy: 0.8788 - val_binary_crossentropy: 0.3028\n",
            "Epoch 6/10\n",
            "25000/25000 - 4s - loss: 0.2118 - accuracy: 0.9492 - binary_crossentropy: 0.1516 - val_loss: 0.3677 - val_accuracy: 0.8783 - val_binary_crossentropy: 0.3071\n",
            "Epoch 7/10\n",
            "25000/25000 - 4s - loss: 0.2024 - accuracy: 0.9525 - binary_crossentropy: 0.1412 - val_loss: 0.3812 - val_accuracy: 0.8760 - val_binary_crossentropy: 0.3196\n",
            "Epoch 8/10\n",
            "25000/25000 - 4s - loss: 0.1957 - accuracy: 0.9561 - binary_crossentropy: 0.1335 - val_loss: 0.3986 - val_accuracy: 0.8713 - val_binary_crossentropy: 0.3361\n",
            "Epoch 9/10\n",
            "25000/25000 - 4s - loss: 0.1891 - accuracy: 0.9589 - binary_crossentropy: 0.1260 - val_loss: 0.4036 - val_accuracy: 0.8722 - val_binary_crossentropy: 0.3401\n",
            "Epoch 10/10\n",
            "25000/25000 - 4s - loss: 0.1824 - accuracy: 0.9614 - binary_crossentropy: 0.1187 - val_loss: 0.4152 - val_accuracy: 0.8691 - val_binary_crossentropy: 0.3513\n"
          ],
          "name": "stdout"
        }
      ]
    },
    {
      "cell_type": "code",
      "metadata": {
        "id": "sNDSuUgWU9hj",
        "colab_type": "code",
        "colab": {}
      },
      "source": [
        "dpt_model = keras.models.Sequential([\n",
        "    keras.layers.Dense(16, activation='relu', input_shape=(NUM_WORDS,)),\n",
        "    keras.layers.Dropout(0.5),\n",
        "    keras.layers.Dense(16, activation='relu'),\n",
        "    keras.layers.Dropout(0.5),\n",
        "    keras.layers.Dense(1, activation='sigmoid')\n",
        "])"
      ],
      "execution_count": 0,
      "outputs": []
    },
    {
      "cell_type": "code",
      "metadata": {
        "id": "5QNwq-CbU_u5",
        "colab_type": "code",
        "colab": {}
      },
      "source": [
        "dpt_model.compile(optimizer='adam',\n",
        "                  loss='binary_crossentropy',\n",
        "                  metrics=['accuracy','binary_crossentropy'])"
      ],
      "execution_count": 0,
      "outputs": []
    },
    {
      "cell_type": "code",
      "metadata": {
        "id": "2WT5CgCnVBGQ",
        "colab_type": "code",
        "colab": {
          "base_uri": "https://localhost:8080/",
          "height": 394
        },
        "outputId": "b7939589-6220-4052-a19f-3cdf56b68b58"
      },
      "source": [
        "dpt_model_history = dpt_model.fit(train_data, train_labels, epochs=10, batch_size=512,\n",
        "                                  validation_data=(test_data, test_labels), verbose=2)"
      ],
      "execution_count": 42,
      "outputs": [
        {
          "output_type": "stream",
          "text": [
            "Train on 25000 samples, validate on 25000 samples\n",
            "Epoch 1/10\n",
            "25000/25000 - 4s - loss: 0.6355 - accuracy: 0.6156 - binary_crossentropy: 0.6355 - val_loss: 0.5066 - val_accuracy: 0.8582 - val_binary_crossentropy: 0.5066\n",
            "Epoch 2/10\n",
            "25000/25000 - 4s - loss: 0.4764 - accuracy: 0.7915 - binary_crossentropy: 0.4764 - val_loss: 0.3553 - val_accuracy: 0.8779 - val_binary_crossentropy: 0.3553\n",
            "Epoch 3/10\n",
            "25000/25000 - 3s - loss: 0.3648 - accuracy: 0.8624 - binary_crossentropy: 0.3648 - val_loss: 0.2886 - val_accuracy: 0.8875 - val_binary_crossentropy: 0.2886\n",
            "Epoch 4/10\n",
            "25000/25000 - 4s - loss: 0.2977 - accuracy: 0.8972 - binary_crossentropy: 0.2977 - val_loss: 0.2740 - val_accuracy: 0.8884 - val_binary_crossentropy: 0.2740\n",
            "Epoch 5/10\n",
            "25000/25000 - 4s - loss: 0.2489 - accuracy: 0.9155 - binary_crossentropy: 0.2489 - val_loss: 0.2754 - val_accuracy: 0.8867 - val_binary_crossentropy: 0.2754\n",
            "Epoch 6/10\n",
            "25000/25000 - 4s - loss: 0.2133 - accuracy: 0.9262 - binary_crossentropy: 0.2133 - val_loss: 0.2868 - val_accuracy: 0.8858 - val_binary_crossentropy: 0.2868\n",
            "Epoch 7/10\n",
            "25000/25000 - 4s - loss: 0.1901 - accuracy: 0.9344 - binary_crossentropy: 0.1901 - val_loss: 0.2923 - val_accuracy: 0.8851 - val_binary_crossentropy: 0.2923\n",
            "Epoch 8/10\n",
            "25000/25000 - 3s - loss: 0.1703 - accuracy: 0.9414 - binary_crossentropy: 0.1703 - val_loss: 0.3138 - val_accuracy: 0.8816 - val_binary_crossentropy: 0.3138\n",
            "Epoch 9/10\n",
            "25000/25000 - 3s - loss: 0.1570 - accuracy: 0.9484 - binary_crossentropy: 0.1570 - val_loss: 0.3533 - val_accuracy: 0.8791 - val_binary_crossentropy: 0.3533\n",
            "Epoch 10/10\n",
            "25000/25000 - 3s - loss: 0.1402 - accuracy: 0.9510 - binary_crossentropy: 0.1402 - val_loss: 0.3499 - val_accuracy: 0.8800 - val_binary_crossentropy: 0.3499\n"
          ],
          "name": "stdout"
        }
      ]
    },
    {
      "cell_type": "code",
      "metadata": {
        "id": "HVDpxYToVHg-",
        "colab_type": "code",
        "colab": {
          "base_uri": "https://localhost:8080/",
          "height": 626
        },
        "outputId": "bddbf9a1-3a27-4a12-f2fb-56484099ed59"
      },
      "source": [
        "plot_history([('baseline', baseline_history), \n",
        "              ('l2', l2_model_history)])"
      ],
      "execution_count": 43,
      "outputs": [
        {
          "output_type": "display_data",
          "data": {
            "image/png": "[encoded data removed]",
            "text/plain": [
              "<Figure size 1152x720 with 1 Axes>"
            ]
          },
          "metadata": {
            "tags": []
          }
        }
      ]
    },
    {
      "cell_type": "code",
      "metadata": {
        "id": "igrM3e3lVCk4",
        "colab_type": "code",
        "colab": {
          "base_uri": "https://localhost:8080/",
          "height": 626
        },
        "outputId": "b0c77e74-6517-42a2-edec-a2a14c986104"
      },
      "source": [
        "plot_history([('baseline', baseline_history),\n",
        "              ('dropout', dpt_model_history)])"
      ],
      "execution_count": 44,
      "outputs": [
        {
          "output_type": "display_data",
          "data": {
            "image/png": "[encoded data removed]",
            "text/plain": [
              "<Figure size 1152x720 with 1 Axes>"
            ]
          },
          "metadata": {
            "tags": []
          }
        }
      ]
    },
    {
      "cell_type": "markdown",
      "metadata": {
        "id": "kUhVcd_VVKcp",
        "colab_type": "text"
      },
      "source": [
        "### Load CSV data\n",
        "- tf.data.Dataset에서 csv 로딩"
      ]
    },
    {
      "cell_type": "code",
      "metadata": {
        "id": "CMUktaMlVH8J",
        "colab_type": "code",
        "colab": {}
      },
      "source": [
        "# 1번째"
      ],
      "execution_count": 0,
      "outputs": []
    },
    {
      "cell_type": "code",
      "metadata": {
        "id": "qdv_lOQMVOav",
        "colab_type": "code",
        "colab": {
          "base_uri": "https://localhost:8080/",
          "height": 34
        },
        "outputId": "0c6a2d4a-43d7-405e-a01e-346e91d90b57"
      },
      "source": [
        "try:\n",
        "  # %tensorflow_version only exists in Colab.\n",
        "  %tensorflow_version 2.x\n",
        "except Exception:\n",
        "  pass\n"
      ],
      "execution_count": 46,
      "outputs": [
        {
          "output_type": "stream",
          "text": [
            "TensorFlow is already loaded. Please restart the runtime to change versions.\n"
          ],
          "name": "stdout"
        }
      ]
    },
    {
      "cell_type": "code",
      "metadata": {
        "id": "SNfgpOtgVUJ2",
        "colab_type": "code",
        "colab": {}
      },
      "source": [
        "from __future__ import absolute_import, division, print_function, unicode_literals\n",
        "import functools\n",
        "\n",
        "import numpy as np\n",
        "import tensorflow as tf"
      ],
      "execution_count": 0,
      "outputs": []
    },
    {
      "cell_type": "code",
      "metadata": {
        "id": "akysWhxfVVD9",
        "colab_type": "code",
        "colab": {
          "base_uri": "https://localhost:8080/",
          "height": 85
        },
        "outputId": "00d11833-da5e-4a0f-bfcd-88d578cd73a2"
      },
      "source": [
        "TRAIN_DATA_URL = \"https://storage.googleapis.com/tf-datasets/titanic/train.csv\"\n",
        "TEST_DATA_URL = \"https://storage.googleapis.com/tf-datasets/titanic/eval.csv\"\n",
        "\n",
        "train_file_path = tf.keras.utils.get_file(\"train.csv\", TRAIN_DATA_URL)\n",
        "test_file_path = tf.keras.utils.get_file(\"eval.csv\", TEST_DATA_URL)"
      ],
      "execution_count": 48,
      "outputs": [
        {
          "output_type": "stream",
          "text": [
            "Downloading data from https://storage.googleapis.com/tf-datasets/titanic/train.csv\n",
            "32768/30874 [===============================] - 0s 0us/step\n",
            "Downloading data from https://storage.googleapis.com/tf-datasets/titanic/eval.csv\n",
            "16384/13049 [=====================================] - 0s 0us/step\n"
          ],
          "name": "stdout"
        }
      ]
    },
    {
      "cell_type": "code",
      "metadata": {
        "id": "EO7F4uikVWEX",
        "colab_type": "code",
        "colab": {}
      },
      "source": [
        "np.set_printoptions(precision=3, suppress=True)"
      ],
      "execution_count": 0,
      "outputs": []
    },
    {
      "cell_type": "code",
      "metadata": {
        "id": "9Ic5pnAjVXdU",
        "colab_type": "code",
        "colab": {
          "base_uri": "https://localhost:8080/",
          "height": 187
        },
        "outputId": "017d2cd8-16b2-4fe2-e739-cd63f8739bc3"
      },
      "source": [
        "!head {train_file_path}"
      ],
      "execution_count": 50,
      "outputs": [
        {
          "output_type": "stream",
          "text": [
            "survived,sex,age,n_siblings_spouses,parch,fare,class,deck,embark_town,alone\n",
            "0,male,22.0,1,0,7.25,Third,unknown,Southampton,n\n",
            "1,female,38.0,1,0,71.2833,First,C,Cherbourg,n\n",
            "1,female,26.0,0,0,7.925,Third,unknown,Southampton,y\n",
            "1,female,35.0,1,0,53.1,First,C,Southampton,n\n",
            "0,male,28.0,0,0,8.4583,Third,unknown,Queenstown,y\n",
            "0,male,2.0,3,1,21.075,Third,unknown,Southampton,n\n",
            "1,female,27.0,0,2,11.1333,Third,unknown,Southampton,n\n",
            "1,female,14.0,1,0,30.0708,Second,unknown,Cherbourg,n\n",
            "1,female,4.0,1,1,16.7,Third,G,Southampton,n\n"
          ],
          "name": "stdout"
        }
      ]
    },
    {
      "cell_type": "code",
      "metadata": {
        "id": "9AofZ1oNVcn7",
        "colab_type": "code",
        "colab": {}
      },
      "source": [
        "LABEL_COLUMN = 'survived'\n",
        "LABELS = [0, 1]"
      ],
      "execution_count": 0,
      "outputs": []
    },
    {
      "cell_type": "code",
      "metadata": {
        "id": "uo-kifqyVeeb",
        "colab_type": "code",
        "colab": {
          "base_uri": "https://localhost:8080/",
          "height": 88
        },
        "outputId": "974d5dc4-c512-487d-db14-b657a293de9e"
      },
      "source": [
        "def get_dataset(file_path, **kwargs):\n",
        "    dataset = tf.data.experimental.make_csv_dataset(\n",
        "        file_path,\n",
        "        batch_size=5, \n",
        "        label_name=LABEL_COLUMN,\n",
        "        na_value=\"?\",\n",
        "        num_epochs=1,\n",
        "        ignore_errors=True, \n",
        "        **kwargs)\n",
        "    return dataset\n",
        "\n",
        "raw_train_data = get_dataset(train_file_path)\n",
        "raw_test_data = get_dataset(test_file_path)"
      ],
      "execution_count": 52,
      "outputs": [
        {
          "output_type": "stream",
          "text": [
            "WARNING:tensorflow:From /usr/local/lib/python3.6/dist-packages/tensorflow_core/python/data/experimental/ops/readers.py:540: parallel_interleave (from tensorflow.python.data.experimental.ops.interleave_ops) is deprecated and will be removed in a future version.\n",
            "Instructions for updating:\n",
            "Use `tf.data.Dataset.interleave(map_func, cycle_length, block_length, num_parallel_calls=tf.data.experimental.AUTOTUNE)` instead. If sloppy execution is desired, use `tf.data.Options.experimental_deterministic`.\n"
          ],
          "name": "stdout"
        }
      ]
    },
    {
      "cell_type": "code",
      "metadata": {
        "id": "7VibAnhqVpcg",
        "colab_type": "code",
        "colab": {}
      },
      "source": [
        "def show_batch(dataset):\n",
        "    for batch, label in dataset.take(1):\n",
        "        for key, value in batch.items():\n",
        "            print(\"{:20s}: {}\".format(key,value.numpy()))"
      ],
      "execution_count": 0,
      "outputs": []
    },
    {
      "cell_type": "code",
      "metadata": {
        "id": "m7zvTyeFVsAJ",
        "colab_type": "code",
        "colab": {
          "base_uri": "https://localhost:8080/",
          "height": 170
        },
        "outputId": "9519e365-d148-4939-a516-158f6c6bd722"
      },
      "source": [
        "show_batch(raw_train_data)"
      ],
      "execution_count": 54,
      "outputs": [
        {
          "output_type": "stream",
          "text": [
            "sex                 : [b'female' b'male' b'male' b'male' b'male']\n",
            "age                 : [50.  3. 28. 35. 22.]\n",
            "n_siblings_spouses  : [0 1 0 0 0]\n",
            "parch               : [1 1 0 0 0]\n",
            "fare                : [ 26.     18.75   56.496 512.329   7.125]\n",
            "class               : [b'Second' b'Second' b'Third' b'First' b'Third']\n",
            "deck                : [b'unknown' b'unknown' b'unknown' b'B' b'unknown']\n",
            "embark_town         : [b'Southampton' b'Southampton' b'Southampton' b'Cherbourg' b'Southampton']\n",
            "alone               : [b'n' b'n' b'y' b'y' b'y']\n"
          ],
          "name": "stdout"
        }
      ]
    },
    {
      "cell_type": "code",
      "metadata": {
        "id": "e8J4hPiQVt0M",
        "colab_type": "code",
        "colab": {
          "base_uri": "https://localhost:8080/",
          "height": 170
        },
        "outputId": "0b4e76fd-5867-47b3-a241-a4edf1ce23bc"
      },
      "source": [
        "CSV_COLUMNS = ['survived', 'sex', 'age', 'n_siblings_spouses', 'parch', 'fare', 'class', 'deck', 'embark_town', 'alone']\n",
        "\n",
        "temp_dataset = get_dataset(train_file_path, column_names=CSV_COLUMNS)\n",
        "\n",
        "show_batch(temp_dataset)"
      ],
      "execution_count": 55,
      "outputs": [
        {
          "output_type": "stream",
          "text": [
            "sex                 : [b'female' b'male' b'male' b'male' b'male']\n",
            "age                 : [28. 20. 45. 28. 30.]\n",
            "n_siblings_spouses  : [0 1 1 0 0]\n",
            "parch               : [0 1 0 1 0]\n",
            "fare                : [12.35  15.742 83.475 33.     7.896]\n",
            "class               : [b'Second' b'Third' b'First' b'Second' b'Third']\n",
            "deck                : [b'E' b'unknown' b'C' b'unknown' b'unknown']\n",
            "embark_town         : [b'Queenstown' b'Cherbourg' b'Southampton' b'Southampton' b'Southampton']\n",
            "alone               : [b'y' b'n' b'n' b'n' b'y']\n"
          ],
          "name": "stdout"
        }
      ]
    },
    {
      "cell_type": "code",
      "metadata": {
        "id": "cHA3D7EhV6SP",
        "colab_type": "code",
        "colab": {
          "base_uri": "https://localhost:8080/",
          "height": 102
        },
        "outputId": "d2e04e32-04ab-4033-a523-d8cc84c1ccae"
      },
      "source": [
        "SELECT_COLUMNS = ['survived', 'age', 'n_siblings_spouses', 'class', 'deck', 'alone']\n",
        "\n",
        "temp_dataset = get_dataset(train_file_path, select_columns=SELECT_COLUMNS)\n",
        "\n",
        "show_batch(temp_dataset)"
      ],
      "execution_count": 56,
      "outputs": [
        {
          "output_type": "stream",
          "text": [
            "age                 : [17. 16. 32. 28. 28.]\n",
            "n_siblings_spouses  : [1 0 0 0 1]\n",
            "class               : [b'First' b'Third' b'Third' b'Second' b'First']\n",
            "deck                : [b'B' b'unknown' b'unknown' b'unknown' b'C']\n",
            "alone               : [b'n' b'y' b'y' b'y' b'n']\n"
          ],
          "name": "stdout"
        }
      ]
    },
    {
      "cell_type": "code",
      "metadata": {
        "id": "ECxCtjAYV7LZ",
        "colab_type": "code",
        "colab": {
          "base_uri": "https://localhost:8080/",
          "height": 85
        },
        "outputId": "8cb02172-7513-4b75-8a34-e7bb2fa551b4"
      },
      "source": [
        "SELECT_COLUMNS = ['survived', 'age', 'n_siblings_spouses', 'parch', 'fare']\n",
        "DEFAULTS = [0, 0.0, 0.0, 0.0, 0.0]\n",
        "temp_dataset = get_dataset(train_file_path, select_columns=SELECT_COLUMNS, column_defaults = DEFAULTS)\n",
        "\n",
        "show_batch(temp_dataset)"
      ],
      "execution_count": 57,
      "outputs": [
        {
          "output_type": "stream",
          "text": [
            "age                 : [22. 22. 24. 16. 28.]\n",
            "n_siblings_spouses  : [0. 0. 0. 0. 0.]\n",
            "parch               : [0. 0. 0. 0. 0.]\n",
            "fare                : [ 7.75   7.796 13.     7.75   7.854]\n"
          ],
          "name": "stdout"
        }
      ]
    },
    {
      "cell_type": "code",
      "metadata": {
        "id": "V8EPjcmWV_OU",
        "colab_type": "code",
        "colab": {}
      },
      "source": [
        "example_batch, labels_batch = next(iter(temp_dataset)) "
      ],
      "execution_count": 0,
      "outputs": []
    },
    {
      "cell_type": "code",
      "metadata": {
        "id": "IrjYVpQYWApv",
        "colab_type": "code",
        "colab": {}
      },
      "source": [
        "def pack(features, label):\n",
        "    return tf.stack(list(features.values()), axis=-1), label"
      ],
      "execution_count": 0,
      "outputs": []
    },
    {
      "cell_type": "code",
      "metadata": {
        "id": "V0-kDuhdWB7p",
        "colab_type": "code",
        "colab": {
          "base_uri": "https://localhost:8080/",
          "height": 136
        },
        "outputId": "ecb2263e-6bc5-4c6c-ffb3-ca9a9c3f8937"
      },
      "source": [
        "packed_dataset = temp_dataset.map(pack)\n",
        "\n",
        "for features, labels in packed_dataset.take(1):\n",
        "    print(features.numpy())\n",
        "    print()\n",
        "    print(labels.numpy())"
      ],
      "execution_count": 60,
      "outputs": [
        {
          "output_type": "stream",
          "text": [
            "[[28.     1.     0.    24.15 ]\n",
            " [16.     0.     0.     8.05 ]\n",
            " [40.     1.     0.     9.475]\n",
            " [38.     0.     0.    13.   ]\n",
            " [19.     0.     0.    10.5  ]]\n",
            "\n",
            "[1 0 0 0 0]\n"
          ],
          "name": "stdout"
        }
      ]
    },
    {
      "cell_type": "code",
      "metadata": {
        "id": "r33t_sO9WDLG",
        "colab_type": "code",
        "colab": {
          "base_uri": "https://localhost:8080/",
          "height": 187
        },
        "outputId": "df4da022-7786-4a66-e349-1b46aa7574d0"
      },
      "source": [
        "show_batch(raw_train_data)"
      ],
      "execution_count": 61,
      "outputs": [
        {
          "output_type": "stream",
          "text": [
            "sex                 : [b'male' b'male' b'female' b'male' b'female']\n",
            "age                 : [25. 16. 29. 26. 42.]\n",
            "n_siblings_spouses  : [0 1 1 0 1]\n",
            "parch               : [0 3 0 0 0]\n",
            "fare                : [ 7.05  34.375 26.     7.896 26.   ]\n",
            "class               : [b'Third' b'Third' b'Second' b'Third' b'Second']\n",
            "deck                : [b'unknown' b'unknown' b'unknown' b'unknown' b'unknown']\n",
            "embark_town         : [b'Southampton' b'Southampton' b'Southampton' b'Southampton'\n",
            " b'Southampton']\n",
            "alone               : [b'y' b'n' b'n' b'y' b'n']\n"
          ],
          "name": "stdout"
        }
      ]
    },
    {
      "cell_type": "code",
      "metadata": {
        "id": "z5Y72i8yWENM",
        "colab_type": "code",
        "colab": {}
      },
      "source": [
        "example_batch, labels_batch = next(iter(temp_dataset)) "
      ],
      "execution_count": 0,
      "outputs": []
    },
    {
      "cell_type": "code",
      "metadata": {
        "id": "7hHlQgA6WFEZ",
        "colab_type": "code",
        "colab": {}
      },
      "source": [
        "class PackNumericFeatures(object):\n",
        "    def __init__(self, names):\n",
        "        self.names = names\n",
        "\n",
        "    def __call__(self, features, labels):\n",
        "        numeric_features = [features.pop(name) for name in self.names]\n",
        "        numeric_features = [tf.cast(feat, tf.float32) for feat in numeric_features]\n",
        "        numeric_features = tf.stack(numeric_features, axis=-1)\n",
        "        features['numeric'] = numeric_features\n",
        "\n",
        "        return features, labels"
      ],
      "execution_count": 0,
      "outputs": []
    },
    {
      "cell_type": "code",
      "metadata": {
        "id": "dPfvK2BdWNx0",
        "colab_type": "code",
        "colab": {}
      },
      "source": [
        "NUMERIC_FEATURES = ['age','n_siblings_spouses','parch', 'fare']\n",
        "\n",
        "packed_train_data = raw_train_data.map(\n",
        "    PackNumericFeatures(NUMERIC_FEATURES))\n",
        "\n",
        "packed_test_data = raw_test_data.map(\n",
        "    PackNumericFeatures(NUMERIC_FEATURES))"
      ],
      "execution_count": 0,
      "outputs": []
    },
    {
      "cell_type": "code",
      "metadata": {
        "id": "N-GPMaTiWcuj",
        "colab_type": "code",
        "colab": {
          "base_uri": "https://localhost:8080/",
          "height": 187
        },
        "outputId": "0d8f2655-a662-4144-b593-7e9f17fc8aa4"
      },
      "source": [
        "show_batch(packed_train_data)"
      ],
      "execution_count": 65,
      "outputs": [
        {
          "output_type": "stream",
          "text": [
            "sex                 : [b'male' b'female' b'female' b'female' b'male']\n",
            "class               : [b'Third' b'Third' b'Second' b'First' b'First']\n",
            "deck                : [b'unknown' b'unknown' b'unknown' b'unknown' b'A']\n",
            "embark_town         : [b'Southampton' b'Southampton' b'Southampton' b'Cherbourg' b'Cherbourg']\n",
            "alone               : [b'y' b'n' b'n' b'y' b'y']\n",
            "numeric             : [[ 28.      0.      0.     56.496]\n",
            " [ 28.      1.      2.     23.45 ]\n",
            " [ 34.      0.      1.     23.   ]\n",
            " [ 42.      0.      0.    227.525]\n",
            " [ 71.      0.      0.     34.654]]\n"
          ],
          "name": "stdout"
        }
      ]
    },
    {
      "cell_type": "code",
      "metadata": {
        "id": "vymNSs2EWdwp",
        "colab_type": "code",
        "colab": {}
      },
      "source": [
        "example_batch, labels_batch = next(iter(packed_train_data)) "
      ],
      "execution_count": 0,
      "outputs": []
    },
    {
      "cell_type": "code",
      "metadata": {
        "id": "rBh8s3HRWgL4",
        "colab_type": "code",
        "colab": {
          "base_uri": "https://localhost:8080/",
          "height": 297
        },
        "outputId": "22b52884-b214-473d-f9ed-45d7ed6b8286"
      },
      "source": [
        "import pandas as pd\n",
        "desc = pd.read_csv(train_file_path)[NUMERIC_FEATURES].describe()\n",
        "desc"
      ],
      "execution_count": 67,
      "outputs": [
        {
          "output_type": "execute_result",
          "data": {
            "text/html": [
              "<div>\n",
              "<style scoped>\n",
              "    .dataframe tbody tr th:only-of-type {\n",
              "        vertical-align: middle;\n",
              "    }\n",
              "\n",
              "    .dataframe tbody tr th {\n",
              "        vertical-align: top;\n",
              "    }\n",
              "\n",
              "    .dataframe thead th {\n",
              "        text-align: right;\n",
              "    }\n",
              "</style>\n",
              "<table border=\"1\" class=\"dataframe\">\n",
              "  <thead>\n",
              "    <tr style=\"text-align: right;\">\n",
              "      <th></th>\n",
              "      <th>age</th>\n",
              "      <th>n_siblings_spouses</th>\n",
              "      <th>parch</th>\n",
              "      <th>fare</th>\n",
              "    </tr>\n",
              "  </thead>\n",
              "  <tbody>\n",
              "    <tr>\n",
              "      <th>count</th>\n",
              "      <td>627.000000</td>\n",
              "      <td>627.000000</td>\n",
              "      <td>627.000000</td>\n",
              "      <td>627.000000</td>\n",
              "    </tr>\n",
              "    <tr>\n",
              "      <th>mean</th>\n",
              "      <td>29.631308</td>\n",
              "      <td>0.545455</td>\n",
              "      <td>0.379585</td>\n",
              "      <td>34.385399</td>\n",
              "    </tr>\n",
              "    <tr>\n",
              "      <th>std</th>\n",
              "      <td>12.511818</td>\n",
              "      <td>1.151090</td>\n",
              "      <td>0.792999</td>\n",
              "      <td>54.597730</td>\n",
              "    </tr>\n",
              "    <tr>\n",
              "      <th>min</th>\n",
              "      <td>0.750000</td>\n",
              "      <td>0.000000</td>\n",
              "      <td>0.000000</td>\n",
              "      <td>0.000000</td>\n",
              "    </tr>\n",
              "    <tr>\n",
              "      <th>25%</th>\n",
              "      <td>23.000000</td>\n",
              "      <td>0.000000</td>\n",
              "      <td>0.000000</td>\n",
              "      <td>7.895800</td>\n",
              "    </tr>\n",
              "    <tr>\n",
              "      <th>50%</th>\n",
              "      <td>28.000000</td>\n",
              "      <td>0.000000</td>\n",
              "      <td>0.000000</td>\n",
              "      <td>15.045800</td>\n",
              "    </tr>\n",
              "    <tr>\n",
              "      <th>75%</th>\n",
              "      <td>35.000000</td>\n",
              "      <td>1.000000</td>\n",
              "      <td>0.000000</td>\n",
              "      <td>31.387500</td>\n",
              "    </tr>\n",
              "    <tr>\n",
              "      <th>max</th>\n",
              "      <td>80.000000</td>\n",
              "      <td>8.000000</td>\n",
              "      <td>5.000000</td>\n",
              "      <td>512.329200</td>\n",
              "    </tr>\n",
              "  </tbody>\n",
              "</table>\n",
              "</div>"
            ],
            "text/plain": [
              "              age  n_siblings_spouses       parch        fare\n",
              "count  627.000000          627.000000  627.000000  627.000000\n",
              "mean    29.631308            0.545455    0.379585   34.385399\n",
              "std     12.511818            1.151090    0.792999   54.597730\n",
              "min      0.750000            0.000000    0.000000    0.000000\n",
              "25%     23.000000            0.000000    0.000000    7.895800\n",
              "50%     28.000000            0.000000    0.000000   15.045800\n",
              "75%     35.000000            1.000000    0.000000   31.387500\n",
              "max     80.000000            8.000000    5.000000  512.329200"
            ]
          },
          "metadata": {
            "tags": []
          },
          "execution_count": 67
        }
      ]
    },
    {
      "cell_type": "code",
      "metadata": {
        "id": "fQeGXJdpWhWW",
        "colab_type": "code",
        "colab": {}
      },
      "source": [
        "MEAN = np.array(desc.T['mean'])\n",
        "STD = np.array(desc.T['std'])"
      ],
      "execution_count": 0,
      "outputs": []
    },
    {
      "cell_type": "code",
      "metadata": {
        "id": "8ndlBNI-WiQy",
        "colab_type": "code",
        "colab": {}
      },
      "source": [
        "def normalize_numeric_data(data, mean, std):\n",
        "    return (data-mean)/std"
      ],
      "execution_count": 0,
      "outputs": []
    },
    {
      "cell_type": "code",
      "metadata": {
        "id": "tFS1ApxQWkF2",
        "colab_type": "code",
        "colab": {
          "base_uri": "https://localhost:8080/",
          "height": 54
        },
        "outputId": "dffa16d9-d453-431a-db90-2e86cd48e7a3"
      },
      "source": [
        "normalizer = functools.partial(normalize_numeric_data, mean=MEAN, std=STD)\n",
        "\n",
        "numeric_column = tf.feature_column.numeric_column('numeric', normalizer_fn=normalizer, shape=[len(NUMERIC_FEATURES)])\n",
        "numeric_columns = [numeric_column]\n",
        "numeric_column"
      ],
      "execution_count": 70,
      "outputs": [
        {
          "output_type": "execute_result",
          "data": {
            "text/plain": [
              "NumericColumn(key='numeric', shape=(4,), default_value=None, dtype=tf.float32, normalizer_fn=functools.partial(<function normalize_numeric_data at 0x7f730a431d90>, mean=array([29.631,  0.545,  0.38 , 34.385]), std=array([12.512,  1.151,  0.793, 54.598])))"
            ]
          },
          "metadata": {
            "tags": []
          },
          "execution_count": 70
        }
      ]
    },
    {
      "cell_type": "code",
      "metadata": {
        "id": "BxLnrd8fWoz1",
        "colab_type": "code",
        "colab": {
          "base_uri": "https://localhost:8080/",
          "height": 119
        },
        "outputId": "10dc7d6d-3170-43e2-86e1-66e2aba3ecd8"
      },
      "source": [
        "example_batch['numeric']"
      ],
      "execution_count": 71,
      "outputs": [
        {
          "output_type": "execute_result",
          "data": {
            "text/plain": [
              "<tf.Tensor: shape=(5, 4), dtype=float32, numpy=\n",
              "array([[ 28.   ,   1.   ,   0.   , 146.521],\n",
              "       [ 22.   ,   1.   ,   0.   ,   7.25 ],\n",
              "       [ 47.   ,   0.   ,   0.   ,   7.25 ],\n",
              "       [ 41.   ,   0.   ,   1.   ,  19.5  ],\n",
              "       [ 22.   ,   0.   ,   0.   ,   9.   ]], dtype=float32)>"
            ]
          },
          "metadata": {
            "tags": []
          },
          "execution_count": 71
        }
      ]
    },
    {
      "cell_type": "code",
      "metadata": {
        "id": "Q3Q_2g1qW9na",
        "colab_type": "code",
        "colab": {
          "base_uri": "https://localhost:8080/",
          "height": 102
        },
        "outputId": "4fc1065b-8bbe-42a8-a9d9-b5f2b7bdfebe"
      },
      "source": [
        "numeric_layer = tf.keras.layers.DenseFeatures(numeric_columns)\n",
        "numeric_layer(example_batch).numpy()"
      ],
      "execution_count": 72,
      "outputs": [
        {
          "output_type": "execute_result",
          "data": {
            "text/plain": [
              "array([[-0.13 ,  0.395, -0.479,  2.054],\n",
              "       [-0.61 ,  0.395, -0.479, -0.497],\n",
              "       [ 1.388, -0.474, -0.479, -0.497],\n",
              "       [ 0.909, -0.474,  0.782, -0.273],\n",
              "       [-0.61 , -0.474, -0.479, -0.465]], dtype=float32)"
            ]
          },
          "metadata": {
            "tags": []
          },
          "execution_count": 72
        }
      ]
    },
    {
      "cell_type": "code",
      "metadata": {
        "id": "clM6L5qgW-cr",
        "colab_type": "code",
        "colab": {}
      },
      "source": [
        "CATEGORIES = {\n",
        "    'sex': ['male', 'female'],\n",
        "    'class' : ['First', 'Second', 'Third'],\n",
        "    'deck' : ['A', 'B', 'C', 'D', 'E', 'F', 'G', 'H', 'I', 'J'],\n",
        "    'embark_town' : ['Cherbourg', 'Southhampton', 'Queenstown'],\n",
        "    'alone' : ['y', 'n']\n",
        "}"
      ],
      "execution_count": 0,
      "outputs": []
    },
    {
      "cell_type": "code",
      "metadata": {
        "id": "HSpKhxUjXU-o",
        "colab_type": "code",
        "colab": {}
      },
      "source": [
        "categorical_columns = []\n",
        "for feature, vocab in CATEGORIES.items():\n",
        "    cat_col = tf.feature_column.categorical_column_with_vocabulary_list(\n",
        "        key=feature, vocabulary_list=vocab)\n",
        "    categorical_columns.append(tf.feature_column.indicator_column(cat_col))"
      ],
      "execution_count": 0,
      "outputs": []
    },
    {
      "cell_type": "code",
      "metadata": {
        "id": "e5_9sdWKXWrn",
        "colab_type": "code",
        "colab": {
          "base_uri": "https://localhost:8080/",
          "height": 122
        },
        "outputId": "46ffaefb-5128-4715-98d8-4f3aadb45682"
      },
      "source": [
        "categorical_columns"
      ],
      "execution_count": 75,
      "outputs": [
        {
          "output_type": "execute_result",
          "data": {
            "text/plain": [
              "[IndicatorColumn(categorical_column=VocabularyListCategoricalColumn(key='sex', vocabulary_list=('male', 'female'), dtype=tf.string, default_value=-1, num_oov_buckets=0)),\n",
              " IndicatorColumn(categorical_column=VocabularyListCategoricalColumn(key='class', vocabulary_list=('First', 'Second', 'Third'), dtype=tf.string, default_value=-1, num_oov_buckets=0)),\n",
              " IndicatorColumn(categorical_column=VocabularyListCategoricalColumn(key='deck', vocabulary_list=('A', 'B', 'C', 'D', 'E', 'F', 'G', 'H', 'I', 'J'), dtype=tf.string, default_value=-1, num_oov_buckets=0)),\n",
              " IndicatorColumn(categorical_column=VocabularyListCategoricalColumn(key='embark_town', vocabulary_list=('Cherbourg', 'Southhampton', 'Queenstown'), dtype=tf.string, default_value=-1, num_oov_buckets=0)),\n",
              " IndicatorColumn(categorical_column=VocabularyListCategoricalColumn(key='alone', vocabulary_list=('y', 'n'), dtype=tf.string, default_value=-1, num_oov_buckets=0))]"
            ]
          },
          "metadata": {
            "tags": []
          },
          "execution_count": 75
        }
      ]
    },
    {
      "cell_type": "code",
      "metadata": {
        "id": "j6QC7qTTXx5H",
        "colab_type": "code",
        "colab": {
          "base_uri": "https://localhost:8080/",
          "height": 156
        },
        "outputId": "94f9be91-fd91-4300-f14a-a23a2ecfe745"
      },
      "source": [
        "categorical_layer = tf.keras.layers.DenseFeatures(categorical_columns)\n",
        "print(categorical_layer(example_batch).numpy()[0])"
      ],
      "execution_count": 76,
      "outputs": [
        {
          "output_type": "stream",
          "text": [
            "WARNING:tensorflow:From /usr/local/lib/python3.6/dist-packages/tensorflow_core/python/feature_column/feature_column_v2.py:4266: IndicatorColumn._variable_shape (from tensorflow.python.feature_column.feature_column_v2) is deprecated and will be removed in a future version.\n",
            "Instructions for updating:\n",
            "The old _FeatureColumn APIs are being deprecated. Please use the new FeatureColumn APIs instead.\n",
            "WARNING:tensorflow:From /usr/local/lib/python3.6/dist-packages/tensorflow_core/python/feature_column/feature_column_v2.py:4321: VocabularyListCategoricalColumn._num_buckets (from tensorflow.python.feature_column.feature_column_v2) is deprecated and will be removed in a future version.\n",
            "Instructions for updating:\n",
            "The old _FeatureColumn APIs are being deprecated. Please use the new FeatureColumn APIs instead.\n",
            "[0. 1. 1. 0. 0. 0. 1. 0. 0. 0. 0. 0. 0. 0. 0. 1. 0. 0. 0. 1.]\n"
          ],
          "name": "stdout"
        }
      ]
    },
    {
      "cell_type": "code",
      "metadata": {
        "id": "H9GQOjkpXym7",
        "colab_type": "code",
        "colab": {}
      },
      "source": [
        "preprocessing_layer = tf.keras.layers.DenseFeatures(categorical_columns+numeric_columns)"
      ],
      "execution_count": 0,
      "outputs": []
    },
    {
      "cell_type": "code",
      "metadata": {
        "id": "jxDnPVwQXz4t",
        "colab_type": "code",
        "colab": {
          "base_uri": "https://localhost:8080/",
          "height": 68
        },
        "outputId": "5c34d680-65d8-464d-94fa-ec9e6d8bd26a"
      },
      "source": [
        "print(preprocessing_layer(example_batch).numpy()[0])"
      ],
      "execution_count": 78,
      "outputs": [
        {
          "output_type": "stream",
          "text": [
            "[ 0.     1.     1.     0.     0.     0.     1.     0.     0.     0.\n",
            "  0.     0.     0.     0.     0.     1.     0.     0.    -0.13   0.395\n",
            " -0.479  2.054  0.     1.   ]\n"
          ],
          "name": "stdout"
        }
      ]
    },
    {
      "cell_type": "code",
      "metadata": {
        "id": "DMeXH3e6X0zF",
        "colab_type": "code",
        "colab": {}
      },
      "source": [
        "model = tf.keras.Sequential([\n",
        "                             preprocessing_layer,\n",
        "                             tf.keras.layers.Dense(128, activation='relu'),\n",
        "                             tf.keras.layers.Dense(128, activation='relu'),\n",
        "                             tf.keras.layers.Dense(1, activation='sigmoid'),\n",
        "])\n",
        "\n",
        "model.compile(\n",
        "    loss='binary_crossentropy',\n",
        "    optimizer='adam',\n",
        "    metrics=['accuracy'])"
      ],
      "execution_count": 0,
      "outputs": []
    },
    {
      "cell_type": "code",
      "metadata": {
        "id": "dhuywCv3X4wP",
        "colab_type": "code",
        "colab": {}
      },
      "source": [
        "train_data = packed_train_data.shuffle(500)\n",
        "test_data = packed_test_data"
      ],
      "execution_count": 0,
      "outputs": []
    },
    {
      "cell_type": "code",
      "metadata": {
        "id": "smVJE9V9YDsm",
        "colab_type": "code",
        "colab": {
          "base_uri": "https://localhost:8080/",
          "height": 714
        },
        "outputId": "4f00489d-0cf9-4b86-da47-d91595fdaf8e"
      },
      "source": [
        "model.fit(train_data, epochs=20)"
      ],
      "execution_count": 81,
      "outputs": [
        {
          "output_type": "stream",
          "text": [
            "Epoch 1/20\n",
            "126/126 [==============================] - 1s 9ms/step - loss: 0.4921 - accuracy: 0.7831\n",
            "Epoch 2/20\n",
            "126/126 [==============================] - 0s 2ms/step - loss: 0.4237 - accuracy: 0.8134\n",
            "Epoch 3/20\n",
            "126/126 [==============================] - 0s 2ms/step - loss: 0.4013 - accuracy: 0.8309\n",
            "Epoch 4/20\n",
            "126/126 [==============================] - 0s 2ms/step - loss: 0.3914 - accuracy: 0.8293\n",
            "Epoch 5/20\n",
            "126/126 [==============================] - 0s 2ms/step - loss: 0.3808 - accuracy: 0.8453\n",
            "Epoch 6/20\n",
            "126/126 [==============================] - 0s 2ms/step - loss: 0.3739 - accuracy: 0.8389\n",
            "Epoch 7/20\n",
            "126/126 [==============================] - 0s 2ms/step - loss: 0.3719 - accuracy: 0.8309\n",
            "Epoch 8/20\n",
            "126/126 [==============================] - 0s 2ms/step - loss: 0.3562 - accuracy: 0.8501\n",
            "Epoch 9/20\n",
            "126/126 [==============================] - 0s 2ms/step - loss: 0.3532 - accuracy: 0.8581\n",
            "Epoch 10/20\n",
            "126/126 [==============================] - 0s 2ms/step - loss: 0.3489 - accuracy: 0.8533\n",
            "Epoch 11/20\n",
            "126/126 [==============================] - 0s 2ms/step - loss: 0.3413 - accuracy: 0.8501\n",
            "Epoch 12/20\n",
            "126/126 [==============================] - 0s 2ms/step - loss: 0.3401 - accuracy: 0.8660\n",
            "Epoch 13/20\n",
            "126/126 [==============================] - 0s 2ms/step - loss: 0.3327 - accuracy: 0.8581\n",
            "Epoch 14/20\n",
            "126/126 [==============================] - 0s 2ms/step - loss: 0.3288 - accuracy: 0.8533\n",
            "Epoch 15/20\n",
            "126/126 [==============================] - 0s 2ms/step - loss: 0.3226 - accuracy: 0.8549\n",
            "Epoch 16/20\n",
            "126/126 [==============================] - 0s 2ms/step - loss: 0.3219 - accuracy: 0.8628\n",
            "Epoch 17/20\n",
            "126/126 [==============================] - 0s 2ms/step - loss: 0.3191 - accuracy: 0.8596\n",
            "Epoch 18/20\n",
            "126/126 [==============================] - 0s 2ms/step - loss: 0.3142 - accuracy: 0.8644\n",
            "Epoch 19/20\n",
            "126/126 [==============================] - 0s 2ms/step - loss: 0.3077 - accuracy: 0.8628\n",
            "Epoch 20/20\n",
            "126/126 [==============================] - 0s 2ms/step - loss: 0.3133 - accuracy: 0.8676\n"
          ],
          "name": "stdout"
        },
        {
          "output_type": "execute_result",
          "data": {
            "text/plain": [
              "<tensorflow.python.keras.callbacks.History at 0x7f7306646128>"
            ]
          },
          "metadata": {
            "tags": []
          },
          "execution_count": 81
        }
      ]
    },
    {
      "cell_type": "code",
      "metadata": {
        "id": "-fTqOXb9YEZT",
        "colab_type": "code",
        "colab": {
          "base_uri": "https://localhost:8080/",
          "height": 68
        },
        "outputId": "27a14216-5c5f-49bb-d930-1b580ad4978c"
      },
      "source": [
        "test_loss, test_accuracy = model.evaluate(test_data)\n",
        "\n",
        "print('\\n\\nTest Loss {}, Test Accuracy {}'.format(test_loss, test_accuracy))"
      ],
      "execution_count": 82,
      "outputs": [
        {
          "output_type": "stream",
          "text": [
            "     53/Unknown - 0s 7ms/step - loss: 0.4458 - accuracy: 0.8485\n",
            "\n",
            "Test Loss 0.4458179369147094, Test Accuracy 0.8484848737716675\n"
          ],
          "name": "stdout"
        }
      ]
    },
    {
      "cell_type": "code",
      "metadata": {
        "id": "-TFH32EcYFYY",
        "colab_type": "code",
        "colab": {
          "base_uri": "https://localhost:8080/",
          "height": 102
        },
        "outputId": "062959e2-376e-4392-8d5b-8da84fab6e2f"
      },
      "source": [
        "predictions = model.predict(test_data)\n",
        "\n",
        "for prediction, survived in zip(predictions[:10], list(test_data)[0][1][:10]):\n",
        "  print(\"Predicted survival: {:.2%}\".format(prediction[0]),\n",
        "        \" | Actual outcome: \",\n",
        "        (\"SURVIVED\" if bool(survived) else \"DIED\"))"
      ],
      "execution_count": 83,
      "outputs": [
        {
          "output_type": "stream",
          "text": [
            "Predicted survival: 9.78%  | Actual outcome:  DIED\n",
            "Predicted survival: 5.86%  | Actual outcome:  SURVIVED\n",
            "Predicted survival: 99.27%  | Actual outcome:  SURVIVED\n",
            "Predicted survival: 22.66%  | Actual outcome:  SURVIVED\n",
            "Predicted survival: 99.98%  | Actual outcome:  DIED\n"
          ],
          "name": "stdout"
        }
      ]
    },
    {
      "cell_type": "code",
      "metadata": {
        "id": "F9gbxmiuYHI2",
        "colab_type": "code",
        "colab": {}
      },
      "source": [
        "# 2번째"
      ],
      "execution_count": 0,
      "outputs": []
    },
    {
      "cell_type": "code",
      "metadata": {
        "id": "QcV-ICS6Y8NF",
        "colab_type": "code",
        "colab": {}
      },
      "source": [
        "NUMERIC_FEATURES = ['age','n_siblings_spouses','parch', 'fare']\n",
        "\n",
        "packed_train_data = raw_train_data.map(\n",
        "    PackNumericFeatures(NUMERIC_FEATURES))\n",
        "\n",
        "packed_test_data = raw_test_data.map(\n",
        "    PackNumericFeatures(NUMERIC_FEATURES))"
      ],
      "execution_count": 0,
      "outputs": []
    },
    {
      "cell_type": "code",
      "metadata": {
        "id": "47R53XxUZIA4",
        "colab_type": "code",
        "colab": {}
      },
      "source": [
        "example_batch, labels_batch = next(iter(packed_train_data)) "
      ],
      "execution_count": 0,
      "outputs": []
    },
    {
      "cell_type": "code",
      "metadata": {
        "id": "p7WvY0RcZIOB",
        "colab_type": "code",
        "colab": {}
      },
      "source": [
        "MEAN = np.array(desc.T['mean'])\n",
        "STD = np.array(desc.T['std'])"
      ],
      "execution_count": 0,
      "outputs": []
    },
    {
      "cell_type": "code",
      "metadata": {
        "id": "yErq2SeFZKBs",
        "colab_type": "code",
        "colab": {}
      },
      "source": [
        "normalizer = functools.partial(normalize_numeric_data, mean=MEAN, std=STD)\n",
        "\n",
        "numeric_column = tf.feature_column.numeric_column('numeric', normalizer_fn=normalizer, shape=[len(NUMERIC_FEATURES)])\n",
        "numeric_columns = [numeric_column]"
      ],
      "execution_count": 0,
      "outputs": []
    },
    {
      "cell_type": "code",
      "metadata": {
        "id": "zmqdcyn0ZNDQ",
        "colab_type": "code",
        "colab": {
          "base_uri": "https://localhost:8080/",
          "height": 102
        },
        "outputId": "0e255df6-4688-4f6f-f12c-6b2d796cfde7"
      },
      "source": [
        "numeric_layer = tf.keras.layers.DenseFeatures(numeric_columns)\n",
        "numeric_layer(example_batch).numpy()"
      ],
      "execution_count": 89,
      "outputs": [
        {
          "output_type": "execute_result",
          "data": {
            "text/plain": [
              "array([[ 1.548,  0.395, -0.479,  0.413],\n",
              "       [-0.13 , -0.474, -0.479,  0.096],\n",
              "       [ 0.429, -0.474, -0.479, -0.499],\n",
              "       [ 0.109,  0.395,  0.782, -0.254],\n",
              "       [-1.649,  2.132,  2.043, -0.119]], dtype=float32)"
            ]
          },
          "metadata": {
            "tags": []
          },
          "execution_count": 89
        }
      ]
    },
    {
      "cell_type": "code",
      "metadata": {
        "id": "te_utmwsZO4J",
        "colab_type": "code",
        "colab": {}
      },
      "source": [
        "CATEGORIES = {\n",
        "    'sex': ['male', 'female'],\n",
        "    'class' : ['First', 'Second', 'Third'],\n",
        "    'deck' : ['A', 'B', 'C', 'D', 'E', 'F', 'G', 'H', 'I', 'J'],\n",
        "    'embark_town' : ['Cherbourg', 'Southhampton', 'Queenstown'],\n",
        "    'alone' : ['y', 'n']\n",
        "}"
      ],
      "execution_count": 0,
      "outputs": []
    },
    {
      "cell_type": "code",
      "metadata": {
        "id": "T9Hal8MoZQ1R",
        "colab_type": "code",
        "colab": {}
      },
      "source": [
        "categorical_columns = []\n",
        "for feature, vocab in CATEGORIES.items():\n",
        "    cat_col = tf.feature_column.categorical_column_with_vocabulary_list(\n",
        "        key=feature, vocabulary_list=vocab)\n",
        "    categorical_columns.append(tf.feature_column.indicator_column(cat_col))"
      ],
      "execution_count": 0,
      "outputs": []
    },
    {
      "cell_type": "code",
      "metadata": {
        "id": "HOlWu8viZSJH",
        "colab_type": "code",
        "colab": {}
      },
      "source": [
        "categorical_layer = tf.keras.layers.DenseFeatures(categorical_columns)"
      ],
      "execution_count": 0,
      "outputs": []
    },
    {
      "cell_type": "code",
      "metadata": {
        "id": "dtd6x3Q5ZT_9",
        "colab_type": "code",
        "colab": {}
      },
      "source": [
        "preprocessing_layer = tf.keras.layers.DenseFeatures(categorical_columns+numeric_columns)"
      ],
      "execution_count": 0,
      "outputs": []
    },
    {
      "cell_type": "code",
      "metadata": {
        "id": "Id-Yvs9EZVu5",
        "colab_type": "code",
        "colab": {}
      },
      "source": [
        "model = tf.keras.Sequential([\n",
        "                             preprocessing_layer,\n",
        "                             tf.keras.layers.Dense(128, activation='relu'),\n",
        "                             tf.keras.layers.Dense(128, activation='relu'),\n",
        "                             tf.keras.layers.Dense(1, activation='sigmoid'),\n",
        "])\n",
        "\n",
        "model.compile(\n",
        "    loss='binary_crossentropy',\n",
        "    optimizer='adam',\n",
        "    metrics=['accuracy'])"
      ],
      "execution_count": 0,
      "outputs": []
    },
    {
      "cell_type": "code",
      "metadata": {
        "id": "yT3Xps5_ZXIa",
        "colab_type": "code",
        "colab": {}
      },
      "source": [
        "train_data = packed_train_data.shuffle(500)\n",
        "test_data = packed_test_data"
      ],
      "execution_count": 0,
      "outputs": []
    },
    {
      "cell_type": "code",
      "metadata": {
        "id": "wwgbWj9WZYqz",
        "colab_type": "code",
        "colab": {
          "base_uri": "https://localhost:8080/",
          "height": 374
        },
        "outputId": "62dc0329-cdab-4e8d-cc61-ff983fa7fbc0"
      },
      "source": [
        "model.fit(train_data, epochs=10)"
      ],
      "execution_count": 96,
      "outputs": [
        {
          "output_type": "stream",
          "text": [
            "Epoch 1/10\n",
            "126/126 [==============================] - 1s 8ms/step - loss: 0.4929 - accuracy: 0.7640\n",
            "Epoch 2/10\n",
            "126/126 [==============================] - 0s 2ms/step - loss: 0.4270 - accuracy: 0.8214\n",
            "Epoch 3/10\n",
            "126/126 [==============================] - 0s 2ms/step - loss: 0.4186 - accuracy: 0.8166\n",
            "Epoch 4/10\n",
            "126/126 [==============================] - 0s 2ms/step - loss: 0.3951 - accuracy: 0.8293\n",
            "Epoch 5/10\n",
            "126/126 [==============================] - 0s 2ms/step - loss: 0.3857 - accuracy: 0.8357\n",
            "Epoch 6/10\n",
            "126/126 [==============================] - 0s 2ms/step - loss: 0.3798 - accuracy: 0.8437\n",
            "Epoch 7/10\n",
            "126/126 [==============================] - 0s 2ms/step - loss: 0.3691 - accuracy: 0.8405\n",
            "Epoch 8/10\n",
            "126/126 [==============================] - 0s 2ms/step - loss: 0.3672 - accuracy: 0.8469\n",
            "Epoch 9/10\n",
            "126/126 [==============================] - 0s 2ms/step - loss: 0.3525 - accuracy: 0.8565\n",
            "Epoch 10/10\n",
            "126/126 [==============================] - 0s 2ms/step - loss: 0.3484 - accuracy: 0.8485\n"
          ],
          "name": "stdout"
        },
        {
          "output_type": "execute_result",
          "data": {
            "text/plain": [
              "<tensorflow.python.keras.callbacks.History at 0x7f73062e05c0>"
            ]
          },
          "metadata": {
            "tags": []
          },
          "execution_count": 96
        }
      ]
    },
    {
      "cell_type": "code",
      "metadata": {
        "id": "1MG-LCT3ZaOc",
        "colab_type": "code",
        "colab": {
          "base_uri": "https://localhost:8080/",
          "height": 68
        },
        "outputId": "e01cd947-69f1-4dad-c4fe-e01cbee5894c"
      },
      "source": [
        "test_loss, test_accuracy = model.evaluate(test_data)\n",
        "\n",
        "print('\\n\\nTest Loss {}, Test Accuracy {}'.format(test_loss, test_accuracy))"
      ],
      "execution_count": 97,
      "outputs": [
        {
          "output_type": "stream",
          "text": [
            "     53/Unknown - 0s 7ms/step - loss: 0.4184 - accuracy: 0.8409\n",
            "\n",
            "Test Loss 0.41836196943274084, Test Accuracy 0.8409090638160706\n"
          ],
          "name": "stdout"
        }
      ]
    },
    {
      "cell_type": "code",
      "metadata": {
        "id": "QeArIP8QZeWU",
        "colab_type": "code",
        "colab": {}
      },
      "source": [
        "# 3번째"
      ],
      "execution_count": 0,
      "outputs": []
    },
    {
      "cell_type": "code",
      "metadata": {
        "id": "ubKwLv8eZl04",
        "colab_type": "code",
        "colab": {}
      },
      "source": [
        "NUMERIC_FEATURES = ['age','n_siblings_spouses','parch', 'fare']\n",
        "\n",
        "packed_train_data = raw_train_data.map(\n",
        "    PackNumericFeatures(NUMERIC_FEATURES))\n",
        "\n",
        "packed_test_data = raw_test_data.map(\n",
        "    PackNumericFeatures(NUMERIC_FEATURES))"
      ],
      "execution_count": 0,
      "outputs": []
    },
    {
      "cell_type": "code",
      "metadata": {
        "id": "Z7jBaclfZmO-",
        "colab_type": "code",
        "colab": {}
      },
      "source": [
        "MEAN = np.array(desc.T['mean'])\n",
        "STD = np.array(desc.T['std'])"
      ],
      "execution_count": 0,
      "outputs": []
    },
    {
      "cell_type": "code",
      "metadata": {
        "id": "Fq89aG__ZobE",
        "colab_type": "code",
        "colab": {}
      },
      "source": [
        "normalizer = functools.partial(normalize_numeric_data, mean=MEAN, std=STD)\n",
        "\n",
        "numeric_column = tf.feature_column.numeric_column('numeric', normalizer_fn=normalizer, shape=[len(NUMERIC_FEATURES)])\n",
        "numeric_columns = [numeric_column]"
      ],
      "execution_count": 0,
      "outputs": []
    },
    {
      "cell_type": "code",
      "metadata": {
        "id": "LEwV93umZp5I",
        "colab_type": "code",
        "colab": {}
      },
      "source": [
        "numeric_layer = tf.keras.layers.DenseFeatures(numeric_columns)"
      ],
      "execution_count": 0,
      "outputs": []
    },
    {
      "cell_type": "code",
      "metadata": {
        "id": "hGSVqXNBZtSB",
        "colab_type": "code",
        "colab": {}
      },
      "source": [
        "categorical_columns = []\n",
        "for feature, vocab in CATEGORIES.items():\n",
        "    cat_col = tf.feature_column.categorical_column_with_vocabulary_list(\n",
        "        key=feature, vocabulary_list=vocab)\n",
        "    categorical_columns.append(tf.feature_column.indicator_column(cat_col))"
      ],
      "execution_count": 0,
      "outputs": []
    },
    {
      "cell_type": "code",
      "metadata": {
        "id": "ZvX8ye_mZtak",
        "colab_type": "code",
        "colab": {}
      },
      "source": [
        "categorical_layer = tf.keras.layers.DenseFeatures(categorical_columns)"
      ],
      "execution_count": 0,
      "outputs": []
    },
    {
      "cell_type": "code",
      "metadata": {
        "id": "pQuROTgJZurg",
        "colab_type": "code",
        "colab": {}
      },
      "source": [
        "preprocessing_layer = tf.keras.layers.DenseFeatures(categorical_columns+numeric_columns)"
      ],
      "execution_count": 0,
      "outputs": []
    },
    {
      "cell_type": "code",
      "metadata": {
        "id": "Fh3R7nxWZvlr",
        "colab_type": "code",
        "colab": {}
      },
      "source": [
        "model = tf.keras.Sequential([\n",
        "                             preprocessing_layer,\n",
        "                             tf.keras.layers.Dense(128, activation='relu'),\n",
        "                             tf.keras.layers.Dense(128, activation='relu'),\n",
        "                             tf.keras.layers.Dense(1, activation='sigmoid'),\n",
        "])\n",
        "\n",
        "model.compile(\n",
        "    loss='binary_crossentropy',\n",
        "    optimizer='adam',\n",
        "    metrics=['accuracy'])"
      ],
      "execution_count": 0,
      "outputs": []
    },
    {
      "cell_type": "code",
      "metadata": {
        "id": "kSb2se1lZwza",
        "colab_type": "code",
        "colab": {}
      },
      "source": [
        "train_data = packed_train_data.shuffle(500)\n",
        "test_data = packed_test_data"
      ],
      "execution_count": 0,
      "outputs": []
    },
    {
      "cell_type": "code",
      "metadata": {
        "id": "JaO_e6cfZx-x",
        "colab_type": "code",
        "colab": {
          "base_uri": "https://localhost:8080/",
          "height": 1000
        },
        "outputId": "217e0044-4aed-414c-b9eb-edec487c87bf"
      },
      "source": [
        "model.fit(train_data, epochs=30)"
      ],
      "execution_count": 108,
      "outputs": [
        {
          "output_type": "stream",
          "text": [
            "Epoch 1/30\n",
            "126/126 [==============================] - 1s 9ms/step - loss: 0.5022 - accuracy: 0.7719\n",
            "Epoch 2/30\n",
            "126/126 [==============================] - 0s 2ms/step - loss: 0.4265 - accuracy: 0.8054\n",
            "Epoch 3/30\n",
            "126/126 [==============================] - 0s 2ms/step - loss: 0.4000 - accuracy: 0.8230\n",
            "Epoch 4/30\n",
            "126/126 [==============================] - 0s 2ms/step - loss: 0.3940 - accuracy: 0.8341\n",
            "Epoch 5/30\n",
            "126/126 [==============================] - 0s 2ms/step - loss: 0.3803 - accuracy: 0.8357\n",
            "Epoch 6/30\n",
            "126/126 [==============================] - 0s 2ms/step - loss: 0.3804 - accuracy: 0.8357\n",
            "Epoch 7/30\n",
            "126/126 [==============================] - 0s 2ms/step - loss: 0.3661 - accuracy: 0.8405\n",
            "Epoch 8/30\n",
            "126/126 [==============================] - 0s 2ms/step - loss: 0.3628 - accuracy: 0.8437\n",
            "Epoch 9/30\n",
            "126/126 [==============================] - 0s 2ms/step - loss: 0.3605 - accuracy: 0.8437\n",
            "Epoch 10/30\n",
            "126/126 [==============================] - 0s 2ms/step - loss: 0.3542 - accuracy: 0.8628\n",
            "Epoch 11/30\n",
            "126/126 [==============================] - 0s 2ms/step - loss: 0.3502 - accuracy: 0.8549\n",
            "Epoch 12/30\n",
            "126/126 [==============================] - 0s 2ms/step - loss: 0.3347 - accuracy: 0.8581\n",
            "Epoch 13/30\n",
            "126/126 [==============================] - 0s 2ms/step - loss: 0.3358 - accuracy: 0.8660\n",
            "Epoch 14/30\n",
            "126/126 [==============================] - 0s 2ms/step - loss: 0.3276 - accuracy: 0.8533\n",
            "Epoch 15/30\n",
            "126/126 [==============================] - 0s 2ms/step - loss: 0.3239 - accuracy: 0.8628\n",
            "Epoch 16/30\n",
            "126/126 [==============================] - 0s 2ms/step - loss: 0.3220 - accuracy: 0.8676\n",
            "Epoch 17/30\n",
            "126/126 [==============================] - 0s 2ms/step - loss: 0.3171 - accuracy: 0.8628\n",
            "Epoch 18/30\n",
            "126/126 [==============================] - 0s 2ms/step - loss: 0.3169 - accuracy: 0.8612\n",
            "Epoch 19/30\n",
            "126/126 [==============================] - 0s 2ms/step - loss: 0.3058 - accuracy: 0.8676\n",
            "Epoch 20/30\n",
            "126/126 [==============================] - 0s 2ms/step - loss: 0.3049 - accuracy: 0.8660\n",
            "Epoch 21/30\n",
            "126/126 [==============================] - 0s 2ms/step - loss: 0.3019 - accuracy: 0.8756\n",
            "Epoch 22/30\n",
            "126/126 [==============================] - 0s 2ms/step - loss: 0.3104 - accuracy: 0.8692\n",
            "Epoch 23/30\n",
            "126/126 [==============================] - 0s 2ms/step - loss: 0.3011 - accuracy: 0.8740\n",
            "Epoch 24/30\n",
            "126/126 [==============================] - 0s 2ms/step - loss: 0.3058 - accuracy: 0.8708\n",
            "Epoch 25/30\n",
            "126/126 [==============================] - 0s 2ms/step - loss: 0.3012 - accuracy: 0.8724\n",
            "Epoch 26/30\n",
            "126/126 [==============================] - 0s 2ms/step - loss: 0.2891 - accuracy: 0.8772\n",
            "Epoch 27/30\n",
            "126/126 [==============================] - 0s 2ms/step - loss: 0.2944 - accuracy: 0.8644\n",
            "Epoch 28/30\n",
            "126/126 [==============================] - 0s 2ms/step - loss: 0.2849 - accuracy: 0.8820\n",
            "Epoch 29/30\n",
            "126/126 [==============================] - 0s 2ms/step - loss: 0.2830 - accuracy: 0.8740\n",
            "Epoch 30/30\n",
            "126/126 [==============================] - 0s 2ms/step - loss: 0.2844 - accuracy: 0.8772\n"
          ],
          "name": "stdout"
        },
        {
          "output_type": "execute_result",
          "data": {
            "text/plain": [
              "<tensorflow.python.keras.callbacks.History at 0x7f73062dceb8>"
            ]
          },
          "metadata": {
            "tags": []
          },
          "execution_count": 108
        }
      ]
    },
    {
      "cell_type": "code",
      "metadata": {
        "id": "98YPK2SvZzVz",
        "colab_type": "code",
        "colab": {
          "base_uri": "https://localhost:8080/",
          "height": 68
        },
        "outputId": "e6992d67-912b-4f09-bd11-9cda3507ed0f"
      },
      "source": [
        "test_loss, test_accuracy = model.evaluate(test_data)\n",
        "\n",
        "print('\\n\\nTest Loss {}, Test Accuracy {}'.format(test_loss, test_accuracy))"
      ],
      "execution_count": 109,
      "outputs": [
        {
          "output_type": "stream",
          "text": [
            "     53/Unknown - 0s 7ms/step - loss: 0.4914 - accuracy: 0.8106\n",
            "\n",
            "Test Loss 0.4913921261311702, Test Accuracy 0.810606062412262\n"
          ],
          "name": "stdout"
        }
      ]
    },
    {
      "cell_type": "markdown",
      "metadata": {
        "id": "NckdZumNZ3Ho",
        "colab_type": "text"
      },
      "source": [
        "### TFRecord and tf.Example\n",
        "- 1번째"
      ]
    },
    {
      "cell_type": "code",
      "metadata": {
        "id": "LuAZag4yZ1WI",
        "colab_type": "code",
        "colab": {
          "base_uri": "https://localhost:8080/",
          "height": 803
        },
        "outputId": "2b538594-9c2b-4aa4-dbf2-d6cea492985e"
      },
      "source": [
        "from __future__ import absolute_import, division, print_function, unicode_literals\n",
        "\n",
        "try:\n",
        "  # %tensorflow_version only exists in Colab.\n",
        "  !pip install tf-nightly\n",
        "except Exception:\n",
        "  pass\n",
        "import tensorflow as tf\n",
        "\n",
        "import numpy as np\n",
        "import IPython.display as display"
      ],
      "execution_count": 110,
      "outputs": [
        {
          "output_type": "stream",
          "text": [
            "Collecting tf-nightly\n",
            "\u001b[?25l  Downloading https://files.pythonhosted.org/packages/a0/8a/49f8b8517467b0817b3cf27f15f73e99ee6adbefec611471261595d46065/tf_nightly-2.1.0.dev20191203-cp36-cp36m-manylinux2010_x86_64.whl (422.2MB)\n",
            "\u001b[K     |████████████████████████████████| 422.2MB 40kB/s \n",
            "\u001b[?25hRequirement already satisfied: termcolor>=1.1.0 in /usr/local/lib/python3.6/dist-packages (from tf-nightly) (1.1.0)\n",
            "Requirement already satisfied: keras-applications>=1.0.8 in /usr/local/lib/python3.6/dist-packages (from tf-nightly) (1.0.8)\n",
            "Requirement already satisfied: gast==0.2.2 in /usr/local/lib/python3.6/dist-packages (from tf-nightly) (0.2.2)\n",
            "Requirement already satisfied: wheel>=0.26; python_version >= \"3\" in /usr/local/lib/python3.6/dist-packages (from tf-nightly) (0.33.6)\n",
            "Requirement already satisfied: google-pasta>=0.1.8 in /usr/local/lib/python3.6/dist-packages (from tf-nightly) (0.1.8)\n",
            "Requirement already satisfied: absl-py>=0.7.0 in /usr/local/lib/python3.6/dist-packages (from tf-nightly) (0.8.1)\n",
            "Requirement already satisfied: astor>=0.6.0 in /usr/local/lib/python3.6/dist-packages (from tf-nightly) (0.8.1)\n",
            "Requirement already satisfied: keras-preprocessing>=1.1.0 in /usr/local/lib/python3.6/dist-packages (from tf-nightly) (1.1.0)\n",
            "Requirement already satisfied: protobuf>=3.8.0 in /usr/local/lib/python3.6/dist-packages (from tf-nightly) (3.10.0)\n",
            "Requirement already satisfied: grpcio>=1.8.6 in /usr/local/lib/python3.6/dist-packages (from tf-nightly) (1.15.0)\n",
            "Requirement already satisfied: tb-nightly<2.2.0a0,>=2.1.0a0 in /usr/local/lib/python3.6/dist-packages (from tf-nightly) (2.1.0a20191206)\n",
            "Requirement already satisfied: opt-einsum>=2.3.2 in /usr/local/lib/python3.6/dist-packages (from tf-nightly) (3.1.0)\n",
            "Requirement already satisfied: six>=1.12.0 in /usr/local/lib/python3.6/dist-packages (from tf-nightly) (1.12.0)\n",
            "Requirement already satisfied: numpy<2.0,>=1.16.0 in /usr/local/lib/python3.6/dist-packages (from tf-nightly) (1.17.4)\n",
            "Collecting tf-estimator-nightly\n",
            "\u001b[?25l  Downloading https://files.pythonhosted.org/packages/08/c4/fdce354b8c4db17247a16c0963f1f9a04f403e34089c858250349361560d/tf_estimator_nightly-2.0.0.dev2019121409-py2.py3-none-any.whl (451kB)\n",
            "\u001b[K     |████████████████████████████████| 460kB 52.3MB/s \n",
            "\u001b[?25hRequirement already satisfied: wrapt>=1.11.1 in /usr/local/lib/python3.6/dist-packages (from tf-nightly) (1.11.2)\n",
            "Requirement already satisfied: h5py in /usr/local/lib/python3.6/dist-packages (from keras-applications>=1.0.8->tf-nightly) (2.8.0)\n",
            "Requirement already satisfied: setuptools in /usr/local/lib/python3.6/dist-packages (from protobuf>=3.8.0->tf-nightly) (42.0.2)\n",
            "Requirement already satisfied: google-auth-oauthlib<0.5,>=0.4.1 in /usr/local/lib/python3.6/dist-packages (from tb-nightly<2.2.0a0,>=2.1.0a0->tf-nightly) (0.4.1)\n",
            "Requirement already satisfied: markdown>=2.6.8 in /usr/local/lib/python3.6/dist-packages (from tb-nightly<2.2.0a0,>=2.1.0a0->tf-nightly) (3.1.1)\n",
            "Requirement already satisfied: werkzeug>=0.11.15 in /usr/local/lib/python3.6/dist-packages (from tb-nightly<2.2.0a0,>=2.1.0a0->tf-nightly) (0.16.0)\n",
            "Requirement already satisfied: requests<3,>=2.21.0 in /usr/local/lib/python3.6/dist-packages (from tb-nightly<2.2.0a0,>=2.1.0a0->tf-nightly) (2.21.0)\n",
            "Requirement already satisfied: google-auth<2,>=1.6.3 in /usr/local/lib/python3.6/dist-packages (from tb-nightly<2.2.0a0,>=2.1.0a0->tf-nightly) (1.8.2)\n",
            "Requirement already satisfied: requests-oauthlib>=0.7.0 in /usr/local/lib/python3.6/dist-packages (from google-auth-oauthlib<0.5,>=0.4.1->tb-nightly<2.2.0a0,>=2.1.0a0->tf-nightly) (1.3.0)\n",
            "Requirement already satisfied: chardet<3.1.0,>=3.0.2 in /usr/local/lib/python3.6/dist-packages (from requests<3,>=2.21.0->tb-nightly<2.2.0a0,>=2.1.0a0->tf-nightly) (3.0.4)\n",
            "Requirement already satisfied: idna<2.9,>=2.5 in /usr/local/lib/python3.6/dist-packages (from requests<3,>=2.21.0->tb-nightly<2.2.0a0,>=2.1.0a0->tf-nightly) (2.8)\n",
            "Requirement already satisfied: urllib3<1.25,>=1.21.1 in /usr/local/lib/python3.6/dist-packages (from requests<3,>=2.21.0->tb-nightly<2.2.0a0,>=2.1.0a0->tf-nightly) (1.24.3)\n",
            "Requirement already satisfied: certifi>=2017.4.17 in /usr/local/lib/python3.6/dist-packages (from requests<3,>=2.21.0->tb-nightly<2.2.0a0,>=2.1.0a0->tf-nightly) (2019.11.28)\n",
            "Requirement already satisfied: pyasn1-modules>=0.2.1 in /usr/local/lib/python3.6/dist-packages (from google-auth<2,>=1.6.3->tb-nightly<2.2.0a0,>=2.1.0a0->tf-nightly) (0.2.7)\n",
            "Requirement already satisfied: cachetools<3.2,>=2.0.0 in /usr/local/lib/python3.6/dist-packages (from google-auth<2,>=1.6.3->tb-nightly<2.2.0a0,>=2.1.0a0->tf-nightly) (3.1.1)\n",
            "Requirement already satisfied: rsa<4.1,>=3.1.4 in /usr/local/lib/python3.6/dist-packages (from google-auth<2,>=1.6.3->tb-nightly<2.2.0a0,>=2.1.0a0->tf-nightly) (4.0)\n",
            "Requirement already satisfied: oauthlib>=3.0.0 in /usr/local/lib/python3.6/dist-packages (from requests-oauthlib>=0.7.0->google-auth-oauthlib<0.5,>=0.4.1->tb-nightly<2.2.0a0,>=2.1.0a0->tf-nightly) (3.1.0)\n",
            "Requirement already satisfied: pyasn1<0.5.0,>=0.4.6 in /usr/local/lib/python3.6/dist-packages (from pyasn1-modules>=0.2.1->google-auth<2,>=1.6.3->tb-nightly<2.2.0a0,>=2.1.0a0->tf-nightly) (0.4.8)\n",
            "Installing collected packages: tf-estimator-nightly, tf-nightly\n",
            "Successfully installed tf-estimator-nightly-2.0.0.dev2019121409 tf-nightly-2.1.0.dev20191203\n"
          ],
          "name": "stdout"
        },
        {
          "output_type": "display_data",
          "data": {
            "application/vnd.colab-display-data+json": {
              "pip_warning": {
                "packages": [
                  "tensorflow",
                  "tensorflow_core",
                  "tensorflow_estimator"
                ]
              }
            }
          },
          "metadata": {
            "tags": []
          }
        }
      ]
    },
    {
      "cell_type": "code",
      "metadata": {
        "id": "tgiLWSCpZ7Yf",
        "colab_type": "code",
        "colab": {}
      },
      "source": [
        "# tf.example"
      ],
      "execution_count": 0,
      "outputs": []
    },
    {
      "cell_type": "code",
      "metadata": {
        "id": "zQz6QEc-a6Oy",
        "colab_type": "code",
        "colab": {}
      },
      "source": [
        "def _bytes_feature(value):\n",
        "    if isinstance(value, type(tf.constant(0))):\n",
        "        value = value.numpy()\n",
        "    return tf.train.Feature(bytes_list=tf.train.BytesList(value=[value]))\n",
        "\n",
        "def _float_feature(value):\n",
        "    return tf.train.Feature(float_list=tf.train.FloatList(value=[value]))\n",
        "\n",
        "def _int64_feature(value):\n",
        "    return tf.train.Feature(int64_list=tf.train.Int64List(value=[value]))"
      ],
      "execution_count": 0,
      "outputs": []
    },
    {
      "cell_type": "code",
      "metadata": {
        "id": "9Q9M-TXob1Sl",
        "colab_type": "code",
        "colab": {
          "base_uri": "https://localhost:8080/",
          "height": 357
        },
        "outputId": "8fd6fe40-4a61-41c4-a136-fae6559cf813"
      },
      "source": [
        "print(_bytes_feature(b'test_string'))\n",
        "print(_bytes_feature(u'test_bytes'.encode('utf-8')))\n",
        "\n",
        "print(_float_feature(np.exp(1)))\n",
        "\n",
        "print(_int64_feature(True))\n",
        "print(_int64_feature(1))"
      ],
      "execution_count": 114,
      "outputs": [
        {
          "output_type": "stream",
          "text": [
            "bytes_list {\n",
            "  value: \"test_string\"\n",
            "}\n",
            "\n",
            "bytes_list {\n",
            "  value: \"test_bytes\"\n",
            "}\n",
            "\n",
            "float_list {\n",
            "  value: 2.7182817459106445\n",
            "}\n",
            "\n",
            "int64_list {\n",
            "  value: 1\n",
            "}\n",
            "\n",
            "int64_list {\n",
            "  value: 1\n",
            "}\n",
            "\n"
          ],
          "name": "stdout"
        }
      ]
    },
    {
      "cell_type": "code",
      "metadata": {
        "id": "9AjPrBYpcJaR",
        "colab_type": "code",
        "colab": {
          "base_uri": "https://localhost:8080/",
          "height": 34
        },
        "outputId": "05c67a6c-5bba-446b-aa9f-949fc440d153"
      },
      "source": [
        "feature = _float_feature(np.exp(1))\n",
        "\n",
        "feature.SerializeToString()"
      ],
      "execution_count": 115,
      "outputs": [
        {
          "output_type": "execute_result",
          "data": {
            "text/plain": [
              "b'\\x12\\x06\\n\\x04T\\xf8-@'"
            ]
          },
          "metadata": {
            "tags": []
          },
          "execution_count": 115
        }
      ]
    },
    {
      "cell_type": "code",
      "metadata": {
        "id": "imBCcMt_cNfg",
        "colab_type": "code",
        "colab": {}
      },
      "source": [
        "n_observations = int(1e4)\n",
        "feature0 = np.random.choice([False, True], n_observations)\n",
        "feature1 = np.random.randint(0, 5, n_observations)\n",
        "strings = np.array([b'cat', b'dog', b'chicken', b'horse', b'goat'])\n",
        "feature2 = strings[feature1]\n",
        "feature3 = np.random.randn(n_observations)"
      ],
      "execution_count": 0,
      "outputs": []
    },
    {
      "cell_type": "code",
      "metadata": {
        "id": "U1DCXGs4hqHC",
        "colab_type": "code",
        "colab": {}
      },
      "source": [
        "def serialize_example(feature0, feature1, feature2, feature3):\n",
        "    feature = {\n",
        "        'feature0': _int64_feature(feature0),\n",
        "        'feature1': _int64_feature(feature1),\n",
        "        'feature2': _bytes_feature(feature2),\n",
        "        'feature3': _float_feature(feature3),\n",
        "    }\n",
        "\n",
        "    example_proto = tf.train.Example(features=tf.train.Features(feature=feature))\n",
        "    return example_proto.SerializeToString()"
      ],
      "execution_count": 0,
      "outputs": []
    },
    {
      "cell_type": "code",
      "metadata": {
        "id": "rdWyig9NhtJS",
        "colab_type": "code",
        "colab": {
          "base_uri": "https://localhost:8080/",
          "height": 54
        },
        "outputId": "5194bede-fbf1-4b8f-cde6-46df5ed86fe1"
      },
      "source": [
        "example_observation = []\n",
        "\n",
        "serialized_example = serialize_example(False, 4, b'goat', 0.9876)\n",
        "serialized_example"
      ],
      "execution_count": 118,
      "outputs": [
        {
          "output_type": "execute_result",
          "data": {
            "text/plain": [
              "b'\\nR\\n\\x11\\n\\x08feature0\\x12\\x05\\x1a\\x03\\n\\x01\\x00\\n\\x11\\n\\x08feature1\\x12\\x05\\x1a\\x03\\n\\x01\\x04\\n\\x14\\n\\x08feature2\\x12\\x08\\n\\x06\\n\\x04goat\\n\\x14\\n\\x08feature3\\x12\\x08\\x12\\x06\\n\\x04[\\xd3|?'"
            ]
          },
          "metadata": {
            "tags": []
          },
          "execution_count": 118
        }
      ]
    },
    {
      "cell_type": "code",
      "metadata": {
        "id": "6HAUC_lhiE_O",
        "colab_type": "code",
        "colab": {
          "base_uri": "https://localhost:8080/",
          "height": 595
        },
        "outputId": "c1c2dff5-0257-41d7-bf6e-8a415fc1b735"
      },
      "source": [
        "example_proto = tf.train.Example.FromString(serialized_example)\n",
        "example_proto"
      ],
      "execution_count": 119,
      "outputs": [
        {
          "output_type": "execute_result",
          "data": {
            "text/plain": [
              "features {\n",
              "  feature {\n",
              "    key: \"feature0\"\n",
              "    value {\n",
              "      int64_list {\n",
              "        value: 0\n",
              "      }\n",
              "    }\n",
              "  }\n",
              "  feature {\n",
              "    key: \"feature1\"\n",
              "    value {\n",
              "      int64_list {\n",
              "        value: 4\n",
              "      }\n",
              "    }\n",
              "  }\n",
              "  feature {\n",
              "    key: \"feature2\"\n",
              "    value {\n",
              "      bytes_list {\n",
              "        value: \"goat\"\n",
              "      }\n",
              "    }\n",
              "  }\n",
              "  feature {\n",
              "    key: \"feature3\"\n",
              "    value {\n",
              "      float_list {\n",
              "        value: 0.9876000285148621\n",
              "      }\n",
              "    }\n",
              "  }\n",
              "}"
            ]
          },
          "metadata": {
            "tags": []
          },
          "execution_count": 119
        }
      ]
    },
    {
      "cell_type": "code",
      "metadata": {
        "id": "FIvyHQRCiGBr",
        "colab_type": "code",
        "colab": {
          "base_uri": "https://localhost:8080/",
          "height": 34
        },
        "outputId": "0bde0dc0-652a-4f7e-e820-531c831c1033"
      },
      "source": [
        "tf.data.Dataset.from_tensor_slices(feature1)"
      ],
      "execution_count": 120,
      "outputs": [
        {
          "output_type": "execute_result",
          "data": {
            "text/plain": [
              "<TensorSliceDataset shapes: (), types: tf.int64>"
            ]
          },
          "metadata": {
            "tags": []
          },
          "execution_count": 120
        }
      ]
    },
    {
      "cell_type": "code",
      "metadata": {
        "id": "TbO42T6BjuHk",
        "colab_type": "code",
        "colab": {
          "base_uri": "https://localhost:8080/",
          "height": 34
        },
        "outputId": "80b3cde1-827e-40dc-a75f-712e970976ca"
      },
      "source": [
        "features_dataset = tf.data.Dataset.from_tensor_slices((feature0, feature1, feature2, feature3))\n",
        "features_dataset"
      ],
      "execution_count": 121,
      "outputs": [
        {
          "output_type": "execute_result",
          "data": {
            "text/plain": [
              "<TensorSliceDataset shapes: ((), (), (), ()), types: (tf.bool, tf.int64, tf.string, tf.float64)>"
            ]
          },
          "metadata": {
            "tags": []
          },
          "execution_count": 121
        }
      ]
    },
    {
      "cell_type": "code",
      "metadata": {
        "id": "M8IQ66sRjvH3",
        "colab_type": "code",
        "colab": {
          "base_uri": "https://localhost:8080/",
          "height": 85
        },
        "outputId": "24d1256e-edf5-411c-b32f-d83e96803fd4"
      },
      "source": [
        "for f0,f1,f2,f3 in features_dataset.take(1):\n",
        "    print(f0)\n",
        "    print(f1)\n",
        "    print(f2)\n",
        "    print(f3)"
      ],
      "execution_count": 123,
      "outputs": [
        {
          "output_type": "stream",
          "text": [
            "tf.Tensor(True, shape=(), dtype=bool)\n",
            "tf.Tensor(3, shape=(), dtype=int64)\n",
            "tf.Tensor(b'horse', shape=(), dtype=string)\n",
            "tf.Tensor(-0.9332249598916669, shape=(), dtype=float64)\n"
          ],
          "name": "stdout"
        }
      ]
    },
    {
      "cell_type": "code",
      "metadata": {
        "id": "nsxPKZ_Hj06c",
        "colab_type": "code",
        "colab": {}
      },
      "source": [
        "def tf_serialize_example(f0,f1,f2,f3):\n",
        "    tf_string = tf.py_function(\n",
        "        serialize_example,\n",
        "        (f0,f1,f2,f3),  \n",
        "        tf.string)      \n",
        "    return tf.reshape(tf_string, ()) "
      ],
      "execution_count": 0,
      "outputs": []
    },
    {
      "cell_type": "code",
      "metadata": {
        "id": "fuijJOQxj7QK",
        "colab_type": "code",
        "colab": {
          "base_uri": "https://localhost:8080/",
          "height": 54
        },
        "outputId": "4be99c06-c21c-4369-a684-28d0c0697305"
      },
      "source": [
        "tf_serialize_example(f0,f1,f2,f3)"
      ],
      "execution_count": 125,
      "outputs": [
        {
          "output_type": "execute_result",
          "data": {
            "text/plain": [
              "<tf.Tensor: shape=(), dtype=string, numpy=b'\\nS\\n\\x11\\n\\x08feature0\\x12\\x05\\x1a\\x03\\n\\x01\\x01\\n\\x11\\n\\x08feature1\\x12\\x05\\x1a\\x03\\n\\x01\\x03\\n\\x15\\n\\x08feature2\\x12\\t\\n\\x07\\n\\x05horse\\n\\x14\\n\\x08feature3\\x12\\x08\\x12\\x06\\n\\x04\\xd5\\xe7n\\xbf'>"
            ]
          },
          "metadata": {
            "tags": []
          },
          "execution_count": 125
        }
      ]
    },
    {
      "cell_type": "code",
      "metadata": {
        "id": "peecJ0cSkKri",
        "colab_type": "code",
        "colab": {
          "base_uri": "https://localhost:8080/",
          "height": 34
        },
        "outputId": "8caedade-1a41-4576-a6b2-fd4cb9419746"
      },
      "source": [
        "serialized_features_dataset = features_dataset.map(tf_serialize_example)\n",
        "serialized_features_dataset"
      ],
      "execution_count": 126,
      "outputs": [
        {
          "output_type": "execute_result",
          "data": {
            "text/plain": [
              "<MapDataset shapes: (), types: tf.string>"
            ]
          },
          "metadata": {
            "tags": []
          },
          "execution_count": 126
        }
      ]
    },
    {
      "cell_type": "code",
      "metadata": {
        "id": "M8LQ8s2fkLrG",
        "colab_type": "code",
        "colab": {}
      },
      "source": [
        "def generator():\n",
        "    for features in features_dataset:\n",
        "        yield serialize_example(*features)"
      ],
      "execution_count": 0,
      "outputs": []
    },
    {
      "cell_type": "code",
      "metadata": {
        "id": "4N4HV-nxkNRI",
        "colab_type": "code",
        "colab": {}
      },
      "source": [
        "serialized_features_dataset = tf.data.Dataset.from_generator(\n",
        "    generator, output_types=tf.string, output_shapes=())"
      ],
      "execution_count": 0,
      "outputs": []
    },
    {
      "cell_type": "code",
      "metadata": {
        "id": "ZKrwrrbhkOFs",
        "colab_type": "code",
        "colab": {
          "base_uri": "https://localhost:8080/",
          "height": 34
        },
        "outputId": "c7a6c18a-46a5-4654-e6d0-cd868658976d"
      },
      "source": [
        "serialized_features_dataset"
      ],
      "execution_count": 129,
      "outputs": [
        {
          "output_type": "execute_result",
          "data": {
            "text/plain": [
              "<FlatMapDataset shapes: (), types: tf.string>"
            ]
          },
          "metadata": {
            "tags": []
          },
          "execution_count": 129
        }
      ]
    },
    {
      "cell_type": "code",
      "metadata": {
        "id": "76MDOCMBkOy1",
        "colab_type": "code",
        "colab": {}
      },
      "source": [
        "filename = 'test.tfrecord'\n",
        "writer = tf.data.experimental.TFRecordWriter(filename)\n",
        "writer.write(serialized_features_dataset)"
      ],
      "execution_count": 0,
      "outputs": []
    },
    {
      "cell_type": "code",
      "metadata": {
        "id": "zKjkakm_kP_s",
        "colab_type": "code",
        "colab": {
          "base_uri": "https://localhost:8080/",
          "height": 34
        },
        "outputId": "45d6ac4a-f5b8-4f2f-9c5d-503cc9aa6cfd"
      },
      "source": [
        "filenames = [filename]\n",
        "raw_dataset = tf.data.TFRecordDataset(filenames)\n",
        "raw_dataset"
      ],
      "execution_count": 132,
      "outputs": [
        {
          "output_type": "execute_result",
          "data": {
            "text/plain": [
              "<TFRecordDatasetV2 shapes: (), types: tf.string>"
            ]
          },
          "metadata": {
            "tags": []
          },
          "execution_count": 132
        }
      ]
    },
    {
      "cell_type": "code",
      "metadata": {
        "id": "K5oLhMYbkyJL",
        "colab_type": "code",
        "colab": {
          "base_uri": "https://localhost:8080/",
          "height": 207
        },
        "outputId": "e22f3ab7-e7c6-46f4-9515-4306060df4e4"
      },
      "source": [
        "for raw_record in raw_dataset.take(10):\n",
        "    print(repr(raw_record))"
      ],
      "execution_count": 133,
      "outputs": [
        {
          "output_type": "stream",
          "text": [
            "<tf.Tensor: shape=(), dtype=string, numpy=b'\\nS\\n\\x11\\n\\x08feature0\\x12\\x05\\x1a\\x03\\n\\x01\\x01\\n\\x11\\n\\x08feature1\\x12\\x05\\x1a\\x03\\n\\x01\\x03\\n\\x15\\n\\x08feature2\\x12\\t\\n\\x07\\n\\x05horse\\n\\x14\\n\\x08feature3\\x12\\x08\\x12\\x06\\n\\x04\\xd5\\xe7n\\xbf'>\n",
            "<tf.Tensor: shape=(), dtype=string, numpy=b'\\nQ\\n\\x11\\n\\x08feature0\\x12\\x05\\x1a\\x03\\n\\x01\\x00\\n\\x11\\n\\x08feature1\\x12\\x05\\x1a\\x03\\n\\x01\\x01\\n\\x13\\n\\x08feature2\\x12\\x07\\n\\x05\\n\\x03dog\\n\\x14\\n\\x08feature3\\x12\\x08\\x12\\x06\\n\\x04#\\xac\\x10\\xbd'>\n",
            "<tf.Tensor: shape=(), dtype=string, numpy=b'\\nQ\\n\\x11\\n\\x08feature0\\x12\\x05\\x1a\\x03\\n\\x01\\x01\\n\\x11\\n\\x08feature1\\x12\\x05\\x1a\\x03\\n\\x01\\x00\\n\\x13\\n\\x08feature2\\x12\\x07\\n\\x05\\n\\x03cat\\n\\x14\\n\\x08feature3\\x12\\x08\\x12\\x06\\n\\x04\\xe7\\x17m\\xbe'>\n",
            "<tf.Tensor: shape=(), dtype=string, numpy=b'\\nS\\n\\x15\\n\\x08feature2\\x12\\t\\n\\x07\\n\\x05horse\\n\\x14\\n\\x08feature3\\x12\\x08\\x12\\x06\\n\\x04\\xfa\\xd0\\r\\xbf\\n\\x11\\n\\x08feature0\\x12\\x05\\x1a\\x03\\n\\x01\\x00\\n\\x11\\n\\x08feature1\\x12\\x05\\x1a\\x03\\n\\x01\\x03'>\n",
            "<tf.Tensor: shape=(), dtype=string, numpy=b'\\nU\\n\\x11\\n\\x08feature0\\x12\\x05\\x1a\\x03\\n\\x01\\x01\\n\\x11\\n\\x08feature1\\x12\\x05\\x1a\\x03\\n\\x01\\x02\\n\\x17\\n\\x08feature2\\x12\\x0b\\n\\t\\n\\x07chicken\\n\\x14\\n\\x08feature3\\x12\\x08\\x12\\x06\\n\\x04\\xbf!~\\xbe'>\n",
            "<tf.Tensor: shape=(), dtype=string, numpy=b'\\nU\\n\\x11\\n\\x08feature0\\x12\\x05\\x1a\\x03\\n\\x01\\x01\\n\\x11\\n\\x08feature1\\x12\\x05\\x1a\\x03\\n\\x01\\x02\\n\\x17\\n\\x08feature2\\x12\\x0b\\n\\t\\n\\x07chicken\\n\\x14\\n\\x08feature3\\x12\\x08\\x12\\x06\\n\\x04\\xd1G\\xa2\\xbd'>\n",
            "<tf.Tensor: shape=(), dtype=string, numpy=b'\\nS\\n\\x11\\n\\x08feature0\\x12\\x05\\x1a\\x03\\n\\x01\\x00\\n\\x11\\n\\x08feature1\\x12\\x05\\x1a\\x03\\n\\x01\\x03\\n\\x15\\n\\x08feature2\\x12\\t\\n\\x07\\n\\x05horse\\n\\x14\\n\\x08feature3\\x12\\x08\\x12\\x06\\n\\x04\\xea\\xa7\\x00\\xbf'>\n",
            "<tf.Tensor: shape=(), dtype=string, numpy=b'\\nR\\n\\x11\\n\\x08feature0\\x12\\x05\\x1a\\x03\\n\\x01\\x01\\n\\x11\\n\\x08feature1\\x12\\x05\\x1a\\x03\\n\\x01\\x04\\n\\x14\\n\\x08feature2\\x12\\x08\\n\\x06\\n\\x04goat\\n\\x14\\n\\x08feature3\\x12\\x08\\x12\\x06\\n\\x04\\x01\\x04\\x9c?'>\n",
            "<tf.Tensor: shape=(), dtype=string, numpy=b'\\nR\\n\\x11\\n\\x08feature0\\x12\\x05\\x1a\\x03\\n\\x01\\x01\\n\\x11\\n\\x08feature1\\x12\\x05\\x1a\\x03\\n\\x01\\x04\\n\\x14\\n\\x08feature2\\x12\\x08\\n\\x06\\n\\x04goat\\n\\x14\\n\\x08feature3\\x12\\x08\\x12\\x06\\n\\x04\\xf7\\xba\\xbd>'>\n",
            "<tf.Tensor: shape=(), dtype=string, numpy=b'\\nQ\\n\\x13\\n\\x08feature2\\x12\\x07\\n\\x05\\n\\x03cat\\n\\x14\\n\\x08feature3\\x12\\x08\\x12\\x06\\n\\x04\\xa3l\\xac\\xbd\\n\\x11\\n\\x08feature0\\x12\\x05\\x1a\\x03\\n\\x01\\x00\\n\\x11\\n\\x08feature1\\x12\\x05\\x1a\\x03\\n\\x01\\x00'>\n"
          ],
          "name": "stdout"
        }
      ]
    },
    {
      "cell_type": "code",
      "metadata": {
        "id": "t6DODPCCkzQM",
        "colab_type": "code",
        "colab": {}
      },
      "source": [
        "feature_description = {\n",
        "    'feature0': tf.io.FixedLenFeature([], tf.int64, default_value=0),\n",
        "    'feature1': tf.io.FixedLenFeature([], tf.int64, default_value=0),\n",
        "    'feature2': tf.io.FixedLenFeature([], tf.string, default_value=''),\n",
        "    'feature3': tf.io.FixedLenFeature([], tf.float32, default_value=0.0),\n",
        "}\n",
        "\n",
        "def _parse_function(example_proto):\n",
        "  return tf.io.parse_single_example(example_proto, feature_description)"
      ],
      "execution_count": 0,
      "outputs": []
    },
    {
      "cell_type": "code",
      "metadata": {
        "id": "ap1aunSqk2y8",
        "colab_type": "code",
        "colab": {
          "base_uri": "https://localhost:8080/",
          "height": 54
        },
        "outputId": "33c65598-2247-43ab-e9ee-92b1c832d51e"
      },
      "source": [
        "parsed_dataset = raw_dataset.map(_parse_function)\n",
        "parsed_dataset"
      ],
      "execution_count": 135,
      "outputs": [
        {
          "output_type": "execute_result",
          "data": {
            "text/plain": [
              "<MapDataset shapes: {feature0: (), feature1: (), feature2: (), feature3: ()}, types: {feature0: tf.int64, feature1: tf.int64, feature2: tf.string, feature3: tf.float32}>"
            ]
          },
          "metadata": {
            "tags": []
          },
          "execution_count": 135
        }
      ]
    },
    {
      "cell_type": "code",
      "metadata": {
        "id": "lvW_4AVFk4Z-",
        "colab_type": "code",
        "colab": {
          "base_uri": "https://localhost:8080/",
          "height": 207
        },
        "outputId": "9fd698f9-e2bc-4998-c35f-c4a77faf10bb"
      },
      "source": [
        "for parsed_record in parsed_dataset.take(10):\n",
        "    print(repr(parsed_record))"
      ],
      "execution_count": 136,
      "outputs": [
        {
          "output_type": "stream",
          "text": [
            "{'feature0': <tf.Tensor: shape=(), dtype=int64, numpy=1>, 'feature1': <tf.Tensor: shape=(), dtype=int64, numpy=3>, 'feature2': <tf.Tensor: shape=(), dtype=string, numpy=b'horse'>, 'feature3': <tf.Tensor: shape=(), dtype=float32, numpy=-0.933225>}\n",
            "{'feature0': <tf.Tensor: shape=(), dtype=int64, numpy=0>, 'feature1': <tf.Tensor: shape=(), dtype=int64, numpy=1>, 'feature2': <tf.Tensor: shape=(), dtype=string, numpy=b'dog'>, 'feature3': <tf.Tensor: shape=(), dtype=float32, numpy=-0.035320412>}\n",
            "{'feature0': <tf.Tensor: shape=(), dtype=int64, numpy=1>, 'feature1': <tf.Tensor: shape=(), dtype=int64, numpy=0>, 'feature2': <tf.Tensor: shape=(), dtype=string, numpy=b'cat'>, 'feature3': <tf.Tensor: shape=(), dtype=float32, numpy=-0.2315365>}\n",
            "{'feature0': <tf.Tensor: shape=(), dtype=int64, numpy=0>, 'feature1': <tf.Tensor: shape=(), dtype=int64, numpy=3>, 'feature2': <tf.Tensor: shape=(), dtype=string, numpy=b'horse'>, 'feature3': <tf.Tensor: shape=(), dtype=float32, numpy=-0.55397>}\n",
            "{'feature0': <tf.Tensor: shape=(), dtype=int64, numpy=1>, 'feature1': <tf.Tensor: shape=(), dtype=int64, numpy=2>, 'feature2': <tf.Tensor: shape=(), dtype=string, numpy=b'chicken'>, 'feature3': <tf.Tensor: shape=(), dtype=float32, numpy=-0.2481756>}\n",
            "{'feature0': <tf.Tensor: shape=(), dtype=int64, numpy=1>, 'feature1': <tf.Tensor: shape=(), dtype=int64, numpy=2>, 'feature2': <tf.Tensor: shape=(), dtype=string, numpy=b'chicken'>, 'feature3': <tf.Tensor: shape=(), dtype=float32, numpy=-0.07923854>}\n",
            "{'feature0': <tf.Tensor: shape=(), dtype=int64, numpy=0>, 'feature1': <tf.Tensor: shape=(), dtype=int64, numpy=3>, 'feature2': <tf.Tensor: shape=(), dtype=string, numpy=b'horse'>, 'feature3': <tf.Tensor: shape=(), dtype=float32, numpy=-0.50256217>}\n",
            "{'feature0': <tf.Tensor: shape=(), dtype=int64, numpy=1>, 'feature1': <tf.Tensor: shape=(), dtype=int64, numpy=4>, 'feature2': <tf.Tensor: shape=(), dtype=string, numpy=b'goat'>, 'feature3': <tf.Tensor: shape=(), dtype=float32, numpy=1.2188722>}\n",
            "{'feature0': <tf.Tensor: shape=(), dtype=int64, numpy=1>, 'feature1': <tf.Tensor: shape=(), dtype=int64, numpy=4>, 'feature2': <tf.Tensor: shape=(), dtype=string, numpy=b'goat'>, 'feature3': <tf.Tensor: shape=(), dtype=float32, numpy=0.37056705>}\n",
            "{'feature0': <tf.Tensor: shape=(), dtype=int64, numpy=0>, 'feature1': <tf.Tensor: shape=(), dtype=int64, numpy=0>, 'feature2': <tf.Tensor: shape=(), dtype=string, numpy=b'cat'>, 'feature3': <tf.Tensor: shape=(), dtype=float32, numpy=-0.08419158>}\n"
          ],
          "name": "stdout"
        }
      ]
    },
    {
      "cell_type": "code",
      "metadata": {
        "id": "X5YOoUb_k5fk",
        "colab_type": "code",
        "colab": {}
      },
      "source": [
        "with tf.io.TFRecordWriter(filename) as writer:\n",
        "    for i in range(n_observations):\n",
        "        example = serialize_example(feature0[i], feature1[i], feature2[i], feature3[i])\n",
        "        writer.write(example)"
      ],
      "execution_count": 0,
      "outputs": []
    },
    {
      "cell_type": "code",
      "metadata": {
        "id": "nKqTNVAmlM-x",
        "colab_type": "code",
        "colab": {
          "base_uri": "https://localhost:8080/",
          "height": 34
        },
        "outputId": "325835bd-68e9-4cfd-c598-8bcba240908c"
      },
      "source": [
        "!du -sh {filename}"
      ],
      "execution_count": 140,
      "outputs": [
        {
          "output_type": "stream",
          "text": [
            "984K\ttest.tfrecord\n"
          ],
          "name": "stdout"
        }
      ]
    },
    {
      "cell_type": "code",
      "metadata": {
        "id": "q3dN_ELUlORY",
        "colab_type": "code",
        "colab": {
          "base_uri": "https://localhost:8080/",
          "height": 612
        },
        "outputId": "3623462d-e9a6-4c22-feee-d569308cc921"
      },
      "source": [
        "for raw_record in raw_dataset.take(1):\n",
        "    example = tf.train.Example()\n",
        "    example.ParseFromString(raw_record.numpy())\n",
        "    print(example)"
      ],
      "execution_count": 141,
      "outputs": [
        {
          "output_type": "stream",
          "text": [
            "features {\n",
            "  feature {\n",
            "    key: \"feature0\"\n",
            "    value {\n",
            "      int64_list {\n",
            "        value: 1\n",
            "      }\n",
            "    }\n",
            "  }\n",
            "  feature {\n",
            "    key: \"feature1\"\n",
            "    value {\n",
            "      int64_list {\n",
            "        value: 3\n",
            "      }\n",
            "    }\n",
            "  }\n",
            "  feature {\n",
            "    key: \"feature2\"\n",
            "    value {\n",
            "      bytes_list {\n",
            "        value: \"horse\"\n",
            "      }\n",
            "    }\n",
            "  }\n",
            "  feature {\n",
            "    key: \"feature3\"\n",
            "    value {\n",
            "      float_list {\n",
            "        value: -0.9332249760627747\n",
            "      }\n",
            "    }\n",
            "  }\n",
            "}\n",
            "\n"
          ],
          "name": "stdout"
        }
      ]
    },
    {
      "cell_type": "code",
      "metadata": {
        "id": "T1YrICrClanr",
        "colab_type": "code",
        "colab": {
          "base_uri": "https://localhost:8080/",
          "height": 105
        },
        "outputId": "62a4b658-d440-4d0e-a203-8ac67efa7936"
      },
      "source": [
        "cat_in_snow  = tf.keras.utils.get_file('320px-Felis_catus-cat_on_snow.jpg', 'https://storage.googleapis.com/download.tensorflow.org/example_images/320px-Felis_catus-cat_on_snow.jpg')\n",
        "williamsburg_bridge = tf.keras.utils.get_file('194px-New_East_River_Bridge_from_Brooklyn_det.4a09796u.jpg','https://storage.googleapis.com/download.tensorflow.org/example_images/194px-New_East_River_Bridge_from_Brooklyn_det.4a09796u.jpg')"
      ],
      "execution_count": 142,
      "outputs": [
        {
          "output_type": "stream",
          "text": [
            "Downloading data from https://storage.googleapis.com/download.tensorflow.org/example_images/320px-Felis_catus-cat_on_snow.jpg\n",
            "24576/17858 [=========================================] - 0s 0us/step\n",
            "Downloading data from https://storage.googleapis.com/download.tensorflow.org/example_images/194px-New_East_River_Bridge_from_Brooklyn_det.4a09796u.jpg\n",
            "16384/15477 [===============================] - 0s 0us/step\n"
          ],
          "name": "stdout"
        }
      ]
    },
    {
      "cell_type": "code",
      "metadata": {
        "id": "Q60QBTJ9lfi4",
        "colab_type": "code",
        "colab": {
          "base_uri": "https://localhost:8080/",
          "height": 247
        },
        "outputId": "e12d5592-83ac-4ffc-8ea8-f83eeedfd9db"
      },
      "source": [
        "display.display(display.Image(filename=cat_in_snow))\n",
        "display.display(display.HTML('Image cc-by: <a \"href=https://commons.wikimedia.org/wiki/File:Felis_catus-cat_on_snow.jpg\">Von.grzanka</a>'))"
      ],
      "execution_count": 143,
      "outputs": [
        {
          "output_type": "display_data",
          "data": {
            "image/jpeg": "[encoded data removed]",
            "text/plain": [
              "<IPython.core.display.Image object>"
            ]
          },
          "metadata": {
            "tags": []
          }
        },
        {
          "output_type": "display_data",
          "data": {
            "text/html": [
              "Image cc-by: <a \"href=https://commons.wikimedia.org/wiki/File:Felis_catus-cat_on_snow.jpg\">Von.grzanka</a>"
            ],
            "text/plain": [
              "<IPython.core.display.HTML object>"
            ]
          },
          "metadata": {
            "tags": []
          }
        }
      ]
    },
    {
      "cell_type": "code",
      "metadata": {
        "id": "Put9udQnlgZA",
        "colab_type": "code",
        "colab": {
          "base_uri": "https://localhost:8080/",
          "height": 273
        },
        "outputId": "fb4b8300-10d5-4127-cf1c-19ff8e826823"
      },
      "source": [
        "display.display(display.Image(filename=williamsburg_bridge))\n",
        "display.display(display.HTML('<a \"href=https://commons.wikimedia.org/wiki/File:New_East_River_Bridge_from_Brooklyn_det.4a09796u.jpg\">From Wikimedia</a>'))"
      ],
      "execution_count": 144,
      "outputs": [
        {
          "output_type": "display_data",
          "data": {
            "image/jpeg": "[encoded data removed]",
            "text/plain": [
              "<IPython.core.display.Image object>"
            ]
          },
          "metadata": {
            "tags": []
          }
        },
        {
          "output_type": "display_data",
          "data": {
            "text/html": [
              "<a \"href=https://commons.wikimedia.org/wiki/File:New_East_River_Bridge_from_Brooklyn_det.4a09796u.jpg\">From Wikimedia</a>"
            ],
            "text/plain": [
              "<IPython.core.display.HTML object>"
            ]
          },
          "metadata": {
            "tags": []
          }
        }
      ]
    },
    {
      "cell_type": "code",
      "metadata": {
        "id": "TQ6EVv3QlhVS",
        "colab_type": "code",
        "colab": {}
      },
      "source": [
        "image_labels = {\n",
        "    cat_in_snow : 0,\n",
        "    williamsburg_bridge : 1,\n",
        "}"
      ],
      "execution_count": 0,
      "outputs": []
    },
    {
      "cell_type": "code",
      "metadata": {
        "id": "vocNfag4lifg",
        "colab_type": "code",
        "colab": {
          "base_uri": "https://localhost:8080/",
          "height": 289
        },
        "outputId": "b9549f96-8c15-46d6-e9a1-012681d9398b"
      },
      "source": [
        "image_string = open(cat_in_snow, 'rb').read()\n",
        "\n",
        "label = image_labels[cat_in_snow]\n",
        "\n",
        "def image_example(image_string, label):\n",
        "    image_shape = tf.image.decode_jpeg(image_string).shape\n",
        "\n",
        "    feature = {\n",
        "        'height': _int64_feature(image_shape[0]),\n",
        "        'width': _int64_feature(image_shape[1]),\n",
        "        'depth': _int64_feature(image_shape[2]),\n",
        "        'label': _int64_feature(label),\n",
        "        'image_raw': _bytes_feature(image_string),\n",
        "    }\n",
        "\n",
        "    return tf.train.Example(features=tf.train.Features(feature=feature))\n",
        "\n",
        "for line in str(image_example(image_string, label)).split('\\n')[:15]:\n",
        "    print(line)\n",
        "print('...')"
      ],
      "execution_count": 146,
      "outputs": [
        {
          "output_type": "stream",
          "text": [
            "features {\n",
            "  feature {\n",
            "    key: \"depth\"\n",
            "    value {\n",
            "      int64_list {\n",
            "        value: 3\n",
            "      }\n",
            "    }\n",
            "  }\n",
            "  feature {\n",
            "    key: \"height\"\n",
            "    value {\n",
            "      int64_list {\n",
            "        value: 213\n",
            "      }\n",
            "...\n"
          ],
          "name": "stdout"
        }
      ]
    },
    {
      "cell_type": "code",
      "metadata": {
        "id": "-I6Jv0Qmll3B",
        "colab_type": "code",
        "colab": {}
      },
      "source": [
        "record_file = 'images.tfrecords'\n",
        "with tf.io.TFRecordWriter(record_file) as writer:\n",
        "    for filename, label in image_labels.items():\n",
        "        image_string = open(filename, 'rb').read()\n",
        "        tf_example = image_example(image_string, label)\n",
        "        writer.write(tf_example.SerializeToString())"
      ],
      "execution_count": 0,
      "outputs": []
    },
    {
      "cell_type": "code",
      "metadata": {
        "id": "TehXHIeTlofl",
        "colab_type": "code",
        "colab": {
          "base_uri": "https://localhost:8080/",
          "height": 34
        },
        "outputId": "f9debe51-892c-4442-8b06-609b962a9ac7"
      },
      "source": [
        "!du -sh {record_file}"
      ],
      "execution_count": 148,
      "outputs": [
        {
          "output_type": "stream",
          "text": [
            "36K\timages.tfrecords\n"
          ],
          "name": "stdout"
        }
      ]
    },
    {
      "cell_type": "code",
      "metadata": {
        "id": "vEEHMxiKlpiY",
        "colab_type": "code",
        "colab": {
          "base_uri": "https://localhost:8080/",
          "height": 54
        },
        "outputId": "d3baef29-bbb9-4d51-d4ef-7a29c080fa0c"
      },
      "source": [
        "raw_image_dataset = tf.data.TFRecordDataset('images.tfrecords')\n",
        "\n",
        "image_feature_description = {\n",
        "    'height': tf.io.FixedLenFeature([], tf.int64),\n",
        "    'width': tf.io.FixedLenFeature([], tf.int64),\n",
        "    'depth': tf.io.FixedLenFeature([], tf.int64),\n",
        "    'label': tf.io.FixedLenFeature([], tf.int64),\n",
        "    'image_raw': tf.io.FixedLenFeature([], tf.string),\n",
        "}\n",
        "\n",
        "def _parse_image_function(example_proto):\n",
        "    return tf.io.parse_single_example(example_proto, image_feature_description)\n",
        "\n",
        "parsed_image_dataset = raw_image_dataset.map(_parse_image_function)\n",
        "parsed_image_dataset"
      ],
      "execution_count": 149,
      "outputs": [
        {
          "output_type": "execute_result",
          "data": {
            "text/plain": [
              "<MapDataset shapes: {depth: (), height: (), image_raw: (), label: (), width: ()}, types: {depth: tf.int64, height: tf.int64, image_raw: tf.string, label: tf.int64, width: tf.int64}>"
            ]
          },
          "metadata": {
            "tags": []
          },
          "execution_count": 149
        }
      ]
    },
    {
      "cell_type": "code",
      "metadata": {
        "id": "j9WHnrPUlqxH",
        "colab_type": "code",
        "colab": {
          "base_uri": "https://localhost:8080/",
          "height": 469
        },
        "outputId": "77243a94-c892-4b3d-f37b-f4bfdc059b2c"
      },
      "source": [
        "for image_features in parsed_image_dataset:\n",
        "    image_raw = image_features['image_raw'].numpy()\n",
        "    display.display(display.Image(data=image_raw))"
      ],
      "execution_count": 150,
      "outputs": [
        {
          "output_type": "display_data",
          "data": {
            "image/jpeg": "[encoded data removed]",
            "text/plain": [
              "<IPython.core.display.Image object>"
            ]
          },
          "metadata": {
            "tags": []
          }
        },
        {
          "output_type": "display_data",
          "data": {
            "image/jpeg": "[encoded data removed]",
            "text/plain": [
              "<IPython.core.display.Image object>"
            ]
          },
          "metadata": {
            "tags": []
          }
        }
      ]
    },
    {
      "cell_type": "code",
      "metadata": {
        "id": "-oMzHYk9lt6k",
        "colab_type": "code",
        "colab": {}
      },
      "source": [
        "# 2번째"
      ],
      "execution_count": 0,
      "outputs": []
    },
    {
      "cell_type": "code",
      "metadata": {
        "id": "elkEmhZDl-fK",
        "colab_type": "code",
        "colab": {
          "base_uri": "https://localhost:8080/",
          "height": 289
        },
        "outputId": "14f5096b-2039-4360-9013-2c078655ff25"
      },
      "source": [
        "image_string = open(cat_in_snow, 'rb').read()\n",
        "\n",
        "label = image_labels[cat_in_snow]\n",
        "\n",
        "for line in str(image_example(image_string, label)).split('\\n')[:15]:\n",
        "    print(line)\n",
        "print('...')"
      ],
      "execution_count": 152,
      "outputs": [
        {
          "output_type": "stream",
          "text": [
            "features {\n",
            "  feature {\n",
            "    key: \"depth\"\n",
            "    value {\n",
            "      int64_list {\n",
            "        value: 3\n",
            "      }\n",
            "    }\n",
            "  }\n",
            "  feature {\n",
            "    key: \"height\"\n",
            "    value {\n",
            "      int64_list {\n",
            "        value: 213\n",
            "      }\n",
            "...\n"
          ],
          "name": "stdout"
        }
      ]
    },
    {
      "cell_type": "code",
      "metadata": {
        "id": "glBA6e1ZmCcE",
        "colab_type": "code",
        "colab": {}
      },
      "source": [
        "record_file = 'images.tfrecords'\n",
        "with tf.io.TFRecordWriter(record_file) as writer:\n",
        "    for filename, label in image_labels.items():\n",
        "        image_string = open(filename, 'rb').read()\n",
        "        tf_example = image_example(image_string, label)\n",
        "        writer.write(tf_example.SerializeToString())"
      ],
      "execution_count": 0,
      "outputs": []
    },
    {
      "cell_type": "code",
      "metadata": {
        "id": "R-dE4W_FmENP",
        "colab_type": "code",
        "colab": {
          "base_uri": "https://localhost:8080/",
          "height": 54
        },
        "outputId": "7c91b570-2e9a-4b89-bc7e-031adf1e4f40"
      },
      "source": [
        "raw_image_dataset = tf.data.TFRecordDataset('images.tfrecords')\n",
        "\n",
        "image_feature_description = {\n",
        "    'height': tf.io.FixedLenFeature([], tf.int64),\n",
        "    'width': tf.io.FixedLenFeature([], tf.int64),\n",
        "    'depth': tf.io.FixedLenFeature([], tf.int64),\n",
        "    'label': tf.io.FixedLenFeature([], tf.int64),\n",
        "    'image_raw': tf.io.FixedLenFeature([], tf.string),\n",
        "}\n",
        "\n",
        "def _parse_image_function(example_proto):\n",
        "    return tf.io.parse_single_example(example_proto, image_feature_description)\n",
        "\n",
        "parsed_image_dataset = raw_image_dataset.map(_parse_image_function)\n",
        "parsed_image_dataset"
      ],
      "execution_count": 154,
      "outputs": [
        {
          "output_type": "execute_result",
          "data": {
            "text/plain": [
              "<MapDataset shapes: {depth: (), height: (), image_raw: (), label: (), width: ()}, types: {depth: tf.int64, height: tf.int64, image_raw: tf.string, label: tf.int64, width: tf.int64}>"
            ]
          },
          "metadata": {
            "tags": []
          },
          "execution_count": 154
        }
      ]
    },
    {
      "cell_type": "code",
      "metadata": {
        "id": "q_cvkfQ1mF4f",
        "colab_type": "code",
        "colab": {
          "base_uri": "https://localhost:8080/",
          "height": 469
        },
        "outputId": "53bb9ffd-2ed8-4438-bff9-8243347a383f"
      },
      "source": [
        "for image_features in parsed_image_dataset:\n",
        "    image_raw = image_features['image_raw'].numpy()\n",
        "    display.display(display.Image(data=image_raw))"
      ],
      "execution_count": 155,
      "outputs": [
        {
          "output_type": "display_data",
          "data": {
            "image/jpeg": "[encoded data removed]",
            "text/plain": [
              "<IPython.core.display.Image object>"
            ]
          },
          "metadata": {
            "tags": []
          }
        },
        {
          "output_type": "display_data",
          "data": {
            "image/jpeg": "[encoded data removed]",
            "text/plain": [
              "<IPython.core.display.Image object>"
            ]
          },
          "metadata": {
            "tags": []
          }
        }
      ]
    },
    {
      "cell_type": "code",
      "metadata": {
        "id": "mvPhanBvmHKw",
        "colab_type": "code",
        "colab": {}
      },
      "source": [
        "def serialize_example(feature0, feature1, feature2, feature3):\n",
        "    feature = {\n",
        "        'feature0': _int64_feature(feature0),\n",
        "        'feature1': _int64_feature(feature1),\n",
        "        'feature2': _bytes_feature(feature2),\n",
        "        'feature3': _float_feature(feature3),\n",
        "    }\n",
        "\n",
        "    example_proto = tf.train.Example(features=tf.train.Features(feature=feature))\n",
        "    return example_proto.SerializeToString()"
      ],
      "execution_count": 0,
      "outputs": []
    },
    {
      "cell_type": "code",
      "metadata": {
        "id": "xnBNqvnioVQl",
        "colab_type": "code",
        "colab": {}
      },
      "source": [
        "def tf_serialize_example(f0,f1,f2,f3):\n",
        "    tf_string = tf.py_function(\n",
        "        serialize_example,\n",
        "        (f0,f1,f2,f3),  \n",
        "        tf.string)      \n",
        "    return tf.reshape(tf_string, ()) "
      ],
      "execution_count": 0,
      "outputs": []
    },
    {
      "cell_type": "code",
      "metadata": {
        "id": "Uq0rLSA9oYCq",
        "colab_type": "code",
        "colab": {
          "base_uri": "https://localhost:8080/",
          "height": 54
        },
        "outputId": "440fd654-f73b-43e3-e5ca-a4653bd7a19f"
      },
      "source": [
        "tf_serialize_example(f0,f1,f2,f3)"
      ],
      "execution_count": 158,
      "outputs": [
        {
          "output_type": "execute_result",
          "data": {
            "text/plain": [
              "<tf.Tensor: shape=(), dtype=string, numpy=b'\\nS\\n\\x11\\n\\x08feature0\\x12\\x05\\x1a\\x03\\n\\x01\\x01\\n\\x11\\n\\x08feature1\\x12\\x05\\x1a\\x03\\n\\x01\\x03\\n\\x15\\n\\x08feature2\\x12\\t\\n\\x07\\n\\x05horse\\n\\x14\\n\\x08feature3\\x12\\x08\\x12\\x06\\n\\x04\\xd5\\xe7n\\xbf'>"
            ]
          },
          "metadata": {
            "tags": []
          },
          "execution_count": 158
        }
      ]
    },
    {
      "cell_type": "code",
      "metadata": {
        "id": "Jj0nDSEEoc6B",
        "colab_type": "code",
        "colab": {
          "base_uri": "https://localhost:8080/",
          "height": 54
        },
        "outputId": "33b27367-c30d-4dc9-bb89-26c03036fab0"
      },
      "source": [
        "serialize_example(f0,f1,f2,f3)"
      ],
      "execution_count": 159,
      "outputs": [
        {
          "output_type": "execute_result",
          "data": {
            "text/plain": [
              "b'\\nS\\n\\x15\\n\\x08feature2\\x12\\t\\n\\x07\\n\\x05horse\\n\\x14\\n\\x08feature3\\x12\\x08\\x12\\x06\\n\\x04\\xd5\\xe7n\\xbf\\n\\x11\\n\\x08feature0\\x12\\x05\\x1a\\x03\\n\\x01\\x01\\n\\x11\\n\\x08feature1\\x12\\x05\\x1a\\x03\\n\\x01\\x03'"
            ]
          },
          "metadata": {
            "tags": []
          },
          "execution_count": 159
        }
      ]
    },
    {
      "cell_type": "code",
      "metadata": {
        "id": "rv4er5IFod6J",
        "colab_type": "code",
        "colab": {}
      },
      "source": [
        "# 3번째"
      ],
      "execution_count": 0,
      "outputs": []
    },
    {
      "cell_type": "code",
      "metadata": {
        "id": "voisNa1fofb-",
        "colab_type": "code",
        "colab": {
          "base_uri": "https://localhost:8080/",
          "height": 289
        },
        "outputId": "d949e5ef-5bcd-4480-a5c3-304a971fecab"
      },
      "source": [
        "image_string = open(cat_in_snow, 'rb').read()\n",
        "\n",
        "label = image_labels[cat_in_snow]\n",
        "\n",
        "for line in str(image_example(image_string, label)).split('\\n')[:15]:\n",
        "    print(line)\n",
        "print('...')"
      ],
      "execution_count": 161,
      "outputs": [
        {
          "output_type": "stream",
          "text": [
            "features {\n",
            "  feature {\n",
            "    key: \"depth\"\n",
            "    value {\n",
            "      int64_list {\n",
            "        value: 3\n",
            "      }\n",
            "    }\n",
            "  }\n",
            "  feature {\n",
            "    key: \"height\"\n",
            "    value {\n",
            "      int64_list {\n",
            "        value: 213\n",
            "      }\n",
            "...\n"
          ],
          "name": "stdout"
        }
      ]
    },
    {
      "cell_type": "code",
      "metadata": {
        "id": "Sgm-9zvUohAj",
        "colab_type": "code",
        "colab": {}
      },
      "source": [
        "record_file = 'images.tfrecords'\n",
        "with tf.io.TFRecordWriter(record_file) as writer:\n",
        "    for filename, label in image_labels.items():\n",
        "        image_string = open(filename, 'rb').read()\n",
        "        tf_example = image_example(image_string, label)\n",
        "        writer.write(tf_example.SerializeToString())"
      ],
      "execution_count": 0,
      "outputs": []
    },
    {
      "cell_type": "code",
      "metadata": {
        "id": "qMdof9aZoiSK",
        "colab_type": "code",
        "colab": {
          "base_uri": "https://localhost:8080/",
          "height": 54
        },
        "outputId": "c652c140-a1c5-406c-d146-6a152395f57b"
      },
      "source": [
        "raw_image_dataset = tf.data.TFRecordDataset('images.tfrecords')\n",
        "\n",
        "image_feature_description = {\n",
        "    'height': tf.io.FixedLenFeature([], tf.int64),\n",
        "    'width': tf.io.FixedLenFeature([], tf.int64),\n",
        "    'depth': tf.io.FixedLenFeature([], tf.int64),\n",
        "    'label': tf.io.FixedLenFeature([], tf.int64),\n",
        "    'image_raw': tf.io.FixedLenFeature([], tf.string),\n",
        "}\n",
        "\n",
        "def _parse_image_function(example_proto):\n",
        "    return tf.io.parse_single_example(example_proto, image_feature_description)\n",
        "\n",
        "parsed_image_dataset = raw_image_dataset.map(_parse_image_function)\n",
        "parsed_image_dataset"
      ],
      "execution_count": 163,
      "outputs": [
        {
          "output_type": "execute_result",
          "data": {
            "text/plain": [
              "<MapDataset shapes: {depth: (), height: (), image_raw: (), label: (), width: ()}, types: {depth: tf.int64, height: tf.int64, image_raw: tf.string, label: tf.int64, width: tf.int64}>"
            ]
          },
          "metadata": {
            "tags": []
          },
          "execution_count": 163
        }
      ]
    },
    {
      "cell_type": "code",
      "metadata": {
        "id": "UlsgM6YWoj3D",
        "colab_type": "code",
        "colab": {
          "base_uri": "https://localhost:8080/",
          "height": 469
        },
        "outputId": "7ffb97f8-53c1-4f5d-cd90-ac133fb92bf2"
      },
      "source": [
        "for image_features in parsed_image_dataset:\n",
        "    image_raw = image_features['image_raw'].numpy()\n",
        "    display.display(display.Image(data=image_raw))"
      ],
      "execution_count": 164,
      "outputs": [
        {
          "output_type": "display_data",
          "data": {
            "image/jpeg": "[encoded data removed]",
            "text/plain": [
              "<IPython.core.display.Image object>"
            ]
          },
          "metadata": {
            "tags": []
          }
        },
        {
          "output_type": "display_data",
          "data": {
            "image/jpeg": "[encoded data removed]",
            "text/plain": [
              "<IPython.core.display.Image object>"
            ]
          },
          "metadata": {
            "tags": []
          }
        }
      ]
    },
    {
      "cell_type": "code",
      "metadata": {
        "id": "xZMtwQLtol-D",
        "colab_type": "code",
        "colab": {}
      },
      "source": [
        "def serialize_example(feature0, feature1, feature2, feature3):\n",
        "    feature = {\n",
        "        'feature0': _int64_feature(feature0),\n",
        "        'feature1': _int64_feature(feature1),\n",
        "        'feature2': _bytes_feature(feature2),\n",
        "        'feature3': _float_feature(feature3),\n",
        "    }\n",
        "\n",
        "    example_proto = tf.train.Example(features=tf.train.Features(feature=feature))\n",
        "    return example_proto.SerializeToString()"
      ],
      "execution_count": 0,
      "outputs": []
    },
    {
      "cell_type": "code",
      "metadata": {
        "id": "phW7nlDSonF-",
        "colab_type": "code",
        "colab": {}
      },
      "source": [
        "def tf_serialize_example(f0,f1,f2,f3):\n",
        "    tf_string = tf.py_function(\n",
        "        serialize_example,\n",
        "        (f0,f1,f2,f3),  \n",
        "        tf.string)      \n",
        "    return tf.reshape(tf_string, ()) "
      ],
      "execution_count": 0,
      "outputs": []
    },
    {
      "cell_type": "code",
      "metadata": {
        "id": "r1SIkdkfooSx",
        "colab_type": "code",
        "colab": {
          "base_uri": "https://localhost:8080/",
          "height": 54
        },
        "outputId": "84dafc64-a7b4-4d7c-dfdf-4edc33b4608e"
      },
      "source": [
        "serialize_example(f0, f1, f2, f3)"
      ],
      "execution_count": 167,
      "outputs": [
        {
          "output_type": "execute_result",
          "data": {
            "text/plain": [
              "b'\\nS\\n\\x11\\n\\x08feature0\\x12\\x05\\x1a\\x03\\n\\x01\\x01\\n\\x11\\n\\x08feature1\\x12\\x05\\x1a\\x03\\n\\x01\\x03\\n\\x15\\n\\x08feature2\\x12\\t\\n\\x07\\n\\x05horse\\n\\x14\\n\\x08feature3\\x12\\x08\\x12\\x06\\n\\x04\\xd5\\xe7n\\xbf'"
            ]
          },
          "metadata": {
            "tags": []
          },
          "execution_count": 167
        }
      ]
    },
    {
      "cell_type": "code",
      "metadata": {
        "id": "wsGj26kPoqjw",
        "colab_type": "code",
        "colab": {
          "base_uri": "https://localhost:8080/",
          "height": 54
        },
        "outputId": "9a9d47ab-5fcb-402b-f2b7-ab267698d065"
      },
      "source": [
        "tf_serialize_example(f0, f1, f2, f3)"
      ],
      "execution_count": 168,
      "outputs": [
        {
          "output_type": "execute_result",
          "data": {
            "text/plain": [
              "<tf.Tensor: shape=(), dtype=string, numpy=b'\\nS\\n\\x11\\n\\x08feature0\\x12\\x05\\x1a\\x03\\n\\x01\\x01\\n\\x11\\n\\x08feature1\\x12\\x05\\x1a\\x03\\n\\x01\\x03\\n\\x15\\n\\x08feature2\\x12\\t\\n\\x07\\n\\x05horse\\n\\x14\\n\\x08feature3\\x12\\x08\\x12\\x06\\n\\x04\\xd5\\xe7n\\xbf'>"
            ]
          },
          "metadata": {
            "tags": []
          },
          "execution_count": 168
        }
      ]
    },
    {
      "cell_type": "code",
      "metadata": {
        "id": "N900GKQOorJr",
        "colab_type": "code",
        "colab": {}
      },
      "source": [
        ""
      ],
      "execution_count": 0,
      "outputs": []
    },
    {
      "cell_type": "markdown",
      "metadata": {
        "id": "LddXUEq0otGF",
        "colab_type": "text"
      },
      "source": [
        "### Save and Load\n",
        "- 1번째"
      ]
    },
    {
      "cell_type": "code",
      "metadata": {
        "id": "JcvK3BiBouj3",
        "colab_type": "code",
        "colab": {
          "base_uri": "https://localhost:8080/",
          "height": 105
        },
        "outputId": "232dae93-91c8-4a5c-fd73-294201450466"
      },
      "source": [
        "!pip install h5py pyyaml"
      ],
      "execution_count": 169,
      "outputs": [
        {
          "output_type": "stream",
          "text": [
            "Requirement already satisfied: h5py in /usr/local/lib/python3.6/dist-packages (2.8.0)\n",
            "Requirement already satisfied: pyyaml in /usr/local/lib/python3.6/dist-packages (3.13)\n",
            "Requirement already satisfied: six in /usr/local/lib/python3.6/dist-packages (from h5py) (1.12.0)\n",
            "Requirement already satisfied: numpy>=1.7 in /usr/local/lib/python3.6/dist-packages (from h5py) (1.17.4)\n"
          ],
          "name": "stdout"
        }
      ]
    },
    {
      "cell_type": "code",
      "metadata": {
        "id": "eY4xoRQ-oxcn",
        "colab_type": "code",
        "colab": {
          "base_uri": "https://localhost:8080/",
          "height": 51
        },
        "outputId": "c65fba76-000c-4bda-b265-bdd4b2b13521"
      },
      "source": [
        "from __future__ import absolute_import, division, print_function, unicode_literals, unicode_literals\n",
        "\n",
        "import os\n",
        "\n",
        "try:\n",
        "  # Colab only\n",
        "  %tensorflow_version 2.x\n",
        "except Exception:\n",
        "    pass\n",
        "import tensorflow as tf\n",
        "from tensorflow import keras\n",
        "\n",
        "tf.__version__"
      ],
      "execution_count": 170,
      "outputs": [
        {
          "output_type": "stream",
          "text": [
            "TensorFlow is already loaded. Please restart the runtime to change versions.\n"
          ],
          "name": "stdout"
        },
        {
          "output_type": "execute_result",
          "data": {
            "text/plain": [
              "'2.0.0-dev20191002'"
            ]
          },
          "metadata": {
            "tags": []
          },
          "execution_count": 170
        }
      ]
    },
    {
      "cell_type": "code",
      "metadata": {
        "id": "KnIziWz2oyOU",
        "colab_type": "code",
        "colab": {
          "base_uri": "https://localhost:8080/",
          "height": 51
        },
        "outputId": "f9a1df0f-a6d3-49c4-96a9-4d67c9cbef09"
      },
      "source": [
        "(train_images, train_labels), (test_images, test_labels) = tf.keras.datasets.mnist.load_data()\n",
        "\n",
        "train_labels = train_labels[:1000]\n",
        "test_labels = test_labels[:1000]\n",
        "\n",
        "train_images = train_images[:1000].reshape(-1, 28 * 28) / 255.0\n",
        "test_images = test_images[:1000].reshape(-1, 28 * 28) / 255.0"
      ],
      "execution_count": 171,
      "outputs": [
        {
          "output_type": "stream",
          "text": [
            "Downloading data from https://storage.googleapis.com/tensorflow/tf-keras-datasets/mnist.npz\n",
            "11493376/11490434 [==============================] - 0s 0us/step\n"
          ],
          "name": "stdout"
        }
      ]
    },
    {
      "cell_type": "code",
      "metadata": {
        "id": "lIT5PAkIozEZ",
        "colab_type": "code",
        "colab": {
          "base_uri": "https://localhost:8080/",
          "height": 255
        },
        "outputId": "c8ce4eba-219f-4181-e1e5-48e75f1b61e9"
      },
      "source": [
        "def create_model():\n",
        "    model = tf.keras.models.Sequential([\n",
        "    keras.layers.Dense(512, activation='relu', input_shape=(784,)),\n",
        "    keras.layers.Dropout(0.2),\n",
        "    keras.layers.Dense(10, activation='softmax')\n",
        "    ])\n",
        "\n",
        "    model.compile(optimizer='adam',\n",
        "                loss='sparse_categorical_crossentropy',\n",
        "                metrics=['accuracy'])\n",
        "\n",
        "    return model\n",
        "\n",
        "model = create_model()\n",
        "model.summary()"
      ],
      "execution_count": 172,
      "outputs": [
        {
          "output_type": "stream",
          "text": [
            "Model: \"sequential_14\"\n",
            "_________________________________________________________________\n",
            "Layer (type)                 Output Shape              Param #   \n",
            "=================================================================\n",
            "dense_42 (Dense)             (None, 512)               401920    \n",
            "_________________________________________________________________\n",
            "dropout_8 (Dropout)          (None, 512)               0         \n",
            "_________________________________________________________________\n",
            "dense_43 (Dense)             (None, 10)                5130      \n",
            "=================================================================\n",
            "Total params: 407,050\n",
            "Trainable params: 407,050\n",
            "Non-trainable params: 0\n",
            "_________________________________________________________________\n"
          ],
          "name": "stdout"
        }
      ]
    },
    {
      "cell_type": "code",
      "metadata": {
        "id": "dpt291w0o46m",
        "colab_type": "code",
        "colab": {
          "base_uri": "https://localhost:8080/",
          "height": 751
        },
        "outputId": "156fe985-f545-4a6e-a95d-da969a73c8db"
      },
      "source": [
        "checkpoint_path = \"training_1/cp.ckpt\"\n",
        "checkpoint_dir = os.path.dirname(checkpoint_path)\n",
        "\n",
        "cp_callback = tf.keras.callbacks.ModelCheckpoint(checkpoint_path, \n",
        "                                                 save_weights_only=True,\n",
        "                                                 verbose=1)\n",
        "\n",
        "model = create_model()\n",
        "\n",
        "model.fit(train_images, train_labels,  epochs = 10,\n",
        "          validation_data = (test_images,test_labels),\n",
        "          callbacks = [cp_callback])  "
      ],
      "execution_count": 173,
      "outputs": [
        {
          "output_type": "stream",
          "text": [
            "Train on 1000 samples, validate on 1000 samples\n",
            "Epoch 1/10\n",
            " 800/1000 [=======================>......] - ETA: 0s - loss: 1.2594 - accuracy: 0.6500\n",
            "Epoch 00001: saving model to training_1/cp.ckpt\n",
            "1000/1000 [==============================] - 1s 543us/sample - loss: 1.1488 - accuracy: 0.6800 - val_loss: 0.6944 - val_accuracy: 0.8040\n",
            "Epoch 2/10\n",
            " 864/1000 [========================>.....] - ETA: 0s - loss: 0.4401 - accuracy: 0.8819\n",
            "Epoch 00002: saving model to training_1/cp.ckpt\n",
            "1000/1000 [==============================] - 0s 220us/sample - loss: 0.4229 - accuracy: 0.8890 - val_loss: 0.5499 - val_accuracy: 0.8290\n",
            "Epoch 3/10\n",
            " 864/1000 [========================>.....] - ETA: 0s - loss: 0.2771 - accuracy: 0.9282\n",
            "Epoch 00003: saving model to training_1/cp.ckpt\n",
            "1000/1000 [==============================] - 0s 220us/sample - loss: 0.2848 - accuracy: 0.9240 - val_loss: 0.5157 - val_accuracy: 0.8340\n",
            "Epoch 4/10\n",
            " 864/1000 [========================>.....] - ETA: 0s - loss: 0.2089 - accuracy: 0.9514\n",
            "Epoch 00004: saving model to training_1/cp.ckpt\n",
            "1000/1000 [==============================] - 0s 226us/sample - loss: 0.2132 - accuracy: 0.9460 - val_loss: 0.4631 - val_accuracy: 0.8540\n",
            "Epoch 5/10\n",
            " 864/1000 [========================>.....] - ETA: 0s - loss: 0.1641 - accuracy: 0.9606\n",
            "Epoch 00005: saving model to training_1/cp.ckpt\n",
            "1000/1000 [==============================] - 0s 229us/sample - loss: 0.1638 - accuracy: 0.9600 - val_loss: 0.4189 - val_accuracy: 0.8600\n",
            "Epoch 6/10\n",
            " 768/1000 [======================>.......] - ETA: 0s - loss: 0.1082 - accuracy: 0.9831\n",
            "Epoch 00006: saving model to training_1/cp.ckpt\n",
            "1000/1000 [==============================] - 0s 235us/sample - loss: 0.1151 - accuracy: 0.9780 - val_loss: 0.4142 - val_accuracy: 0.8620\n",
            "Epoch 7/10\n",
            " 896/1000 [=========================>....] - ETA: 0s - loss: 0.0820 - accuracy: 0.9855\n",
            "Epoch 00007: saving model to training_1/cp.ckpt\n",
            "1000/1000 [==============================] - 0s 220us/sample - loss: 0.0860 - accuracy: 0.9840 - val_loss: 0.4138 - val_accuracy: 0.8610\n",
            "Epoch 8/10\n",
            " 832/1000 [=======================>......] - ETA: 0s - loss: 0.0645 - accuracy: 0.9952\n",
            "Epoch 00008: saving model to training_1/cp.ckpt\n",
            "1000/1000 [==============================] - 0s 221us/sample - loss: 0.0636 - accuracy: 0.9950 - val_loss: 0.4003 - val_accuracy: 0.8750\n",
            "Epoch 9/10\n",
            " 864/1000 [========================>.....] - ETA: 0s - loss: 0.0539 - accuracy: 0.9942\n",
            "Epoch 00009: saving model to training_1/cp.ckpt\n",
            "1000/1000 [==============================] - 0s 226us/sample - loss: 0.0535 - accuracy: 0.9940 - val_loss: 0.4172 - val_accuracy: 0.8640\n",
            "Epoch 10/10\n",
            " 864/1000 [========================>.....] - ETA: 0s - loss: 0.0460 - accuracy: 0.9977\n",
            "Epoch 00010: saving model to training_1/cp.ckpt\n",
            "1000/1000 [==============================] - 0s 234us/sample - loss: 0.0454 - accuracy: 0.9980 - val_loss: 0.4053 - val_accuracy: 0.8750\n"
          ],
          "name": "stdout"
        },
        {
          "output_type": "execute_result",
          "data": {
            "text/plain": [
              "<tensorflow.python.keras.callbacks.History at 0x7f7300c16eb8>"
            ]
          },
          "metadata": {
            "tags": []
          },
          "execution_count": 173
        }
      ]
    },
    {
      "cell_type": "code",
      "metadata": {
        "id": "UA_mRyzspDNO",
        "colab_type": "code",
        "colab": {
          "base_uri": "https://localhost:8080/",
          "height": 34
        },
        "outputId": "5487e9fd-08b2-4923-aac7-833656c9fa9b"
      },
      "source": [
        "!ls {checkpoint_dir}"
      ],
      "execution_count": 174,
      "outputs": [
        {
          "output_type": "stream",
          "text": [
            "checkpoint  cp.ckpt.data-00000-of-00001  cp.ckpt.index\n"
          ],
          "name": "stdout"
        }
      ]
    },
    {
      "cell_type": "code",
      "metadata": {
        "id": "EVSqczIRpMkU",
        "colab_type": "code",
        "colab": {
          "base_uri": "https://localhost:8080/",
          "height": 51
        },
        "outputId": "1b9f26db-70fc-4b05-b58a-544d0343c87d"
      },
      "source": [
        "model = create_model()\n",
        "\n",
        "loss, acc = model.evaluate(test_images,  test_labels, verbose=2)\n",
        "print(\"훈련되지 않은 모델의 정확도: {:5.2f}%\".format(100*acc))"
      ],
      "execution_count": 175,
      "outputs": [
        {
          "output_type": "stream",
          "text": [
            "1000/1 - 0s - loss: 2.4042 - accuracy: 0.1120\n",
            "훈련되지 않은 모델의 정확도: 11.20%\n"
          ],
          "name": "stdout"
        }
      ]
    },
    {
      "cell_type": "code",
      "metadata": {
        "id": "_bkFHnHDpNgc",
        "colab_type": "code",
        "colab": {
          "base_uri": "https://localhost:8080/",
          "height": 51
        },
        "outputId": "9df0c694-9c5b-4569-f197-94fca720346e"
      },
      "source": [
        "model.load_weights(checkpoint_path)\n",
        "loss,acc = model.evaluate(test_images,  test_labels, verbose=2)\n",
        "print(\"복원된 모델의 정확도: {:5.2f}%\".format(100*acc))"
      ],
      "execution_count": 176,
      "outputs": [
        {
          "output_type": "stream",
          "text": [
            "1000/1 - 0s - loss: 0.4659 - accuracy: 0.8750\n",
            "복원된 모델의 정확도: 87.50%\n"
          ],
          "name": "stdout"
        }
      ]
    },
    {
      "cell_type": "code",
      "metadata": {
        "id": "fePLj0HEpOOq",
        "colab_type": "code",
        "colab": {
          "base_uri": "https://localhost:8080/",
          "height": 513
        },
        "outputId": "b45e0e43-a04b-4047-fa4b-31cb98335ace"
      },
      "source": [
        "checkpoint_path = \"training_2/cp-{epoch:04d}.ckpt\"\n",
        "checkpoint_dir = os.path.dirname(checkpoint_path)\n",
        "\n",
        "cp_callback = tf.keras.callbacks.ModelCheckpoint(\n",
        "    checkpoint_path, verbose=1, save_weights_only=True, period=5)\n",
        "\n",
        "model = create_model()\n",
        "model.save_weights(checkpoint_path.format(epoch=0))\n",
        "model.fit(train_images, train_labels,\n",
        "          epochs = 50, callbacks = [cp_callback],\n",
        "          validation_data = (test_images,test_labels),\n",
        "          verbose=0)"
      ],
      "execution_count": 177,
      "outputs": [
        {
          "output_type": "stream",
          "text": [
            "WARNING:tensorflow:`period` argument is deprecated. Please use `save_freq` to specify the frequency in number of samples seen.\n",
            "WARNING:tensorflow:Unresolved object in checkpoint: (root).optimizer.iter\n",
            "WARNING:tensorflow:Unresolved object in checkpoint: (root).optimizer.beta_1\n",
            "WARNING:tensorflow:Unresolved object in checkpoint: (root).optimizer.beta_2\n",
            "WARNING:tensorflow:Unresolved object in checkpoint: (root).optimizer.decay\n",
            "WARNING:tensorflow:Unresolved object in checkpoint: (root).optimizer.learning_rate\n",
            "WARNING:tensorflow:A checkpoint was restored (e.g. tf.train.Checkpoint.restore or tf.keras.Model.load_weights) but not all checkpointed values were used. See above for specific issues. Use expect_partial() on the load status object, e.g. tf.train.Checkpoint.restore(...).expect_partial(), to silence these warnings, or use assert_consumed() to make the check explicit. See https://www.tensorflow.org/alpha/guide/checkpoints#loading_mechanics for details.\n",
            "\n",
            "Epoch 00005: saving model to training_2/cp-0005.ckpt\n",
            "\n",
            "Epoch 00010: saving model to training_2/cp-0010.ckpt\n",
            "\n",
            "Epoch 00015: saving model to training_2/cp-0015.ckpt\n",
            "\n",
            "Epoch 00020: saving model to training_2/cp-0020.ckpt\n",
            "\n",
            "Epoch 00025: saving model to training_2/cp-0025.ckpt\n",
            "\n",
            "Epoch 00030: saving model to training_2/cp-0030.ckpt\n",
            "\n",
            "Epoch 00035: saving model to training_2/cp-0035.ckpt\n",
            "\n",
            "Epoch 00040: saving model to training_2/cp-0040.ckpt\n",
            "\n",
            "Epoch 00045: saving model to training_2/cp-0045.ckpt\n",
            "\n",
            "Epoch 00050: saving model to training_2/cp-0050.ckpt\n"
          ],
          "name": "stdout"
        },
        {
          "output_type": "execute_result",
          "data": {
            "text/plain": [
              "<tensorflow.python.keras.callbacks.History at 0x7f7302d15438>"
            ]
          },
          "metadata": {
            "tags": []
          },
          "execution_count": 177
        }
      ]
    },
    {
      "cell_type": "code",
      "metadata": {
        "id": "CGIfdwnOpcM5",
        "colab_type": "code",
        "colab": {
          "base_uri": "https://localhost:8080/",
          "height": 221
        },
        "outputId": "032a5db3-2089-4ec3-ecec-a66a43100ca1"
      },
      "source": [
        "! ls {checkpoint_dir}"
      ],
      "execution_count": 178,
      "outputs": [
        {
          "output_type": "stream",
          "text": [
            "checkpoint\t\t\t  cp-0025.ckpt.index\n",
            "cp-0000.ckpt.data-00000-of-00001  cp-0030.ckpt.data-00000-of-00001\n",
            "cp-0000.ckpt.index\t\t  cp-0030.ckpt.index\n",
            "cp-0005.ckpt.data-00000-of-00001  cp-0035.ckpt.data-00000-of-00001\n",
            "cp-0005.ckpt.index\t\t  cp-0035.ckpt.index\n",
            "cp-0010.ckpt.data-00000-of-00001  cp-0040.ckpt.data-00000-of-00001\n",
            "cp-0010.ckpt.index\t\t  cp-0040.ckpt.index\n",
            "cp-0015.ckpt.data-00000-of-00001  cp-0045.ckpt.data-00000-of-00001\n",
            "cp-0015.ckpt.index\t\t  cp-0045.ckpt.index\n",
            "cp-0020.ckpt.data-00000-of-00001  cp-0050.ckpt.data-00000-of-00001\n",
            "cp-0020.ckpt.index\t\t  cp-0050.ckpt.index\n",
            "cp-0025.ckpt.data-00000-of-00001\n"
          ],
          "name": "stdout"
        }
      ]
    },
    {
      "cell_type": "code",
      "metadata": {
        "id": "PHYwveDcpjS9",
        "colab_type": "code",
        "colab": {
          "base_uri": "https://localhost:8080/",
          "height": 34
        },
        "outputId": "86928d47-ad50-45b2-8a0b-ddbceeffe530"
      },
      "source": [
        "latest = tf.train.latest_checkpoint(checkpoint_dir)\n",
        "latest"
      ],
      "execution_count": 179,
      "outputs": [
        {
          "output_type": "execute_result",
          "data": {
            "text/plain": [
              "'training_2/cp-0050.ckpt'"
            ]
          },
          "metadata": {
            "tags": []
          },
          "execution_count": 179
        }
      ]
    },
    {
      "cell_type": "code",
      "metadata": {
        "id": "t3ERuE-ypklP",
        "colab_type": "code",
        "colab": {
          "base_uri": "https://localhost:8080/",
          "height": 51
        },
        "outputId": "0f8981bc-ea11-4cb0-fc42-243fa0448db0"
      },
      "source": [
        "model = create_model()\n",
        "model.load_weights(latest)\n",
        "loss, acc = model.evaluate(test_images,  test_labels, verbose=2)\n",
        "print(\"복원된 모델의 정확도: {:5.2f}%\".format(100*acc))"
      ],
      "execution_count": 180,
      "outputs": [
        {
          "output_type": "stream",
          "text": [
            "1000/1 - 0s - loss: 0.4718 - accuracy: 0.8760\n",
            "복원된 모델의 정확도: 87.60%\n"
          ],
          "name": "stdout"
        }
      ]
    },
    {
      "cell_type": "code",
      "metadata": {
        "id": "o-pe823XplbM",
        "colab_type": "code",
        "colab": {
          "base_uri": "https://localhost:8080/",
          "height": 51
        },
        "outputId": "c03c0a32-3c28-48d1-cdf7-39f44ffb0a6c"
      },
      "source": [
        "model.save_weights('./checkpoints/my_checkpoint')\n",
        "\n",
        "model = create_model()\n",
        "model.load_weights('./checkpoints/my_checkpoint')\n",
        "\n",
        "loss,acc = model.evaluate(test_images,  test_labels, verbose=2)\n",
        "print(\"복원된 모델의 정확도: {:5.2f}%\".format(100*acc))"
      ],
      "execution_count": 181,
      "outputs": [
        {
          "output_type": "stream",
          "text": [
            "1000/1 - 0s - loss: 0.4718 - accuracy: 0.8760\n",
            "복원된 모델의 정확도: 87.60%\n"
          ],
          "name": "stdout"
        }
      ]
    },
    {
      "cell_type": "code",
      "metadata": {
        "id": "V4UfNHKrpmsY",
        "colab_type": "code",
        "colab": {
          "base_uri": "https://localhost:8080/",
          "height": 476
        },
        "outputId": "b3ef6695-d318-4166-f7d9-74704bdabe80"
      },
      "source": [
        "model = create_model()\n",
        "\n",
        "model.fit(train_images, train_labels, epochs=5)\n",
        "\n",
        "model.save('my_model.h5')\n",
        "\n",
        "new_model = keras.models.load_model('my_model.h5')\n",
        "new_model.summary()\n",
        "\n",
        "loss, acc = new_model.evaluate(test_images,  test_labels, verbose=2)\n",
        "print(\"복원된 모델의 정확도: {:5.2f}%\".format(100*acc))"
      ],
      "execution_count": 182,
      "outputs": [
        {
          "output_type": "stream",
          "text": [
            "Train on 1000 samples\n",
            "Epoch 1/5\n",
            "1000/1000 [==============================] - 0s 348us/sample - loss: 1.1862 - accuracy: 0.6580\n",
            "Epoch 2/5\n",
            "1000/1000 [==============================] - 0s 123us/sample - loss: 0.4420 - accuracy: 0.8800\n",
            "Epoch 3/5\n",
            "1000/1000 [==============================] - 0s 127us/sample - loss: 0.2819 - accuracy: 0.9250\n",
            "Epoch 4/5\n",
            "1000/1000 [==============================] - 0s 134us/sample - loss: 0.2255 - accuracy: 0.9470\n",
            "Epoch 5/5\n",
            "1000/1000 [==============================] - 0s 130us/sample - loss: 0.1546 - accuracy: 0.9650\n",
            "Model: \"sequential_20\"\n",
            "_________________________________________________________________\n",
            "Layer (type)                 Output Shape              Param #   \n",
            "=================================================================\n",
            "dense_54 (Dense)             (None, 512)               401920    \n",
            "_________________________________________________________________\n",
            "dropout_14 (Dropout)         (None, 512)               0         \n",
            "_________________________________________________________________\n",
            "dense_55 (Dense)             (None, 10)                5130      \n",
            "=================================================================\n",
            "Total params: 407,050\n",
            "Trainable params: 407,050\n",
            "Non-trainable params: 0\n",
            "_________________________________________________________________\n",
            "1000/1 - 0s - loss: 0.6604 - accuracy: 0.8600\n",
            "복원된 모델의 정확도: 86.00%\n"
          ],
          "name": "stdout"
        }
      ]
    },
    {
      "cell_type": "code",
      "metadata": {
        "id": "52s7R3Z7p6P_",
        "colab_type": "code",
        "colab": {
          "base_uri": "https://localhost:8080/",
          "height": 221
        },
        "outputId": "85671016-3c82-458e-cd15-8c864b6b2f85"
      },
      "source": [
        "model = create_model()\n",
        "\n",
        "model.fit(train_images, train_labels, epochs=5)"
      ],
      "execution_count": 183,
      "outputs": [
        {
          "output_type": "stream",
          "text": [
            "Train on 1000 samples\n",
            "Epoch 1/5\n",
            "1000/1000 [==============================] - 0s 350us/sample - loss: 1.1998 - accuracy: 0.6520\n",
            "Epoch 2/5\n",
            "1000/1000 [==============================] - 0s 140us/sample - loss: 0.4452 - accuracy: 0.8690\n",
            "Epoch 3/5\n",
            "1000/1000 [==============================] - 0s 130us/sample - loss: 0.3063 - accuracy: 0.9200\n",
            "Epoch 4/5\n",
            "1000/1000 [==============================] - 0s 123us/sample - loss: 0.2162 - accuracy: 0.9440\n",
            "Epoch 5/5\n",
            "1000/1000 [==============================] - 0s 121us/sample - loss: 0.1576 - accuracy: 0.9660\n"
          ],
          "name": "stdout"
        },
        {
          "output_type": "execute_result",
          "data": {
            "text/plain": [
              "<tensorflow.python.keras.callbacks.History at 0x7f7302984908>"
            ]
          },
          "metadata": {
            "tags": []
          },
          "execution_count": 183
        }
      ]
    },
    {
      "cell_type": "code",
      "metadata": {
        "id": "nSwYydJLp8Tc",
        "colab_type": "code",
        "colab": {
          "base_uri": "https://localhost:8080/",
          "height": 615
        },
        "outputId": "f48d38fd-89c6-46bd-f2b8-c967130596e1"
      },
      "source": [
        "import time\n",
        "saved_model_path = \"./saved_models/{}\".format(int(time.time()))\n",
        "\n",
        "tf.keras.experimental.export_saved_model(model, saved_model_path)\n",
        "saved_model_path"
      ],
      "execution_count": 184,
      "outputs": [
        {
          "output_type": "stream",
          "text": [
            "WARNING:tensorflow:From <ipython-input-184-9d5aff309515>:4: export_saved_model (from tensorflow.python.keras.saving.saved_model_experimental) is deprecated and will be removed in a future version.\n",
            "Instructions for updating:\n",
            "Please use `model.save(..., save_format=\"tf\")` or `tf.keras.models.save_model(..., save_format=\"tf\")`.\n",
            "WARNING:tensorflow:From /usr/local/lib/python3.6/dist-packages/tensorflow_core/python/ops/resource_variable_ops.py:1630: calling BaseResourceVariable.__init__ (from tensorflow.python.ops.resource_variable_ops) with constraint is deprecated and will be removed in a future version.\n",
            "Instructions for updating:\n",
            "If using Keras pass *_constraint arguments to layers.\n",
            "WARNING:tensorflow:From /usr/local/lib/python3.6/dist-packages/tensorflow_core/python/saved_model/signature_def_utils_impl.py:253: build_tensor_info (from tensorflow.python.saved_model.utils_impl) is deprecated and will be removed in a future version.\n",
            "Instructions for updating:\n",
            "This function will only be available through the v1 compatibility library as tf.compat.v1.saved_model.utils.build_tensor_info or tf.compat.v1.saved_model.build_tensor_info.\n",
            "INFO:tensorflow:Signatures INCLUDED in export for Classify: None\n",
            "INFO:tensorflow:Signatures INCLUDED in export for Regress: None\n",
            "INFO:tensorflow:Signatures INCLUDED in export for Predict: None\n",
            "INFO:tensorflow:Signatures INCLUDED in export for Train: ['train']\n",
            "INFO:tensorflow:Signatures INCLUDED in export for Eval: None\n",
            "WARNING:tensorflow:Export includes no default signature!\n",
            "INFO:tensorflow:No assets to save.\n",
            "INFO:tensorflow:No assets to write.\n",
            "INFO:tensorflow:Signatures INCLUDED in export for Classify: None\n",
            "INFO:tensorflow:Signatures INCLUDED in export for Regress: None\n",
            "INFO:tensorflow:Signatures INCLUDED in export for Predict: None\n",
            "INFO:tensorflow:Signatures INCLUDED in export for Train: None\n",
            "INFO:tensorflow:Signatures INCLUDED in export for Eval: ['eval']\n",
            "WARNING:tensorflow:Export includes no default signature!\n",
            "INFO:tensorflow:No assets to save.\n",
            "INFO:tensorflow:No assets to write.\n",
            "INFO:tensorflow:Signatures INCLUDED in export for Classify: None\n",
            "INFO:tensorflow:Signatures INCLUDED in export for Regress: None\n",
            "INFO:tensorflow:Signatures INCLUDED in export for Predict: ['serving_default']\n",
            "INFO:tensorflow:Signatures INCLUDED in export for Train: None\n",
            "INFO:tensorflow:Signatures INCLUDED in export for Eval: None\n",
            "INFO:tensorflow:No assets to save.\n",
            "INFO:tensorflow:No assets to write.\n",
            "INFO:tensorflow:SavedModel written to: ./saved_models/1576331104/saved_model.pb\n"
          ],
          "name": "stdout"
        },
        {
          "output_type": "execute_result",
          "data": {
            "text/plain": [
              "'./saved_models/1576331104'"
            ]
          },
          "metadata": {
            "tags": []
          },
          "execution_count": 184
        }
      ]
    },
    {
      "cell_type": "code",
      "metadata": {
        "id": "QXk0ZbdNp9Ep",
        "colab_type": "code",
        "colab": {
          "base_uri": "https://localhost:8080/",
          "height": 34
        },
        "outputId": "9dff2789-6322-4f7a-abd8-9437f8a31063"
      },
      "source": [
        "!ls saved_models/"
      ],
      "execution_count": 185,
      "outputs": [
        {
          "output_type": "stream",
          "text": [
            "1576331104\n"
          ],
          "name": "stdout"
        }
      ]
    },
    {
      "cell_type": "code",
      "metadata": {
        "id": "Ob8rxGR1p-RU",
        "colab_type": "code",
        "colab": {
          "base_uri": "https://localhost:8080/",
          "height": 326
        },
        "outputId": "a902408a-ff40-4b89-b663-55efb39e43db"
      },
      "source": [
        "new_model = tf.keras.experimental.load_from_saved_model(saved_model_path)\n",
        "new_model.summary()"
      ],
      "execution_count": 186,
      "outputs": [
        {
          "output_type": "stream",
          "text": [
            "WARNING:tensorflow:From <ipython-input-186-74d99c8332aa>:1: load_from_saved_model (from tensorflow.python.keras.saving.saved_model_experimental) is deprecated and will be removed in a future version.\n",
            "Instructions for updating:\n",
            "The experimental save and load functions have been  deprecated. Please switch to `tf.keras.models.load_model`.\n",
            "Model: \"sequential_21\"\n",
            "_________________________________________________________________\n",
            "Layer (type)                 Output Shape              Param #   \n",
            "=================================================================\n",
            "dense_56 (Dense)             (None, 512)               401920    \n",
            "_________________________________________________________________\n",
            "dropout_15 (Dropout)         (None, 512)               0         \n",
            "_________________________________________________________________\n",
            "dense_57 (Dense)             (None, 10)                5130      \n",
            "=================================================================\n",
            "Total params: 407,050\n",
            "Trainable params: 407,050\n",
            "Non-trainable params: 0\n",
            "_________________________________________________________________\n"
          ],
          "name": "stdout"
        }
      ]
    },
    {
      "cell_type": "code",
      "metadata": {
        "id": "3wjHoMqOp_Cj",
        "colab_type": "code",
        "colab": {
          "base_uri": "https://localhost:8080/",
          "height": 34
        },
        "outputId": "89b63e28-70a2-43b3-fb33-e1c39c40044f"
      },
      "source": [
        "model.predict(test_images).shape"
      ],
      "execution_count": 187,
      "outputs": [
        {
          "output_type": "execute_result",
          "data": {
            "text/plain": [
              "(1000, 10)"
            ]
          },
          "metadata": {
            "tags": []
          },
          "execution_count": 187
        }
      ]
    },
    {
      "cell_type": "code",
      "metadata": {
        "id": "3JBYhItBp_vt",
        "colab_type": "code",
        "colab": {
          "base_uri": "https://localhost:8080/",
          "height": 326
        },
        "outputId": "d098a34f-808c-4288-aad8-f3b540612ae9"
      },
      "source": [
        "new_model.compile(optimizer=model.optimizer, \n",
        "                  loss='sparse_categorical_crossentropy',\n",
        "                  metrics=['accuracy'])\n",
        "\n",
        "loss, acc = new_model.evaluate(test_images,  test_labels, verbose=2)\n",
        "print(\"복원된 모델의 정확도: {:5.2f}%\".format(100*acc))"
      ],
      "execution_count": 188,
      "outputs": [
        {
          "output_type": "stream",
          "text": [
            "WARNING:tensorflow:Unresolved object in checkpoint: (root).optimizer\n",
            "WARNING:tensorflow:Unresolved object in checkpoint: (root).optimizer.iter\n",
            "WARNING:tensorflow:Unresolved object in checkpoint: (root).optimizer.beta_1\n",
            "WARNING:tensorflow:Unresolved object in checkpoint: (root).optimizer.beta_2\n",
            "WARNING:tensorflow:Unresolved object in checkpoint: (root).optimizer.decay\n",
            "WARNING:tensorflow:Unresolved object in checkpoint: (root).optimizer.learning_rate\n",
            "WARNING:tensorflow:Unresolved object in checkpoint: (root).optimizer's state 'm' for (root).layer_with_weights-0.kernel\n",
            "WARNING:tensorflow:Unresolved object in checkpoint: (root).optimizer's state 'm' for (root).layer_with_weights-0.bias\n",
            "WARNING:tensorflow:Unresolved object in checkpoint: (root).optimizer's state 'm' for (root).layer_with_weights-1.kernel\n",
            "WARNING:tensorflow:Unresolved object in checkpoint: (root).optimizer's state 'm' for (root).layer_with_weights-1.bias\n",
            "WARNING:tensorflow:Unresolved object in checkpoint: (root).optimizer's state 'v' for (root).layer_with_weights-0.kernel\n",
            "WARNING:tensorflow:Unresolved object in checkpoint: (root).optimizer's state 'v' for (root).layer_with_weights-0.bias\n",
            "WARNING:tensorflow:Unresolved object in checkpoint: (root).optimizer's state 'v' for (root).layer_with_weights-1.kernel\n",
            "WARNING:tensorflow:Unresolved object in checkpoint: (root).optimizer's state 'v' for (root).layer_with_weights-1.bias\n",
            "WARNING:tensorflow:A checkpoint was restored (e.g. tf.train.Checkpoint.restore or tf.keras.Model.load_weights) but not all checkpointed values were used. See above for specific issues. Use expect_partial() on the load status object, e.g. tf.train.Checkpoint.restore(...).expect_partial(), to silence these warnings, or use assert_consumed() to make the check explicit. See https://www.tensorflow.org/alpha/guide/checkpoints#loading_mechanics for details.\n",
            "1000/1 - 0s - loss: 0.4522 - accuracy: 0.8640\n",
            "복원된 모델의 정확도: 86.40%\n"
          ],
          "name": "stdout"
        }
      ]
    },
    {
      "cell_type": "code",
      "metadata": {
        "id": "SP5acZCNqCJW",
        "colab_type": "code",
        "colab": {}
      },
      "source": [
        "# 2번째"
      ],
      "execution_count": 0,
      "outputs": []
    },
    {
      "cell_type": "code",
      "metadata": {
        "id": "R6G9srUUqHv2",
        "colab_type": "code",
        "colab": {
          "base_uri": "https://localhost:8080/",
          "height": 751
        },
        "outputId": "3fe64f6e-b056-444a-8b0f-3e793efdebb4"
      },
      "source": [
        "checkpoint_path = \"training_1/cp.ckpt\"\n",
        "checkpoint_dir = os.path.dirname(checkpoint_path)\n",
        "\n",
        "cp_callback = tf.keras.callbacks.ModelCheckpoint(checkpoint_path, \n",
        "                                                 save_weights_only=True,\n",
        "                                                 verbose=1)\n",
        "\n",
        "model = create_model()\n",
        "\n",
        "model.fit(train_images, train_labels,  epochs = 10,\n",
        "          validation_data = (test_images,test_labels),\n",
        "          callbacks = [cp_callback])  "
      ],
      "execution_count": 190,
      "outputs": [
        {
          "output_type": "stream",
          "text": [
            "Train on 1000 samples, validate on 1000 samples\n",
            "Epoch 1/10\n",
            " 768/1000 [======================>.......] - ETA: 0s - loss: 1.2985 - accuracy: 0.6380\n",
            "Epoch 00001: saving model to training_1/cp.ckpt\n",
            "1000/1000 [==============================] - 1s 507us/sample - loss: 1.1539 - accuracy: 0.6800 - val_loss: 0.6896 - val_accuracy: 0.7890\n",
            "Epoch 2/10\n",
            " 768/1000 [======================>.......] - ETA: 0s - loss: 0.4225 - accuracy: 0.8815\n",
            "Epoch 00002: saving model to training_1/cp.ckpt\n",
            "1000/1000 [==============================] - 0s 248us/sample - loss: 0.4236 - accuracy: 0.8810 - val_loss: 0.5140 - val_accuracy: 0.8410\n",
            "Epoch 3/10\n",
            " 800/1000 [=======================>......] - ETA: 0s - loss: 0.2733 - accuracy: 0.9312\n",
            "Epoch 00003: saving model to training_1/cp.ckpt\n",
            "1000/1000 [==============================] - 0s 236us/sample - loss: 0.2746 - accuracy: 0.9270 - val_loss: 0.4948 - val_accuracy: 0.8470\n",
            "Epoch 4/10\n",
            " 800/1000 [=======================>......] - ETA: 0s - loss: 0.2145 - accuracy: 0.9450\n",
            "Epoch 00004: saving model to training_1/cp.ckpt\n",
            "1000/1000 [==============================] - 0s 231us/sample - loss: 0.2012 - accuracy: 0.9500 - val_loss: 0.4362 - val_accuracy: 0.8560\n",
            "Epoch 5/10\n",
            " 800/1000 [=======================>......] - ETA: 0s - loss: 0.1532 - accuracy: 0.9712\n",
            "Epoch 00005: saving model to training_1/cp.ckpt\n",
            "1000/1000 [==============================] - 0s 241us/sample - loss: 0.1522 - accuracy: 0.9710 - val_loss: 0.4242 - val_accuracy: 0.8640\n",
            "Epoch 6/10\n",
            " 800/1000 [=======================>......] - ETA: 0s - loss: 0.1145 - accuracy: 0.9812\n",
            "Epoch 00006: saving model to training_1/cp.ckpt\n",
            "1000/1000 [==============================] - 0s 252us/sample - loss: 0.1124 - accuracy: 0.9840 - val_loss: 0.3962 - val_accuracy: 0.8660\n",
            "Epoch 7/10\n",
            " 768/1000 [======================>.......] - ETA: 0s - loss: 0.0795 - accuracy: 0.9909\n",
            "Epoch 00007: saving model to training_1/cp.ckpt\n",
            "1000/1000 [==============================] - 0s 244us/sample - loss: 0.0767 - accuracy: 0.9910 - val_loss: 0.4024 - val_accuracy: 0.8670\n",
            "Epoch 8/10\n",
            " 768/1000 [======================>.......] - ETA: 0s - loss: 0.0691 - accuracy: 0.9896\n",
            "Epoch 00008: saving model to training_1/cp.ckpt\n",
            "1000/1000 [==============================] - 0s 244us/sample - loss: 0.0655 - accuracy: 0.9910 - val_loss: 0.4105 - val_accuracy: 0.8590\n",
            "Epoch 9/10\n",
            " 800/1000 [=======================>......] - ETA: 0s - loss: 0.0478 - accuracy: 0.9962\n",
            "Epoch 00009: saving model to training_1/cp.ckpt\n",
            "1000/1000 [==============================] - 0s 249us/sample - loss: 0.0491 - accuracy: 0.9960 - val_loss: 0.3958 - val_accuracy: 0.8770\n",
            "Epoch 10/10\n",
            " 992/1000 [============================>.] - ETA: 0s - loss: 0.0425 - accuracy: 0.9970\n",
            "Epoch 00010: saving model to training_1/cp.ckpt\n",
            "1000/1000 [==============================] - 0s 280us/sample - loss: 0.0423 - accuracy: 0.9970 - val_loss: 0.4049 - val_accuracy: 0.8730\n"
          ],
          "name": "stdout"
        },
        {
          "output_type": "execute_result",
          "data": {
            "text/plain": [
              "<tensorflow.python.keras.callbacks.History at 0x7f72ffab7ef0>"
            ]
          },
          "metadata": {
            "tags": []
          },
          "execution_count": 190
        }
      ]
    },
    {
      "cell_type": "code",
      "metadata": {
        "id": "KwfchXwZqNnN",
        "colab_type": "code",
        "colab": {
          "base_uri": "https://localhost:8080/",
          "height": 51
        },
        "outputId": "37275265-193d-4c52-9589-1836a768652d"
      },
      "source": [
        "model.load_weights(checkpoint_path)\n",
        "loss,acc = model.evaluate(test_images,  test_labels, verbose=2)\n",
        "print(\"복원된 모델의 정확도: {:5.2f}%\".format(100*acc))"
      ],
      "execution_count": 191,
      "outputs": [
        {
          "output_type": "stream",
          "text": [
            "1000/1 - 0s - loss: 0.3904 - accuracy: 0.8730\n",
            "복원된 모델의 정확도: 87.30%\n"
          ],
          "name": "stdout"
        }
      ]
    },
    {
      "cell_type": "code",
      "metadata": {
        "id": "vIiM63FFqSE3",
        "colab_type": "code",
        "colab": {
          "base_uri": "https://localhost:8080/",
          "height": 411
        },
        "outputId": "0a4de6a4-037b-4422-9265-fcb54ffebb81"
      },
      "source": [
        "checkpoint_path = \"training_2/cp-{epoch:04d}.ckpt\"\n",
        "checkpoint_dir = os.path.dirname(checkpoint_path)\n",
        "\n",
        "cp_callback = tf.keras.callbacks.ModelCheckpoint(\n",
        "    checkpoint_path, verbose=1, save_weights_only=True, period=5)\n",
        "\n",
        "model = create_model()\n",
        "model.save_weights(checkpoint_path.format(epoch=0))\n",
        "model.fit(train_images, train_labels,\n",
        "          epochs = 50, callbacks = [cp_callback],\n",
        "          validation_data = (test_images,test_labels),\n",
        "          verbose=0)"
      ],
      "execution_count": 192,
      "outputs": [
        {
          "output_type": "stream",
          "text": [
            "WARNING:tensorflow:`period` argument is deprecated. Please use `save_freq` to specify the frequency in number of samples seen.\n",
            "\n",
            "Epoch 00005: saving model to training_2/cp-0005.ckpt\n",
            "\n",
            "Epoch 00010: saving model to training_2/cp-0010.ckpt\n",
            "\n",
            "Epoch 00015: saving model to training_2/cp-0015.ckpt\n",
            "\n",
            "Epoch 00020: saving model to training_2/cp-0020.ckpt\n",
            "\n",
            "Epoch 00025: saving model to training_2/cp-0025.ckpt\n",
            "\n",
            "Epoch 00030: saving model to training_2/cp-0030.ckpt\n",
            "\n",
            "Epoch 00035: saving model to training_2/cp-0035.ckpt\n",
            "\n",
            "Epoch 00040: saving model to training_2/cp-0040.ckpt\n",
            "\n",
            "Epoch 00045: saving model to training_2/cp-0045.ckpt\n",
            "\n",
            "Epoch 00050: saving model to training_2/cp-0050.ckpt\n"
          ],
          "name": "stdout"
        },
        {
          "output_type": "execute_result",
          "data": {
            "text/plain": [
              "<tensorflow.python.keras.callbacks.History at 0x7f72ff959470>"
            ]
          },
          "metadata": {
            "tags": []
          },
          "execution_count": 192
        }
      ]
    },
    {
      "cell_type": "code",
      "metadata": {
        "id": "D9I2uqeRqVSC",
        "colab_type": "code",
        "colab": {
          "base_uri": "https://localhost:8080/",
          "height": 51
        },
        "outputId": "02dc7a3c-f73c-41a4-d729-8fe883482cfe"
      },
      "source": [
        "latest = tf.train.latest_checkpoint(checkpoint_dir)\n",
        "\n",
        "model = create_model()\n",
        "model.load_weights(latest)\n",
        "loss, acc = model.evaluate(test_images,  test_labels, verbose=2)\n",
        "print(\"복원된 모델의 정확도: {:5.2f}%\".format(100*acc))"
      ],
      "execution_count": 193,
      "outputs": [
        {
          "output_type": "stream",
          "text": [
            "1000/1 - 0s - loss: 0.5235 - accuracy: 0.8830\n",
            "복원된 모델의 정확도: 88.30%\n"
          ],
          "name": "stdout"
        }
      ]
    },
    {
      "cell_type": "code",
      "metadata": {
        "id": "FftPsdtUqaKA",
        "colab_type": "code",
        "colab": {
          "base_uri": "https://localhost:8080/",
          "height": 51
        },
        "outputId": "5a9a7b56-a4ca-4298-f638-cc1005eec260"
      },
      "source": [
        "model.save_weights('./checkpoints/my_checkpoint')\n",
        "\n",
        "model = create_model()\n",
        "model.load_weights('./checkpoints/my_checkpoint')\n",
        "\n",
        "loss,acc = model.evaluate(test_images,  test_labels, verbose=2)\n",
        "print(\"복원된 모델의 정확도: {:5.2f}%\".format(100*acc))"
      ],
      "execution_count": 194,
      "outputs": [
        {
          "output_type": "stream",
          "text": [
            "1000/1 - 0s - loss: 0.5235 - accuracy: 0.8830\n",
            "복원된 모델의 정확도: 88.30%\n"
          ],
          "name": "stdout"
        }
      ]
    },
    {
      "cell_type": "code",
      "metadata": {
        "id": "EbGbC2kUqcmz",
        "colab_type": "code",
        "colab": {
          "base_uri": "https://localhost:8080/",
          "height": 476
        },
        "outputId": "e5f46ebe-a906-4378-80f1-973558854db7"
      },
      "source": [
        "model = create_model()\n",
        "\n",
        "model.fit(train_images, train_labels, epochs=5)\n",
        "\n",
        "model.save('my_model.h5')\n",
        "\n",
        "new_model = keras.models.load_model('my_model.h5')\n",
        "new_model.summary()\n",
        "\n",
        "loss, acc = new_model.evaluate(test_images,  test_labels, verbose=2)\n",
        "print(\"복원된 모델의 정확도: {:5.2f}%\".format(100*acc))"
      ],
      "execution_count": 195,
      "outputs": [
        {
          "output_type": "stream",
          "text": [
            "Train on 1000 samples\n",
            "Epoch 1/5\n",
            "1000/1000 [==============================] - 0s 394us/sample - loss: 1.1475 - accuracy: 0.6620\n",
            "Epoch 2/5\n",
            "1000/1000 [==============================] - 0s 144us/sample - loss: 0.4242 - accuracy: 0.8740\n",
            "Epoch 3/5\n",
            "1000/1000 [==============================] - 0s 143us/sample - loss: 0.2901 - accuracy: 0.9260\n",
            "Epoch 4/5\n",
            "1000/1000 [==============================] - 0s 156us/sample - loss: 0.2131 - accuracy: 0.9440\n",
            "Epoch 5/5\n",
            "1000/1000 [==============================] - 0s 148us/sample - loss: 0.1485 - accuracy: 0.9700\n",
            "Model: \"sequential_26\"\n",
            "_________________________________________________________________\n",
            "Layer (type)                 Output Shape              Param #   \n",
            "=================================================================\n",
            "dense_66 (Dense)             (None, 512)               401920    \n",
            "_________________________________________________________________\n",
            "dropout_20 (Dropout)         (None, 512)               0         \n",
            "_________________________________________________________________\n",
            "dense_67 (Dense)             (None, 10)                5130      \n",
            "=================================================================\n",
            "Total params: 407,050\n",
            "Trainable params: 407,050\n",
            "Non-trainable params: 0\n",
            "_________________________________________________________________\n",
            "1000/1 - 0s - loss: 0.5137 - accuracy: 0.8550\n",
            "복원된 모델의 정확도: 85.50%\n"
          ],
          "name": "stdout"
        }
      ]
    },
    {
      "cell_type": "code",
      "metadata": {
        "id": "4sezWvokqeke",
        "colab_type": "code",
        "colab": {
          "base_uri": "https://localhost:8080/",
          "height": 221
        },
        "outputId": "738e5850-c4eb-4ba7-d512-62932716d795"
      },
      "source": [
        "model = create_model()\n",
        "\n",
        "model.fit(train_images, train_labels, epochs=5)"
      ],
      "execution_count": 196,
      "outputs": [
        {
          "output_type": "stream",
          "text": [
            "Train on 1000 samples\n",
            "Epoch 1/5\n",
            "1000/1000 [==============================] - 0s 347us/sample - loss: 1.1438 - accuracy: 0.6760\n",
            "Epoch 2/5\n",
            "1000/1000 [==============================] - 0s 139us/sample - loss: 0.4098 - accuracy: 0.8870\n",
            "Epoch 3/5\n",
            "1000/1000 [==============================] - 0s 136us/sample - loss: 0.2752 - accuracy: 0.9210\n",
            "Epoch 4/5\n",
            "1000/1000 [==============================] - 0s 134us/sample - loss: 0.2096 - accuracy: 0.9430\n",
            "Epoch 5/5\n",
            "1000/1000 [==============================] - 0s 141us/sample - loss: 0.1534 - accuracy: 0.9650\n"
          ],
          "name": "stdout"
        },
        {
          "output_type": "execute_result",
          "data": {
            "text/plain": [
              "<tensorflow.python.keras.callbacks.History at 0x7f72ece83a20>"
            ]
          },
          "metadata": {
            "tags": []
          },
          "execution_count": 196
        }
      ]
    },
    {
      "cell_type": "code",
      "metadata": {
        "id": "F0YoCgrbqg0R",
        "colab_type": "code",
        "colab": {
          "base_uri": "https://localhost:8080/",
          "height": 442
        },
        "outputId": "aabd1bea-8ecf-4f7c-a0e5-20927248a575"
      },
      "source": [
        "import time\n",
        "saved_model_path = \"./saved_models/{}\".format(int(time.time()))\n",
        "\n",
        "tf.keras.experimental.export_saved_model(model, saved_model_path)\n",
        "saved_model_path"
      ],
      "execution_count": 197,
      "outputs": [
        {
          "output_type": "stream",
          "text": [
            "INFO:tensorflow:Signatures INCLUDED in export for Classify: None\n",
            "INFO:tensorflow:Signatures INCLUDED in export for Regress: None\n",
            "INFO:tensorflow:Signatures INCLUDED in export for Predict: None\n",
            "INFO:tensorflow:Signatures INCLUDED in export for Train: ['train']\n",
            "INFO:tensorflow:Signatures INCLUDED in export for Eval: None\n",
            "WARNING:tensorflow:Export includes no default signature!\n",
            "INFO:tensorflow:No assets to save.\n",
            "INFO:tensorflow:No assets to write.\n",
            "INFO:tensorflow:Signatures INCLUDED in export for Classify: None\n",
            "INFO:tensorflow:Signatures INCLUDED in export for Regress: None\n",
            "INFO:tensorflow:Signatures INCLUDED in export for Predict: None\n",
            "INFO:tensorflow:Signatures INCLUDED in export for Train: None\n",
            "INFO:tensorflow:Signatures INCLUDED in export for Eval: ['eval']\n",
            "WARNING:tensorflow:Export includes no default signature!\n",
            "INFO:tensorflow:No assets to save.\n",
            "INFO:tensorflow:No assets to write.\n",
            "INFO:tensorflow:Signatures INCLUDED in export for Classify: None\n",
            "INFO:tensorflow:Signatures INCLUDED in export for Regress: None\n",
            "INFO:tensorflow:Signatures INCLUDED in export for Predict: ['serving_default']\n",
            "INFO:tensorflow:Signatures INCLUDED in export for Train: None\n",
            "INFO:tensorflow:Signatures INCLUDED in export for Eval: None\n",
            "INFO:tensorflow:No assets to save.\n",
            "INFO:tensorflow:No assets to write.\n",
            "INFO:tensorflow:SavedModel written to: ./saved_models/1576331258/saved_model.pb\n"
          ],
          "name": "stdout"
        },
        {
          "output_type": "execute_result",
          "data": {
            "text/plain": [
              "'./saved_models/1576331258'"
            ]
          },
          "metadata": {
            "tags": []
          },
          "execution_count": 197
        }
      ]
    },
    {
      "cell_type": "code",
      "metadata": {
        "id": "Hn1laT73qiql",
        "colab_type": "code",
        "colab": {
          "base_uri": "https://localhost:8080/",
          "height": 255
        },
        "outputId": "07dafc6b-e5b1-47a3-df19-0d58852eb64e"
      },
      "source": [
        "new_model = tf.keras.experimental.load_from_saved_model(saved_model_path)\n",
        "new_model.summary()"
      ],
      "execution_count": 198,
      "outputs": [
        {
          "output_type": "stream",
          "text": [
            "Model: \"sequential_27\"\n",
            "_________________________________________________________________\n",
            "Layer (type)                 Output Shape              Param #   \n",
            "=================================================================\n",
            "dense_68 (Dense)             (None, 512)               401920    \n",
            "_________________________________________________________________\n",
            "dropout_21 (Dropout)         (None, 512)               0         \n",
            "_________________________________________________________________\n",
            "dense_69 (Dense)             (None, 10)                5130      \n",
            "=================================================================\n",
            "Total params: 407,050\n",
            "Trainable params: 407,050\n",
            "Non-trainable params: 0\n",
            "_________________________________________________________________\n"
          ],
          "name": "stdout"
        }
      ]
    },
    {
      "cell_type": "code",
      "metadata": {
        "id": "htZjyl-hqlCH",
        "colab_type": "code",
        "colab": {
          "base_uri": "https://localhost:8080/",
          "height": 972
        },
        "outputId": "42711163-3432-49d4-eab6-4a8af885cebf"
      },
      "source": [
        "new_model.compile(optimizer=model.optimizer, \n",
        "                  loss='sparse_categorical_crossentropy',\n",
        "                  metrics=['accuracy'])\n",
        "\n",
        "loss, acc = new_model.evaluate(test_images,  test_labels, verbose=2)\n",
        "print(\"복원된 모델의 정확도: {:5.2f}%\".format(100*acc))"
      ],
      "execution_count": 199,
      "outputs": [
        {
          "output_type": "stream",
          "text": [
            "WARNING:tensorflow:Unresolved object in checkpoint: (root).optimizer.beta_1\n",
            "WARNING:tensorflow:Unresolved object in checkpoint: (root).optimizer.beta_2\n",
            "WARNING:tensorflow:Unresolved object in checkpoint: (root).optimizer.decay\n",
            "WARNING:tensorflow:Unresolved object in checkpoint: (root).optimizer.learning_rate\n",
            "WARNING:tensorflow:Unresolved object in checkpoint: (root).optimizer's state 'm' for (root).layer_with_weights-0.kernel\n",
            "WARNING:tensorflow:Unresolved object in checkpoint: (root).optimizer's state 'm' for (root).layer_with_weights-0.bias\n",
            "WARNING:tensorflow:Unresolved object in checkpoint: (root).optimizer's state 'm' for (root).layer_with_weights-1.kernel\n",
            "WARNING:tensorflow:Unresolved object in checkpoint: (root).optimizer's state 'm' for (root).layer_with_weights-1.bias\n",
            "WARNING:tensorflow:Unresolved object in checkpoint: (root).optimizer's state 'v' for (root).layer_with_weights-0.kernel\n",
            "WARNING:tensorflow:Unresolved object in checkpoint: (root).optimizer's state 'v' for (root).layer_with_weights-0.bias\n",
            "WARNING:tensorflow:Unresolved object in checkpoint: (root).optimizer's state 'v' for (root).layer_with_weights-1.kernel\n",
            "WARNING:tensorflow:Unresolved object in checkpoint: (root).optimizer's state 'v' for (root).layer_with_weights-1.bias\n",
            "WARNING:tensorflow:A checkpoint was restored (e.g. tf.train.Checkpoint.restore or tf.keras.Model.load_weights) but not all checkpointed values were used. See above for specific issues. Use expect_partial() on the load status object, e.g. tf.train.Checkpoint.restore(...).expect_partial(), to silence these warnings, or use assert_consumed() to make the check explicit. See https://www.tensorflow.org/alpha/guide/checkpoints#loading_mechanics for details.\n",
            "WARNING:tensorflow:Unresolved object in checkpoint: (root).optimizer\n",
            "WARNING:tensorflow:Unresolved object in checkpoint: (root).optimizer.iter\n",
            "WARNING:tensorflow:Unresolved object in checkpoint: (root).optimizer.beta_1\n",
            "WARNING:tensorflow:Unresolved object in checkpoint: (root).optimizer.beta_2\n",
            "WARNING:tensorflow:Unresolved object in checkpoint: (root).optimizer.decay\n",
            "WARNING:tensorflow:Unresolved object in checkpoint: (root).optimizer.learning_rate\n",
            "WARNING:tensorflow:Unresolved object in checkpoint: (root).optimizer's state 'm' for (root).layer_with_weights-0.kernel\n",
            "WARNING:tensorflow:Unresolved object in checkpoint: (root).optimizer's state 'm' for (root).layer_with_weights-0.bias\n",
            "WARNING:tensorflow:Unresolved object in checkpoint: (root).optimizer's state 'm' for (root).layer_with_weights-1.kernel\n",
            "WARNING:tensorflow:Unresolved object in checkpoint: (root).optimizer's state 'm' for (root).layer_with_weights-1.bias\n",
            "WARNING:tensorflow:Unresolved object in checkpoint: (root).optimizer's state 'v' for (root).layer_with_weights-0.kernel\n",
            "WARNING:tensorflow:Unresolved object in checkpoint: (root).optimizer's state 'v' for (root).layer_with_weights-0.bias\n",
            "WARNING:tensorflow:Unresolved object in checkpoint: (root).optimizer's state 'v' for (root).layer_with_weights-1.kernel\n",
            "WARNING:tensorflow:Unresolved object in checkpoint: (root).optimizer's state 'v' for (root).layer_with_weights-1.bias\n",
            "WARNING:tensorflow:A checkpoint was restored (e.g. tf.train.Checkpoint.restore or tf.keras.Model.load_weights) but not all checkpointed values were used. See above for specific issues. Use expect_partial() on the load status object, e.g. tf.train.Checkpoint.restore(...).expect_partial(), to silence these warnings, or use assert_consumed() to make the check explicit. See https://www.tensorflow.org/alpha/guide/checkpoints#loading_mechanics for details.\n",
            "WARNING:tensorflow:Unresolved object in checkpoint: (root).optimizer.iter\n",
            "WARNING:tensorflow:Unresolved object in checkpoint: (root).optimizer.beta_1\n",
            "WARNING:tensorflow:Unresolved object in checkpoint: (root).optimizer.beta_2\n",
            "WARNING:tensorflow:Unresolved object in checkpoint: (root).optimizer.decay\n",
            "WARNING:tensorflow:Unresolved object in checkpoint: (root).optimizer.learning_rate\n",
            "WARNING:tensorflow:A checkpoint was restored (e.g. tf.train.Checkpoint.restore or tf.keras.Model.load_weights) but not all checkpointed values were used. See above for specific issues. Use expect_partial() on the load status object, e.g. tf.train.Checkpoint.restore(...).expect_partial(), to silence these warnings, or use assert_consumed() to make the check explicit. See https://www.tensorflow.org/alpha/guide/checkpoints#loading_mechanics for details.\n",
            "WARNING:tensorflow:Unresolved object in checkpoint: (root).optimizer.beta_1\n",
            "WARNING:tensorflow:Unresolved object in checkpoint: (root).optimizer.beta_2\n",
            "WARNING:tensorflow:Unresolved object in checkpoint: (root).optimizer.decay\n",
            "WARNING:tensorflow:Unresolved object in checkpoint: (root).optimizer.learning_rate\n",
            "WARNING:tensorflow:Unresolved object in checkpoint: (root).optimizer's state 'm' for (root).layer_with_weights-0.kernel\n",
            "WARNING:tensorflow:Unresolved object in checkpoint: (root).optimizer's state 'm' for (root).layer_with_weights-0.bias\n",
            "WARNING:tensorflow:Unresolved object in checkpoint: (root).optimizer's state 'm' for (root).layer_with_weights-1.kernel\n",
            "WARNING:tensorflow:Unresolved object in checkpoint: (root).optimizer's state 'm' for (root).layer_with_weights-1.bias\n",
            "WARNING:tensorflow:Unresolved object in checkpoint: (root).optimizer's state 'v' for (root).layer_with_weights-0.kernel\n",
            "WARNING:tensorflow:Unresolved object in checkpoint: (root).optimizer's state 'v' for (root).layer_with_weights-0.bias\n",
            "WARNING:tensorflow:Unresolved object in checkpoint: (root).optimizer's state 'v' for (root).layer_with_weights-1.kernel\n",
            "WARNING:tensorflow:Unresolved object in checkpoint: (root).optimizer's state 'v' for (root).layer_with_weights-1.bias\n",
            "WARNING:tensorflow:A checkpoint was restored (e.g. tf.train.Checkpoint.restore or tf.keras.Model.load_weights) but not all checkpointed values were used. See above for specific issues. Use expect_partial() on the load status object, e.g. tf.train.Checkpoint.restore(...).expect_partial(), to silence these warnings, or use assert_consumed() to make the check explicit. See https://www.tensorflow.org/alpha/guide/checkpoints#loading_mechanics for details.\n",
            "WARNING:tensorflow:Unresolved object in checkpoint: (root).optimizer.iter\n",
            "WARNING:tensorflow:Unresolved object in checkpoint: (root).optimizer.beta_1\n",
            "WARNING:tensorflow:Unresolved object in checkpoint: (root).optimizer.beta_2\n",
            "WARNING:tensorflow:Unresolved object in checkpoint: (root).optimizer.decay\n",
            "WARNING:tensorflow:Unresolved object in checkpoint: (root).optimizer.learning_rate\n",
            "WARNING:tensorflow:A checkpoint was restored (e.g. tf.train.Checkpoint.restore or tf.keras.Model.load_weights) but not all checkpointed values were used. See above for specific issues. Use expect_partial() on the load status object, e.g. tf.train.Checkpoint.restore(...).expect_partial(), to silence these warnings, or use assert_consumed() to make the check explicit. See https://www.tensorflow.org/alpha/guide/checkpoints#loading_mechanics for details.\n",
            "1000/1 - 0s - loss: 0.4902 - accuracy: 0.8580\n",
            "복원된 모델의 정확도: 85.80%\n"
          ],
          "name": "stdout"
        }
      ]
    },
    {
      "cell_type": "code",
      "metadata": {
        "id": "YCmzIHeWqnas",
        "colab_type": "code",
        "colab": {}
      },
      "source": [
        "# 3번째"
      ],
      "execution_count": 0,
      "outputs": []
    },
    {
      "cell_type": "code",
      "metadata": {
        "id": "svbWpfrHqoHd",
        "colab_type": "code",
        "colab": {
          "base_uri": "https://localhost:8080/",
          "height": 751
        },
        "outputId": "859652c4-27c1-4cc6-c5d1-7a45c43c12f5"
      },
      "source": [
        "checkpoint_path = \"training_1/cp.ckpt\"\n",
        "checkpoint_dir = os.path.dirname(checkpoint_path)\n",
        "\n",
        "cp_callback = tf.keras.callbacks.ModelCheckpoint(checkpoint_path, \n",
        "                                                 save_weights_only=True,\n",
        "                                                 verbose=1)\n",
        "\n",
        "model = create_model()\n",
        "\n",
        "model.fit(train_images, train_labels,  epochs = 10,\n",
        "          validation_data = (test_images,test_labels),\n",
        "          callbacks = [cp_callback])  "
      ],
      "execution_count": 201,
      "outputs": [
        {
          "output_type": "stream",
          "text": [
            "Train on 1000 samples, validate on 1000 samples\n",
            "Epoch 1/10\n",
            " 864/1000 [========================>.....] - ETA: 0s - loss: 1.1932 - accuracy: 0.6782\n",
            "Epoch 00001: saving model to training_1/cp.ckpt\n",
            "1000/1000 [==============================] - 1s 509us/sample - loss: 1.1159 - accuracy: 0.6970 - val_loss: 0.6947 - val_accuracy: 0.7770\n",
            "Epoch 2/10\n",
            " 864/1000 [========================>.....] - ETA: 0s - loss: 0.4191 - accuracy: 0.8808\n",
            "Epoch 00002: saving model to training_1/cp.ckpt\n",
            "1000/1000 [==============================] - 0s 226us/sample - loss: 0.4145 - accuracy: 0.8800 - val_loss: 0.5185 - val_accuracy: 0.8360\n",
            "Epoch 3/10\n",
            " 896/1000 [=========================>....] - ETA: 0s - loss: 0.2704 - accuracy: 0.9319\n",
            "Epoch 00003: saving model to training_1/cp.ckpt\n",
            "1000/1000 [==============================] - 0s 218us/sample - loss: 0.2718 - accuracy: 0.9280 - val_loss: 0.5019 - val_accuracy: 0.8410\n",
            "Epoch 4/10\n",
            " 864/1000 [========================>.....] - ETA: 0s - loss: 0.2068 - accuracy: 0.9502\n",
            "Epoch 00004: saving model to training_1/cp.ckpt\n",
            "1000/1000 [==============================] - 0s 222us/sample - loss: 0.2156 - accuracy: 0.9490 - val_loss: 0.4302 - val_accuracy: 0.8660\n",
            "Epoch 5/10\n",
            " 896/1000 [=========================>....] - ETA: 0s - loss: 0.1429 - accuracy: 0.9743\n",
            "Epoch 00005: saving model to training_1/cp.ckpt\n",
            "1000/1000 [==============================] - 0s 215us/sample - loss: 0.1421 - accuracy: 0.9750 - val_loss: 0.4281 - val_accuracy: 0.8580\n",
            "Epoch 6/10\n",
            " 832/1000 [=======================>......] - ETA: 0s - loss: 0.1050 - accuracy: 0.9808\n",
            "Epoch 00006: saving model to training_1/cp.ckpt\n",
            "1000/1000 [==============================] - 0s 224us/sample - loss: 0.1081 - accuracy: 0.9790 - val_loss: 0.4108 - val_accuracy: 0.8690\n",
            "Epoch 7/10\n",
            " 832/1000 [=======================>......] - ETA: 0s - loss: 0.0829 - accuracy: 0.9880\n",
            "Epoch 00007: saving model to training_1/cp.ckpt\n",
            "1000/1000 [==============================] - 0s 228us/sample - loss: 0.0816 - accuracy: 0.9880 - val_loss: 0.4023 - val_accuracy: 0.8670\n",
            "Epoch 8/10\n",
            " 864/1000 [========================>.....] - ETA: 0s - loss: 0.0644 - accuracy: 0.9907\n",
            "Epoch 00008: saving model to training_1/cp.ckpt\n",
            "1000/1000 [==============================] - 0s 231us/sample - loss: 0.0659 - accuracy: 0.9900 - val_loss: 0.4006 - val_accuracy: 0.8730\n",
            "Epoch 9/10\n",
            " 864/1000 [========================>.....] - ETA: 0s - loss: 0.0558 - accuracy: 0.9931\n",
            "Epoch 00009: saving model to training_1/cp.ckpt\n",
            "1000/1000 [==============================] - 0s 222us/sample - loss: 0.0547 - accuracy: 0.9940 - val_loss: 0.4139 - val_accuracy: 0.8690\n",
            "Epoch 10/10\n",
            " 768/1000 [======================>.......] - ETA: 0s - loss: 0.0407 - accuracy: 0.9987\n",
            "Epoch 00010: saving model to training_1/cp.ckpt\n",
            "1000/1000 [==============================] - 0s 246us/sample - loss: 0.0389 - accuracy: 0.9990 - val_loss: 0.3991 - val_accuracy: 0.8710\n"
          ],
          "name": "stdout"
        },
        {
          "output_type": "execute_result",
          "data": {
            "text/plain": [
              "<tensorflow.python.keras.callbacks.History at 0x7f7302a9c940>"
            ]
          },
          "metadata": {
            "tags": []
          },
          "execution_count": 201
        }
      ]
    },
    {
      "cell_type": "code",
      "metadata": {
        "id": "S-yG5ktDqr6o",
        "colab_type": "code",
        "colab": {
          "base_uri": "https://localhost:8080/",
          "height": 51
        },
        "outputId": "5ce01b72-d513-41e1-f1e5-b7810d3a6520"
      },
      "source": [
        "model.load_weights(checkpoint_path)\n",
        "loss,acc = model.evaluate(test_images,  test_labels, verbose=2)\n",
        "print(\"복원된 모델의 정확도: {:5.2f}%\".format(100*acc))"
      ],
      "execution_count": 202,
      "outputs": [
        {
          "output_type": "stream",
          "text": [
            "1000/1 - 0s - loss: 0.4662 - accuracy: 0.8710\n",
            "복원된 모델의 정확도: 87.10%\n"
          ],
          "name": "stdout"
        }
      ]
    },
    {
      "cell_type": "code",
      "metadata": {
        "id": "6JGEEjxxquPl",
        "colab_type": "code",
        "colab": {
          "base_uri": "https://localhost:8080/",
          "height": 411
        },
        "outputId": "bdb5db45-508d-4ffe-a6a8-d1d6e323110d"
      },
      "source": [
        "checkpoint_path = \"training_2/cp-{epoch:04d}.ckpt\"\n",
        "checkpoint_dir = os.path.dirname(checkpoint_path)\n",
        "\n",
        "cp_callback = tf.keras.callbacks.ModelCheckpoint(\n",
        "    checkpoint_path, verbose=1, save_weights_only=True, period=5)\n",
        "\n",
        "model = create_model()\n",
        "model.save_weights(checkpoint_path.format(epoch=0))\n",
        "model.fit(train_images, train_labels,\n",
        "          epochs = 50, callbacks = [cp_callback],\n",
        "          validation_data = (test_images,test_labels),\n",
        "          verbose=0)"
      ],
      "execution_count": 203,
      "outputs": [
        {
          "output_type": "stream",
          "text": [
            "WARNING:tensorflow:`period` argument is deprecated. Please use `save_freq` to specify the frequency in number of samples seen.\n",
            "\n",
            "Epoch 00005: saving model to training_2/cp-0005.ckpt\n",
            "\n",
            "Epoch 00010: saving model to training_2/cp-0010.ckpt\n",
            "\n",
            "Epoch 00015: saving model to training_2/cp-0015.ckpt\n",
            "\n",
            "Epoch 00020: saving model to training_2/cp-0020.ckpt\n",
            "\n",
            "Epoch 00025: saving model to training_2/cp-0025.ckpt\n",
            "\n",
            "Epoch 00030: saving model to training_2/cp-0030.ckpt\n",
            "\n",
            "Epoch 00035: saving model to training_2/cp-0035.ckpt\n",
            "\n",
            "Epoch 00040: saving model to training_2/cp-0040.ckpt\n",
            "\n",
            "Epoch 00045: saving model to training_2/cp-0045.ckpt\n",
            "\n",
            "Epoch 00050: saving model to training_2/cp-0050.ckpt\n"
          ],
          "name": "stdout"
        },
        {
          "output_type": "execute_result",
          "data": {
            "text/plain": [
              "<tensorflow.python.keras.callbacks.History at 0x7f730627a240>"
            ]
          },
          "metadata": {
            "tags": []
          },
          "execution_count": 203
        }
      ]
    },
    {
      "cell_type": "code",
      "metadata": {
        "id": "26KuiaTlqwH7",
        "colab_type": "code",
        "colab": {
          "base_uri": "https://localhost:8080/",
          "height": 51
        },
        "outputId": "f73c3211-f24f-4cbb-c0ac-2084ee0f883a"
      },
      "source": [
        "latest = tf.train.latest_checkpoint(checkpoint_dir)\n",
        "\n",
        "model = create_model()\n",
        "model.load_weights(latest)\n",
        "loss, acc = model.evaluate(test_images,  test_labels, verbose=2)\n",
        "print(\"복원된 모델의 정확도: {:5.2f}%\".format(100*acc))"
      ],
      "execution_count": 204,
      "outputs": [
        {
          "output_type": "stream",
          "text": [
            "1000/1 - 0s - loss: 0.4595 - accuracy: 0.8770\n",
            "복원된 모델의 정확도: 87.70%\n"
          ],
          "name": "stdout"
        }
      ]
    },
    {
      "cell_type": "code",
      "metadata": {
        "id": "IfIG7_F5qyfp",
        "colab_type": "code",
        "colab": {
          "base_uri": "https://localhost:8080/",
          "height": 51
        },
        "outputId": "eaabeea0-29d3-47d8-bd98-ba205d4e6477"
      },
      "source": [
        "model.save_weights('./checkpoints/my_checkpoint')\n",
        "\n",
        "model = create_model()\n",
        "model.load_weights('./checkpoints/my_checkpoint')\n",
        "\n",
        "loss,acc = model.evaluate(test_images,  test_labels, verbose=2)\n",
        "print(\"복원된 모델의 정확도: {:5.2f}%\".format(100*acc))"
      ],
      "execution_count": 205,
      "outputs": [
        {
          "output_type": "stream",
          "text": [
            "1000/1 - 0s - loss: 0.4595 - accuracy: 0.8770\n",
            "복원된 모델의 정확도: 87.70%\n"
          ],
          "name": "stdout"
        }
      ]
    },
    {
      "cell_type": "code",
      "metadata": {
        "id": "gWX-8NAgq0Vl",
        "colab_type": "code",
        "colab": {
          "base_uri": "https://localhost:8080/",
          "height": 476
        },
        "outputId": "ae991b1d-c77d-4630-ad3c-a46e72156069"
      },
      "source": [
        "model = create_model()\n",
        "\n",
        "model.fit(train_images, train_labels, epochs=5)\n",
        "\n",
        "model.save('my_model.h5')\n",
        "\n",
        "new_model = keras.models.load_model('my_model.h5')\n",
        "new_model.summary()\n",
        "\n",
        "loss, acc = new_model.evaluate(test_images,  test_labels, verbose=2)\n",
        "print(\"복원된 모델의 정확도: {:5.2f}%\".format(100*acc))"
      ],
      "execution_count": 206,
      "outputs": [
        {
          "output_type": "stream",
          "text": [
            "Train on 1000 samples\n",
            "Epoch 1/5\n",
            "1000/1000 [==============================] - 0s 364us/sample - loss: 1.1442 - accuracy: 0.6750\n",
            "Epoch 2/5\n",
            "1000/1000 [==============================] - 0s 136us/sample - loss: 0.4273 - accuracy: 0.8790\n",
            "Epoch 3/5\n",
            "1000/1000 [==============================] - 0s 129us/sample - loss: 0.2775 - accuracy: 0.9280\n",
            "Epoch 4/5\n",
            "1000/1000 [==============================] - 0s 135us/sample - loss: 0.2256 - accuracy: 0.9460\n",
            "Epoch 5/5\n",
            "1000/1000 [==============================] - 0s 142us/sample - loss: 0.1531 - accuracy: 0.9680\n",
            "Model: \"sequential_32\"\n",
            "_________________________________________________________________\n",
            "Layer (type)                 Output Shape              Param #   \n",
            "=================================================================\n",
            "dense_78 (Dense)             (None, 512)               401920    \n",
            "_________________________________________________________________\n",
            "dropout_26 (Dropout)         (None, 512)               0         \n",
            "_________________________________________________________________\n",
            "dense_79 (Dense)             (None, 10)                5130      \n",
            "=================================================================\n",
            "Total params: 407,050\n",
            "Trainable params: 407,050\n",
            "Non-trainable params: 0\n",
            "_________________________________________________________________\n",
            "1000/1 - 0s - loss: 0.5325 - accuracy: 0.8550\n",
            "복원된 모델의 정확도: 85.50%\n"
          ],
          "name": "stdout"
        }
      ]
    },
    {
      "cell_type": "code",
      "metadata": {
        "id": "U6codDr2q2zE",
        "colab_type": "code",
        "colab": {
          "base_uri": "https://localhost:8080/",
          "height": 221
        },
        "outputId": "8bc83c36-780f-4b55-9034-348d0b927a52"
      },
      "source": [
        "model = create_model()\n",
        "\n",
        "model.fit(train_images, train_labels, epochs=5)"
      ],
      "execution_count": 207,
      "outputs": [
        {
          "output_type": "stream",
          "text": [
            "Train on 1000 samples\n",
            "Epoch 1/5\n",
            "1000/1000 [==============================] - 0s 345us/sample - loss: 1.1839 - accuracy: 0.6480\n",
            "Epoch 2/5\n",
            "1000/1000 [==============================] - 0s 129us/sample - loss: 0.4255 - accuracy: 0.8740\n",
            "Epoch 3/5\n",
            "1000/1000 [==============================] - 0s 138us/sample - loss: 0.2875 - accuracy: 0.9270\n",
            "Epoch 4/5\n",
            "1000/1000 [==============================] - 0s 133us/sample - loss: 0.2241 - accuracy: 0.9400\n",
            "Epoch 5/5\n",
            "1000/1000 [==============================] - 0s 138us/sample - loss: 0.1570 - accuracy: 0.9610\n"
          ],
          "name": "stdout"
        },
        {
          "output_type": "execute_result",
          "data": {
            "text/plain": [
              "<tensorflow.python.keras.callbacks.History at 0x7f73063d0cf8>"
            ]
          },
          "metadata": {
            "tags": []
          },
          "execution_count": 207
        }
      ]
    },
    {
      "cell_type": "code",
      "metadata": {
        "id": "_0WyHozuq5DD",
        "colab_type": "code",
        "colab": {
          "base_uri": "https://localhost:8080/",
          "height": 425
        },
        "outputId": "fec5b338-2607-43b7-d8c6-2dde407f1432"
      },
      "source": [
        "saved_model_path = \"./saved_models/{}\".format(int(time.time()))\n",
        "\n",
        "tf.keras.experimental.export_saved_model(model, saved_model_path)"
      ],
      "execution_count": 208,
      "outputs": [
        {
          "output_type": "stream",
          "text": [
            "INFO:tensorflow:Signatures INCLUDED in export for Classify: None\n",
            "INFO:tensorflow:Signatures INCLUDED in export for Regress: None\n",
            "INFO:tensorflow:Signatures INCLUDED in export for Predict: None\n",
            "INFO:tensorflow:Signatures INCLUDED in export for Train: ['train']\n",
            "INFO:tensorflow:Signatures INCLUDED in export for Eval: None\n",
            "WARNING:tensorflow:Export includes no default signature!\n",
            "INFO:tensorflow:No assets to save.\n",
            "INFO:tensorflow:No assets to write.\n",
            "INFO:tensorflow:Signatures INCLUDED in export for Classify: None\n",
            "INFO:tensorflow:Signatures INCLUDED in export for Regress: None\n",
            "INFO:tensorflow:Signatures INCLUDED in export for Predict: None\n",
            "INFO:tensorflow:Signatures INCLUDED in export for Train: None\n",
            "INFO:tensorflow:Signatures INCLUDED in export for Eval: ['eval']\n",
            "WARNING:tensorflow:Export includes no default signature!\n",
            "INFO:tensorflow:No assets to save.\n",
            "INFO:tensorflow:No assets to write.\n",
            "INFO:tensorflow:Signatures INCLUDED in export for Classify: None\n",
            "INFO:tensorflow:Signatures INCLUDED in export for Regress: None\n",
            "INFO:tensorflow:Signatures INCLUDED in export for Predict: ['serving_default']\n",
            "INFO:tensorflow:Signatures INCLUDED in export for Train: None\n",
            "INFO:tensorflow:Signatures INCLUDED in export for Eval: None\n",
            "INFO:tensorflow:No assets to save.\n",
            "INFO:tensorflow:No assets to write.\n",
            "INFO:tensorflow:SavedModel written to: ./saved_models/1576331361/saved_model.pb\n"
          ],
          "name": "stdout"
        }
      ]
    },
    {
      "cell_type": "code",
      "metadata": {
        "id": "jofrLRp-q7zW",
        "colab_type": "code",
        "colab": {
          "base_uri": "https://localhost:8080/",
          "height": 581
        },
        "outputId": "38b1ba8d-a7b7-43a3-94d2-43fc4818398e"
      },
      "source": [
        "new_model = tf.keras.experimental.load_from_saved_model(saved_model_path)\n",
        "new_model.compile(optimizer=model.optimizer, \n",
        "                  loss='sparse_categorical_crossentropy',\n",
        "                  metrics=['accuracy'])\n",
        "\n",
        "loss, acc = new_model.evaluate(test_images,  test_labels, verbose=2)\n",
        "print(\"복원된 모델의 정확도: {:5.2f}%\".format(100*acc))"
      ],
      "execution_count": 210,
      "outputs": [
        {
          "output_type": "stream",
          "text": [
            "WARNING:tensorflow:Unresolved object in checkpoint: (root).optimizer\n",
            "WARNING:tensorflow:Unresolved object in checkpoint: (root).optimizer.iter\n",
            "WARNING:tensorflow:Unresolved object in checkpoint: (root).optimizer.beta_1\n",
            "WARNING:tensorflow:Unresolved object in checkpoint: (root).optimizer.beta_2\n",
            "WARNING:tensorflow:Unresolved object in checkpoint: (root).optimizer.decay\n",
            "WARNING:tensorflow:Unresolved object in checkpoint: (root).optimizer.learning_rate\n",
            "WARNING:tensorflow:Unresolved object in checkpoint: (root).optimizer's state 'm' for (root).layer_with_weights-0.kernel\n",
            "WARNING:tensorflow:Unresolved object in checkpoint: (root).optimizer's state 'm' for (root).layer_with_weights-0.bias\n",
            "WARNING:tensorflow:Unresolved object in checkpoint: (root).optimizer's state 'm' for (root).layer_with_weights-1.kernel\n",
            "WARNING:tensorflow:Unresolved object in checkpoint: (root).optimizer's state 'm' for (root).layer_with_weights-1.bias\n",
            "WARNING:tensorflow:Unresolved object in checkpoint: (root).optimizer's state 'v' for (root).layer_with_weights-0.kernel\n",
            "WARNING:tensorflow:Unresolved object in checkpoint: (root).optimizer's state 'v' for (root).layer_with_weights-0.bias\n",
            "WARNING:tensorflow:Unresolved object in checkpoint: (root).optimizer's state 'v' for (root).layer_with_weights-1.kernel\n",
            "WARNING:tensorflow:Unresolved object in checkpoint: (root).optimizer's state 'v' for (root).layer_with_weights-1.bias\n",
            "WARNING:tensorflow:A checkpoint was restored (e.g. tf.train.Checkpoint.restore or tf.keras.Model.load_weights) but not all checkpointed values were used. See above for specific issues. Use expect_partial() on the load status object, e.g. tf.train.Checkpoint.restore(...).expect_partial(), to silence these warnings, or use assert_consumed() to make the check explicit. See https://www.tensorflow.org/alpha/guide/checkpoints#loading_mechanics for details.\n",
            "WARNING:tensorflow:Unresolved object in checkpoint: (root).optimizer\n",
            "WARNING:tensorflow:Unresolved object in checkpoint: (root).optimizer.iter\n",
            "WARNING:tensorflow:Unresolved object in checkpoint: (root).optimizer.beta_1\n",
            "WARNING:tensorflow:Unresolved object in checkpoint: (root).optimizer.beta_2\n",
            "WARNING:tensorflow:Unresolved object in checkpoint: (root).optimizer.decay\n",
            "WARNING:tensorflow:Unresolved object in checkpoint: (root).optimizer.learning_rate\n",
            "WARNING:tensorflow:Unresolved object in checkpoint: (root).optimizer's state 'm' for (root).layer_with_weights-0.kernel\n",
            "WARNING:tensorflow:Unresolved object in checkpoint: (root).optimizer's state 'm' for (root).layer_with_weights-0.bias\n",
            "WARNING:tensorflow:Unresolved object in checkpoint: (root).optimizer's state 'm' for (root).layer_with_weights-1.kernel\n",
            "WARNING:tensorflow:Unresolved object in checkpoint: (root).optimizer's state 'm' for (root).layer_with_weights-1.bias\n",
            "WARNING:tensorflow:Unresolved object in checkpoint: (root).optimizer's state 'v' for (root).layer_with_weights-0.kernel\n",
            "WARNING:tensorflow:Unresolved object in checkpoint: (root).optimizer's state 'v' for (root).layer_with_weights-0.bias\n",
            "WARNING:tensorflow:Unresolved object in checkpoint: (root).optimizer's state 'v' for (root).layer_with_weights-1.kernel\n",
            "WARNING:tensorflow:Unresolved object in checkpoint: (root).optimizer's state 'v' for (root).layer_with_weights-1.bias\n",
            "WARNING:tensorflow:A checkpoint was restored (e.g. tf.train.Checkpoint.restore or tf.keras.Model.load_weights) but not all checkpointed values were used. See above for specific issues. Use expect_partial() on the load status object, e.g. tf.train.Checkpoint.restore(...).expect_partial(), to silence these warnings, or use assert_consumed() to make the check explicit. See https://www.tensorflow.org/alpha/guide/checkpoints#loading_mechanics for details.\n",
            "1000/1 - 0s - loss: 0.4742 - accuracy: 0.8660\n",
            "복원된 모델의 정확도: 86.60%\n"
          ],
          "name": "stdout"
        }
      ]
    },
    {
      "cell_type": "code",
      "metadata": {
        "id": "NSV1C6exq-in",
        "colab_type": "code",
        "colab": {}
      },
      "source": [
        ""
      ],
      "execution_count": 0,
      "outputs": []
    }
  ]
}